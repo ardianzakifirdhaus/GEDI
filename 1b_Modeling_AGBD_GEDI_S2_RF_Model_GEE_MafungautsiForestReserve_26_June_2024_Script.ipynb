{
  "cells": [
    {
      "cell_type": "markdown",
      "metadata": {
        "id": "view-in-github",
        "colab_type": "text"
      },
      "source": [
        "<a href=\"https://colab.research.google.com/github/ck1972/Python-Geospatial_Model1/blob/main/1b_Modeling_AGBD_GEDI_S2_RF_Model_GEE_MafungautsiForestReserve_26_June_2024_Script.ipynb\" target=\"_parent\"><img src=\"https://colab.research.google.com/assets/colab-badge.svg\" alt=\"Open In Colab\"/></a>"
      ]
    },
    {
      "cell_type": "markdown",
      "metadata": {
        "id": "SncSpvGm2VUS"
      },
      "source": [
        "# Modeling Aboveground Biomass Density Using GEDI, Sentinel-2, and Machine Learning: An Introductory Guide with Python\n",
        "## Procedure\n",
        "\n",
        "Following are the steps to model AGBD."
      ]
    },
    {
      "cell_type": "markdown",
      "metadata": {
        "id": "DoerQ1ama7Fh"
      },
      "source": [
        "# Initialize and Authenticate Earth Engine\n"
      ]
    },
    {
      "cell_type": "code",
      "execution_count": null,
      "metadata": {
        "id": "7a6_vlZcOZPU"
      },
      "outputs": [],
      "source": [
        "# Import the API\n",
        "import ee"
      ]
    },
    {
      "cell_type": "code",
      "execution_count": null,
      "metadata": {
        "id": "0hGRqMB4PN7N"
      },
      "outputs": [],
      "source": [
        "# Trigger the authentication flow.\n",
        "ee.Authenticate()\n",
        "\n",
        "# Initialize the library.\n",
        "ee.Initialize(project='XX') # Input your details"
      ]
    },
    {
      "cell_type": "markdown",
      "metadata": {
        "id": "MrtVNOBPdiw8"
      },
      "source": [
        "# Install and Import Other Libraries\n"
      ]
    },
    {
      "cell_type": "code",
      "execution_count": null,
      "metadata": {
        "id": "vhqn9KGvS4Bi"
      },
      "outputs": [],
      "source": [
        "# Import other libraries\n",
        "import geemap\n",
        "import matplotlib.pyplot as plt\n",
        "import numpy as np\n",
        "from sklearn.metrics import mean_squared_error, r2_score\n",
        "from geemap import chart"
      ]
    },
    {
      "cell_type": "markdown",
      "metadata": {
        "id": "aGvWL3O0eSnC"
      },
      "source": [
        "# Import Datasets\n",
        "## Import the project boundary\n"
      ]
    },
    {
      "cell_type": "code",
      "execution_count": null,
      "metadata": {
        "id": "PMbEKyQB7SSo",
        "colab": {
          "base_uri": "https://localhost:8080/",
          "height": 17
        },
        "outputId": "e8d251d9-dfae-4f38-b77e-89a15021ef2d"
      },
      "outputs": [
        {
          "output_type": "display_data",
          "data": {
            "text/plain": [
              "<IPython.core.display.HTML object>"
            ],
            "text/html": [
              "\n",
              "            <style>\n",
              "                .geemap-dark {\n",
              "                    --jp-widgets-color: white;\n",
              "                    --jp-widgets-label-color: white;\n",
              "                    --jp-ui-font-color1: white;\n",
              "                    --jp-layout-color2: #454545;\n",
              "                    background-color: #383838;\n",
              "                }\n",
              "\n",
              "                .geemap-dark .jupyter-button {\n",
              "                    --jp-layout-color3: #383838;\n",
              "                }\n",
              "\n",
              "                .geemap-colab {\n",
              "                    background-color: var(--colab-primary-surface-color, white);\n",
              "                }\n",
              "\n",
              "                .geemap-colab .jupyter-button {\n",
              "                    --jp-layout-color3: var(--colab-primary-surface-color, white);\n",
              "                }\n",
              "            </style>\n",
              "            "
            ]
          },
          "metadata": {}
        }
      ],
      "source": [
        "# Define the boundary for Mafungabusi forest reserve\n",
        "boundary = ee.FeatureCollection('WCMC/WDPA/current/polygons') \\\n",
        "    .filter(ee.Filter.inList('NAME', ['Mafungabusi']))"
      ]
    },
    {
      "cell_type": "markdown",
      "metadata": {
        "id": "xg16ETZke8oU"
      },
      "source": [
        "## Create Sentinel-2 composite and calculate spectral indices\n",
        "The sentinel-2 mission is a significant advancement in remote sensing, offering a wide-swath, high-resolution, multispectral imaging capability with a global 5-day revisit frequency. The Sentinel-2 Multispectral Instrument (MSI) is equipped with 13 spectral bands, providing a comprehensive view of the Earth's surface. These bands are distributed as four at 10 meters, six at 20 meters, and three at 60 meters spatial resolution. For more detailed information about the Sentinel-2 mission, please visit https://sentinel.esa.int/web/sentinel/missions/sentinel-2.\n"
      ]
    },
    {
      "cell_type": "code",
      "execution_count": null,
      "metadata": {
        "colab": {
          "base_uri": "https://localhost:8080/",
          "height": 621,
          "referenced_widgets": [
            "1f968c38b70b4c20a70d66c91a13c388",
            "2aec0ce1e35745f79d6afea39e20d43b",
            "cf47c74d12c9445cacadf37a01adbed0",
            "f8866c3921f94550837c3681be053c09",
            "d0b0ae6a74734d3189e7d4ac7f341532",
            "b19360c5dd2a42289e0bc21b7c219f8f",
            "3c3282cefdc4446fb01d9e0cc3b7a705",
            "5c454c80d26d4654bdad87fac60dff79",
            "660782035af842deab732daba772e4c3",
            "b570dfd805b9428fa4f671212b0490ca",
            "90184eda6cc24dc8bfff91e98d448501",
            "37d77276e6c64e56899e010aaf650ae7",
            "054ff1b56f6f49fd9ebdf4f4f1207e5a",
            "7c524eeee879494ab87f386cb9d0ee05",
            "1be8ec0335ac4ee686d821b1cca64d15",
            "602fd45b52de4b779a6f9d4bb298e4fd",
            "a32d4798b2d7466b9e7b00eeaef89980",
            "ad49951cc2464664b1b957087769c831",
            "2d74e143cc01478da6c26b3adddf4b9e",
            "877850273a16474f927b96ed48fc5b1f",
            "5f0ed22d969c4855a8166259c40659f9",
            "53dee5793b964e33b6f492285299b568",
            "a2a7306e9a814dec8b0b22032c60dd10",
            "ac83f9b2c1ce493f89f07d58bb32a2cd",
            "e416486cbe714b5d91698a21d417bbfc",
            "cafdf511ef7647cc885bc8f6fca350ef"
          ]
        },
        "id": "2JTcL84Xqf5U",
        "outputId": "089d537e-3968-4c46-f3d2-7829d3c9ef41"
      },
      "outputs": [
        {
          "output_type": "display_data",
          "data": {
            "text/plain": [
              "<IPython.core.display.HTML object>"
            ],
            "text/html": [
              "\n",
              "            <style>\n",
              "                .geemap-dark {\n",
              "                    --jp-widgets-color: white;\n",
              "                    --jp-widgets-label-color: white;\n",
              "                    --jp-ui-font-color1: white;\n",
              "                    --jp-layout-color2: #454545;\n",
              "                    background-color: #383838;\n",
              "                }\n",
              "\n",
              "                .geemap-dark .jupyter-button {\n",
              "                    --jp-layout-color3: #383838;\n",
              "                }\n",
              "\n",
              "                .geemap-colab {\n",
              "                    background-color: var(--colab-primary-surface-color, white);\n",
              "                }\n",
              "\n",
              "                .geemap-colab .jupyter-button {\n",
              "                    --jp-layout-color3: var(--colab-primary-surface-color, white);\n",
              "                }\n",
              "            </style>\n",
              "            "
            ]
          },
          "metadata": {}
        },
        {
          "output_type": "display_data",
          "data": {
            "text/plain": [
              "Map(center=[-18.43596873133084, 28.869046137098042], controls=(WidgetControl(options=['position', 'transparent…"
            ],
            "application/vnd.jupyter.widget-view+json": {
              "version_major": 2,
              "version_minor": 0,
              "model_id": "1f968c38b70b4c20a70d66c91a13c388"
            }
          },
          "metadata": {
            "application/vnd.jupyter.widget-view+json": {
              "colab": {
                "custom_widget_manager": {
                  "url": "https://ssl.gstatic.com/colaboratory-static/widgets/colab-cdn-widget-manager/2b70e893a8ba7c0f/manager.min.js"
                }
              }
            }
          }
        }
      ],
      "source": [
        "# Load Sentinel-2 spectral reflectance data.\n",
        "s2 = ee.ImageCollection('COPERNICUS/S2_SR_HARMONIZED')\n",
        "\n",
        "# Create a function to mask clouds using the Sentinel-2 QA band.\n",
        "def maskS2clouds(image):\n",
        "    qa = image.select('QA60')\n",
        "    # Bits 10 and 11 are clouds and cirrus, respectively.\n",
        "    cloudBitMask = ee.Number(2).pow(10).int()\n",
        "    cirrusBitMask = ee.Number(2).pow(11).int()\n",
        "    # Both flags should be set to zero, indicating clear conditions.\n",
        "    mask = qa.bitwiseAnd(cloudBitMask).eq(0).And(\n",
        "        qa.bitwiseAnd(cirrusBitMask).eq(0))\n",
        "    # Return the masked and scaled data.\n",
        "    return image.updateMask(mask).divide(10000)\n",
        "\n",
        "# Initialize our map.\n",
        "map1 = geemap.Map()\n",
        "map1.centerObject(boundary, 12)\n",
        "\n",
        "# Create a single composite image for all years.\n",
        "start_date = '2022-01-01'\n",
        "end_date = '2022-04-30'\n",
        "\n",
        "# Filter clouds from Sentinel-2 for the given period.\n",
        "composite = s2.filterDate(start_date, end_date) \\\n",
        "    .filter(ee.Filter.lt('CLOUDY_PIXEL_PERCENTAGE', 20)) \\\n",
        "    .map(maskS2clouds) \\\n",
        "    .select(['B2', 'B3', 'B4', 'B5', 'B6', 'B7', 'B8', 'B11', 'B12'])  # Select bands for display\n",
        "\n",
        "# Compute the median composite and clip to the boundary.\n",
        "S2_composite = composite.median().clip(boundary)\n",
        "\n",
        "# Add the composite image to the map with specified display settings.\n",
        "map1.addLayer(S2_composite, {'bands': ['B11', 'B8', 'B3'], 'min': 0, 'max': 0.3}, 'Sentinel-2 Composite')\n",
        "\n",
        "# Display the map with layer control.\n",
        "map1.addLayerControl()\n",
        "map1"
      ]
    },
    {
      "cell_type": "markdown",
      "source": [
        "## Compute spectral indices\n",
        "Next, calculate NDVI, SAVI, and the Red Edge Spectral Index (RESI)."
      ],
      "metadata": {
        "id": "IwNqBjO-M1Qb"
      }
    },
    {
      "cell_type": "code",
      "source": [
        "# Calculate NDVI\n",
        "ndvi = S2_composite.normalizedDifference(['B8', 'B4']).rename('NDVI')\n",
        "\n",
        "# Calculate SAVI.\n",
        "L = 0.5  # Soil adjustment factor, typically between 0 and 1\n",
        "savi = S2_composite.expression(\n",
        "    '((NIR - Red) / (NIR + Red + L)) * (1 + L)', {\n",
        "        'NIR': S2_composite.select('B8'),\n",
        "        'Red': S2_composite.select('B4'),\n",
        "        'L': L\n",
        "    }).rename('SAVI')\n",
        "\n",
        "# Calculate RESI\n",
        "resi = S2_composite.expression(\n",
        "    '((RE3 + RE2 - RE1) / (RE3 + RE2 + RE1))', {\n",
        "        'RE1': S2_composite.select('B5'),\n",
        "        'RE2': S2_composite.select('B6'),\n",
        "        'RE3': S2_composite.select('B7')\n",
        "    }).rename('RESI')\n",
        "\n",
        "# Initialize our map.\n",
        "map2 = geemap.Map()\n",
        "map2.centerObject(boundary, 12)\n",
        "\n",
        "# Add the NDVI and RESI layers to the map.\n",
        "map2.addLayer(ndvi, {'min': -1, 'max': 1, 'palette': ['blue', 'white', 'green']}, 'NDVI')\n",
        "map2.addLayer(savi, {'min': -1, 'max': 1, 'palette': ['blue', 'white', 'green']}, 'SAVI')\n",
        "map2.addLayer(resi, {'min': -1, 'max': 1, 'palette': ['blue', 'white', 'green']}, 'RESI')\n",
        "\n",
        "# Display the map with layer control.\n",
        "map2.addLayerControl()\n",
        "map2"
      ],
      "metadata": {
        "colab": {
          "base_uri": "https://localhost:8080/",
          "height": 621,
          "referenced_widgets": [
            "1386974b9adf47babd839393c69f00a8",
            "1c0d49022c694d70af4d64535ff26645",
            "2a754bad3bac4a2a9d84d894b5a54142",
            "9121defe2d344235b2ad0ef03d47bc80",
            "ba398ff0c4b64f89b4a3217e7cfe636b",
            "451e29e5835d4dd2ba8ab7c9d64d9b30",
            "aca00ca75df143d7ac576a0fe078e2ba",
            "7fed373be54d485c8f01a5165bf1cd99",
            "d8e2926153164a13bd14490b4b5e9c2d",
            "b4cb096a63c04160a665d976a3eb1930",
            "301a321acb67421087f1f0d134d32045",
            "0726a1e063204c0db13ac8aa3bba0bce",
            "4f2f7ecfa94e491bae602bf7edb4019d",
            "857c7a1397ad4d23ab4688d919445da8",
            "a766ee22d9b941499e2c125c2559f677",
            "8a328b9d830c4fd5ab5047470e6b39a2",
            "7ad0b93041174dd18bfbf52590803a87",
            "90852d0be14c4b458aee623e7cc50a93",
            "56650a7866d9441d9e3803dde7fef758",
            "2cd10f3e1ff94b6d986369b073acf33c",
            "8e9a7816c0cf4053a70eafab465fb482",
            "e645fcbbc106416582c20020d90792cb",
            "fa5c620c10b345e1a158f29d07f836c4",
            "627b3ffd2a5f4f2292786ed7e585fa68",
            "e3299ba47b7d49189f0d7856f062a7dc",
            "22e4e4691eea4efebd79c931a427f84a",
            "4b2fd60719544b328cacb5528afaa90a",
            "b333e6cdb5264532a7ea65ff0c17294f"
          ]
        },
        "id": "Ahku4pIlOMO4",
        "outputId": "4cda6cea-3312-48fe-db69-3f44a534b92e"
      },
      "execution_count": null,
      "outputs": [
        {
          "output_type": "display_data",
          "data": {
            "text/plain": [
              "<IPython.core.display.HTML object>"
            ],
            "text/html": [
              "\n",
              "            <style>\n",
              "                .geemap-dark {\n",
              "                    --jp-widgets-color: white;\n",
              "                    --jp-widgets-label-color: white;\n",
              "                    --jp-ui-font-color1: white;\n",
              "                    --jp-layout-color2: #454545;\n",
              "                    background-color: #383838;\n",
              "                }\n",
              "\n",
              "                .geemap-dark .jupyter-button {\n",
              "                    --jp-layout-color3: #383838;\n",
              "                }\n",
              "\n",
              "                .geemap-colab {\n",
              "                    background-color: var(--colab-primary-surface-color, white);\n",
              "                }\n",
              "\n",
              "                .geemap-colab .jupyter-button {\n",
              "                    --jp-layout-color3: var(--colab-primary-surface-color, white);\n",
              "                }\n",
              "            </style>\n",
              "            "
            ]
          },
          "metadata": {}
        },
        {
          "output_type": "display_data",
          "data": {
            "text/plain": [
              "Map(center=[-18.43596873133084, 28.869046137098042], controls=(WidgetControl(options=['position', 'transparent…"
            ],
            "application/vnd.jupyter.widget-view+json": {
              "version_major": 2,
              "version_minor": 0,
              "model_id": "1386974b9adf47babd839393c69f00a8"
            }
          },
          "metadata": {
            "application/vnd.jupyter.widget-view+json": {
              "colab": {
                "custom_widget_manager": {
                  "url": "https://ssl.gstatic.com/colaboratory-static/widgets/colab-cdn-widget-manager/2b70e893a8ba7c0f/manager.min.js"
                }
              }
            }
          }
        }
      ]
    },
    {
      "cell_type": "markdown",
      "metadata": {
        "id": "edhZC3zFf-0g"
      },
      "source": [
        "## Load other datasets\n",
        "Import other datasets such as the Shuttle Radar Topography Mission (SRTM) digital elevation model (DEM). Add the SRTM DEM data and calculate the slope."
      ]
    },
    {
      "cell_type": "code",
      "source": [
        "# Load SRTM DEM\n",
        "SRTM = ee.Image(\"USGS/SRTMGL1_003\")\n",
        "\n",
        "# Clip Elevation to the boundary\n",
        "elevation = SRTM.clip(boundary)\n",
        "\n",
        "# Derive slope from the SRTM\n",
        "slope = ee.Terrain.slope(SRTM).clip(boundary)\n",
        "\n",
        "# Compute the minimum and maximum elevation values within the boundary.\n",
        "min_elevation = elevation.reduceRegion(\n",
        "    reducer=ee.Reducer.min(),\n",
        "    geometry=boundary,\n",
        "    scale=30,\n",
        "    maxPixels=1e9\n",
        ").get('elevation').getInfo()\n",
        "\n",
        "max_elevation = elevation.reduceRegion(\n",
        "    reducer=ee.Reducer.max(),\n",
        "    geometry=boundary,\n",
        "    scale=30,\n",
        "    maxPixels=1e9\n",
        ").get('elevation').getInfo()\n",
        "\n",
        "print(f\"Min Elevation: {min_elevation}, Max Elevation: {max_elevation}\")\n",
        "\n",
        "# Initialize our map.\n",
        "map4 = geemap.Map()\n",
        "map4.centerObject(boundary, 12)\n",
        "\n",
        "# Define attractive color gradients for elevation and slope\n",
        "elevationPalette = ['006633', '99cc00', 'ffff00', 'ff9900', 'ff6600', 'ff3333', 'ff0000', 'cc0000', '990000', '660000', '330000', '000000']\n",
        "slopePalette = ['440154', '482878', '3E4A89', '31688E', '26838F', '1F9D8A', '6CCE59', 'B6DE2B', 'FDE724']\n",
        "\n",
        "# Add elevation layer to the map with new palette\n",
        "vis_params_elevation = {'min': min_elevation, 'max': max_elevation, 'palette': elevationPalette}\n",
        "map4.addLayer(elevation, vis_params_elevation, 'Elevation')\n",
        "\n",
        "# Add slope layer to the map with new palette\n",
        "vis_params_slope = {'min': 0, 'max': 60, 'palette': slopePalette}\n",
        "map4.addLayer(slope, vis_params_slope, 'Slope')\n",
        "\n",
        "# Display the map with layer control.\n",
        "map4.addLayerControl()\n",
        "map4"
      ],
      "metadata": {
        "colab": {
          "base_uri": "https://localhost:8080/",
          "height": 638,
          "referenced_widgets": [
            "e352da2b50394383a9ebb4d3cf46d7bb",
            "01adc297dfca4378bff578bb1bbfacdc",
            "b39b7efb88354187b312dddcdfbdea5c",
            "374ee3065a7c4f7ab04d18fe4cf0b09c",
            "a15805198bef453289420b356bfd6e7e",
            "7fb3d13912654b06ba15bcca1fdb653f",
            "de676cdff26344e4982a4fbff8aef499",
            "d082d2be6b6f4a3bbe5765b6c8d00a67",
            "e57047e3656d481e901e77d07bee4520",
            "22a11648c7964636a118a660e26128ee",
            "846b61eae31f425da83723a668b4e4a5",
            "fa04b5fa369d46c6a035d131ebdd188d",
            "19ebbaba884a4198917df58260ab16a1",
            "2216e1e9c0504030904a7792dc57fb61",
            "a327f38d8ed04f9594cbdb38ae8daa1a",
            "6d5c7ebb7ace47aeb8caf0fd154f9d1f",
            "f63494728e7c49b7a7196a57772896db",
            "6748e214670a47e2846f65bd25658ae5",
            "300af53740ed4f6b9283c37b31082c13",
            "6acd81fa7d834b4c80afb51db594dcfb",
            "3121e7e94d804365bb3d4838e4edc872",
            "0a837e5e1ae142d29f75bfb822ccf5c4",
            "9cb557909b1f456ab3a07e1cfddc23fa",
            "36b3f630a054463eac5a8337cb8481b0",
            "e5208095ded94f26b685c5ad76f15973",
            "7b6a705053b346a390d6153f0cc68238",
            "68d6ee5a728940bc8689d02fe6fcd9ff"
          ]
        },
        "id": "N0yYxI51RcCt",
        "outputId": "76c8b9f6-16e5-4f5b-9287-81c8929472e1"
      },
      "execution_count": null,
      "outputs": [
        {
          "output_type": "display_data",
          "data": {
            "text/plain": [
              "<IPython.core.display.HTML object>"
            ],
            "text/html": [
              "\n",
              "            <style>\n",
              "                .geemap-dark {\n",
              "                    --jp-widgets-color: white;\n",
              "                    --jp-widgets-label-color: white;\n",
              "                    --jp-ui-font-color1: white;\n",
              "                    --jp-layout-color2: #454545;\n",
              "                    background-color: #383838;\n",
              "                }\n",
              "\n",
              "                .geemap-dark .jupyter-button {\n",
              "                    --jp-layout-color3: #383838;\n",
              "                }\n",
              "\n",
              "                .geemap-colab {\n",
              "                    background-color: var(--colab-primary-surface-color, white);\n",
              "                }\n",
              "\n",
              "                .geemap-colab .jupyter-button {\n",
              "                    --jp-layout-color3: var(--colab-primary-surface-color, white);\n",
              "                }\n",
              "            </style>\n",
              "            "
            ]
          },
          "metadata": {}
        },
        {
          "output_type": "stream",
          "name": "stdout",
          "text": [
            "Min Elevation: 1112, Max Elevation: 1341\n"
          ]
        },
        {
          "output_type": "display_data",
          "data": {
            "text/plain": [
              "Map(center=[-18.43596873133084, 28.869046137098042], controls=(WidgetControl(options=['position', 'transparent…"
            ],
            "application/vnd.jupyter.widget-view+json": {
              "version_major": 2,
              "version_minor": 0,
              "model_id": "e352da2b50394383a9ebb4d3cf46d7bb"
            }
          },
          "metadata": {
            "application/vnd.jupyter.widget-view+json": {
              "colab": {
                "custom_widget_manager": {
                  "url": "https://ssl.gstatic.com/colaboratory-static/widgets/colab-cdn-widget-manager/2b70e893a8ba7c0f/manager.min.js"
                }
              }
            }
          }
        }
      ]
    },
    {
      "cell_type": "markdown",
      "metadata": {
        "id": "DJgolGTMhGHs"
      },
      "source": [
        "# Prepare datasets for modeling\n",
        "## Merge all predictor variables\n",
        "Combine Sentinel-2 bands, spectral indices (NDVI, SAVI, RESI), elevation (SRTM DEM), and slope."
      ]
    },
    {
      "cell_type": "code",
      "execution_count": null,
      "metadata": {
        "id": "Ml1Nu_4ZcYp5",
        "colab": {
          "base_uri": "https://localhost:8080/",
          "height": 17
        },
        "outputId": "abe2cde6-a17f-4973-ecc0-96bc2ef0ef1c"
      },
      "outputs": [
        {
          "output_type": "display_data",
          "data": {
            "text/plain": [
              "<IPython.core.display.HTML object>"
            ],
            "text/html": [
              "\n",
              "            <style>\n",
              "                .geemap-dark {\n",
              "                    --jp-widgets-color: white;\n",
              "                    --jp-widgets-label-color: white;\n",
              "                    --jp-ui-font-color1: white;\n",
              "                    --jp-layout-color2: #454545;\n",
              "                    background-color: #383838;\n",
              "                }\n",
              "\n",
              "                .geemap-dark .jupyter-button {\n",
              "                    --jp-layout-color3: #383838;\n",
              "                }\n",
              "\n",
              "                .geemap-colab {\n",
              "                    background-color: var(--colab-primary-surface-color, white);\n",
              "                }\n",
              "\n",
              "                .geemap-colab .jupyter-button {\n",
              "                    --jp-layout-color3: var(--colab-primary-surface-color, white);\n",
              "                }\n",
              "            </style>\n",
              "            "
            ]
          },
          "metadata": {}
        }
      ],
      "source": [
        "# Merge the predictor variables\n",
        "mergedCollection = (\n",
        "    S2_composite\n",
        "    .addBands(ndvi)\n",
        "    .addBands(savi)\n",
        "    .addBands(resi)\n",
        "    .addBands(elevation)\n",
        "    .addBands(slope)\n",
        ")\n",
        "\n",
        "# Clip the output image to the farm boundary\n",
        "clippedmergedCollection = mergedCollection.clipToCollection(boundary)\n",
        "\n",
        "# Bands to include in the regression\n",
        "bands = ['B2', 'B3', 'B4', 'B5', 'B6', 'B7', 'B8', 'B11', 'B12','NDVI', 'SAVI','RESI', 'elevation', 'slope']"
      ]
    },
    {
      "cell_type": "markdown",
      "metadata": {
        "id": "UeKeGTALh_yo"
      },
      "source": [
        "## Extract AGBD from GEDI Level 4A\n",
        "Derive aboveground biomass density (AGBD) from GEDI Level 4A (L4A) dataset. This dataset contains AGBD predictions in Mg/ha. More information about this dataset is available at: https://developers.google.com/earth-engine/datasets/catalog/LARSE_GEDI_GEDI04_A_002."
      ]
    },
    {
      "cell_type": "code",
      "execution_count": null,
      "metadata": {
        "colab": {
          "base_uri": "https://localhost:8080/",
          "height": 139
        },
        "id": "scPD4ZaSIHLD",
        "outputId": "33310d60-6adc-4c93-8f44-6624ab816884"
      },
      "outputs": [
        {
          "output_type": "display_data",
          "data": {
            "text/plain": [
              "<IPython.core.display.HTML object>"
            ],
            "text/html": [
              "\n",
              "            <style>\n",
              "                .geemap-dark {\n",
              "                    --jp-widgets-color: white;\n",
              "                    --jp-widgets-label-color: white;\n",
              "                    --jp-ui-font-color1: white;\n",
              "                    --jp-layout-color2: #454545;\n",
              "                    background-color: #383838;\n",
              "                }\n",
              "\n",
              "                .geemap-dark .jupyter-button {\n",
              "                    --jp-layout-color3: #383838;\n",
              "                }\n",
              "\n",
              "                .geemap-colab {\n",
              "                    background-color: var(--colab-primary-surface-color, white);\n",
              "                }\n",
              "\n",
              "                .geemap-colab .jupyter-button {\n",
              "                    --jp-layout-color3: var(--colab-primary-surface-color, white);\n",
              "                }\n",
              "            </style>\n",
              "            "
            ]
          },
          "metadata": {}
        },
        {
          "output_type": "stream",
          "name": "stdout",
          "text": [
            "Mean AGBD: 48.367950593501334\n",
            "Median AGBD: 49.93551430737305\n",
            "Standard Deviation AGBD: 29.222289568449167\n",
            "Minimum AGBD: 0.8707129955291748\n",
            "Maximum AGBD: 228.418274\n",
            "4632\n",
            "{'type': 'Feature', 'geometry': {'geodesic': False, 'type': 'Point', 'coordinates': [28.854650493910533, -18.526809503916805]}, 'id': '0', 'properties': {'agbd': 52.135502}}\n"
          ]
        }
      ],
      "source": [
        "# Define the date range\n",
        "start_date = '2022-01-01'\n",
        "end_date = '2022-05-30'\n",
        "\n",
        "# Prepare the mask\n",
        "def qualityMask(im):\n",
        "    return im.updateMask(im.select('l4_quality_flag').eq(1)) \\\n",
        "             .updateMask(im.select('degrade_flag').eq(0))\n",
        "\n",
        "# Load the GEDI Level 4A (L4A) dataset with date filtering\n",
        "dataset = ee.ImageCollection('LARSE/GEDI/GEDI04_A_002_MONTHLY') \\\n",
        "    .filterDate(start_date, end_date) \\\n",
        "    .map(qualityMask) \\\n",
        "    .select('agbd') \\\n",
        "    .filterBounds(boundary)\n",
        "\n",
        "# Clip the dataset to the boundary\n",
        "clippedDataset = dataset.mosaic().clipToCollection(boundary)\n",
        "\n",
        "# Create the display parameters\n",
        "gediVis = {\n",
        "    'min': 1,\n",
        "    'max': 300,\n",
        "    'palette': 'red, green, blue',\n",
        "}\n",
        "\n",
        "# Sample the training points (ta) from the dataset\n",
        "samplePoints = clippedDataset.sample(\n",
        "    region=boundary,\n",
        "    scale=30,\n",
        "    geometries=True\n",
        ")\n",
        "\n",
        "# Get the AGDB values from the 'agbd' property of the filtered points\n",
        "agbd_values = samplePoints.aggregate_array('agbd').getInfo()\n",
        "\n",
        "# Calculate summary statistics\n",
        "mean_agbd = np.mean(agbd_values)\n",
        "median_agbd = np.median(agbd_values)\n",
        "std_agbd = np.std(agbd_values)\n",
        "min_agbd = np.min(agbd_values)\n",
        "max_agbd = np.max(agbd_values)\n",
        "\n",
        "# Print the summary statistics\n",
        "print(\"Mean AGBD:\", mean_agbd)\n",
        "print(\"Median AGBD:\", median_agbd)\n",
        "print(\"Standard Deviation AGBD:\", std_agbd)\n",
        "print(\"Minimum AGBD:\", min_agbd)\n",
        "print(\"Maximum AGBD:\", max_agbd)\n",
        "\n",
        "# Print and display the training (ta) points derived from the GEDI L4B dataset\n",
        "print(samplePoints.size().getInfo())\n",
        "print(samplePoints.first().getInfo())"
      ]
    },
    {
      "cell_type": "markdown",
      "metadata": {
        "id": "OHZjNbB6ypyA"
      },
      "source": [
        "## Display GEDI Level 4A AGBD\n",
        "Next, display GEDI AGBD sample points."
      ]
    },
    {
      "cell_type": "code",
      "execution_count": null,
      "metadata": {
        "colab": {
          "base_uri": "https://localhost:8080/",
          "height": 656,
          "referenced_widgets": [
            "1778a9e69af04b60a4341881fc17eb7e",
            "1acb172746a0491aa4de2e8c6147ca04",
            "8eaae701e16c4ab1aff67e434ec007d7",
            "6a65ca0264db475ebf5773ceb9799423",
            "cd871597c1be4af2b46e9da23a2386d5",
            "ade6c19168bc483384e61527dd17fdcc",
            "2a13e4a45b764395a95a7925cadb2a27",
            "796e867c966c4953a70c80eeec23cf05",
            "f38d39d3f0144e289481972d5f5ae6ce",
            "c99bee80dd0b46568e7f2093f3d8b088",
            "198723bf3f574a31aa8b8f48413a288c",
            "cad3f139dcca4996b1279005a3a3b1fe",
            "231829838d4f44fe9bcb43956fec320c",
            "4a496dc9abaa4d49bd01b1fc0ab63841",
            "34c1759d69544ee6a272a03e74334e4c",
            "4c5947e775014d9d8510af1c38b661da",
            "6033fcfdfc704ea4a1a318245ade2a9f",
            "b63a2776979644e59c807b2962c78344",
            "7579c45e49ca49e8a8a3ea788d6edd15",
            "213460dba0804a4490588fca5e6393b8",
            "29737030daf04acb88f58dc74e5bb0de",
            "2056b59b42664fc9ae6156a9eac167be",
            "7bc95033c3d04b628119b09a9badb313",
            "7d8f5ff2d26f43a997b9cfc1202ee7a6",
            "0338ae4bdc784a999930167e632745e4",
            "1977f438b2494558ac99b3dbe39292bc"
          ]
        },
        "id": "b7rNq5cWynlr",
        "outputId": "a0f41947-4822-4a73-d567-d534e3a9d2a2"
      },
      "outputs": [
        {
          "output_type": "display_data",
          "data": {
            "text/plain": [
              "<IPython.core.display.HTML object>"
            ],
            "text/html": [
              "\n",
              "            <style>\n",
              "                .geemap-dark {\n",
              "                    --jp-widgets-color: white;\n",
              "                    --jp-widgets-label-color: white;\n",
              "                    --jp-ui-font-color1: white;\n",
              "                    --jp-layout-color2: #454545;\n",
              "                    background-color: #383838;\n",
              "                }\n",
              "\n",
              "                .geemap-dark .jupyter-button {\n",
              "                    --jp-layout-color3: #383838;\n",
              "                }\n",
              "\n",
              "                .geemap-colab {\n",
              "                    background-color: var(--colab-primary-surface-color, white);\n",
              "                }\n",
              "\n",
              "                .geemap-colab .jupyter-button {\n",
              "                    --jp-layout-color3: var(--colab-primary-surface-color, white);\n",
              "                }\n",
              "            </style>\n",
              "            "
            ]
          },
          "metadata": {}
        },
        {
          "output_type": "stream",
          "name": "stdout",
          "text": [
            "The provided color (red, green, blue) is invalid. Using the default black color.\n",
            "'#red, green, blue' is not in web format. Need 3 or 6 hex digit.\n"
          ]
        },
        {
          "output_type": "display_data",
          "data": {
            "text/plain": [
              "Map(center=[-18.43596873133084, 28.869046137098042], controls=(WidgetControl(options=['position', 'transparent…"
            ],
            "application/vnd.jupyter.widget-view+json": {
              "version_major": 2,
              "version_minor": 0,
              "model_id": "1778a9e69af04b60a4341881fc17eb7e"
            }
          },
          "metadata": {
            "application/vnd.jupyter.widget-view+json": {
              "colab": {
                "custom_widget_manager": {
                  "url": "https://ssl.gstatic.com/colaboratory-static/widgets/colab-cdn-widget-manager/2b70e893a8ba7c0f/manager.min.js"
                }
              }
            }
          }
        }
      ],
      "source": [
        "# Display the GEDI L4A mean above-ground biomass (AGB) points and the derived training points\n",
        "# Initialize the map\n",
        "map5 = geemap.Map()\n",
        "map5.centerObject(boundary, 12)\n",
        "map5.addLayer(clippedDataset, gediVis, 'GEDI L4A Mean AGBD points')\n",
        "map5.addLayer(samplePoints, {'color': '808080'}, 'Mean AGBD training points')\n",
        "# Display the map\n",
        "display(map5)"
      ]
    },
    {
      "cell_type": "markdown",
      "metadata": {
        "id": "9iwEwHjqD-fP"
      },
      "source": [
        "# Modeling AGBD using Random Forests\n",
        "## Prepare training and testing data\n"
      ]
    },
    {
      "cell_type": "code",
      "execution_count": null,
      "metadata": {
        "id": "VJ6uqpgo41ko",
        "colab": {
          "base_uri": "https://localhost:8080/",
          "height": 17
        },
        "outputId": "5a385c3f-ddbf-4366-a35c-5f70ba5f9504"
      },
      "outputs": [
        {
          "output_type": "display_data",
          "data": {
            "text/plain": [
              "<IPython.core.display.HTML object>"
            ],
            "text/html": [
              "\n",
              "            <style>\n",
              "                .geemap-dark {\n",
              "                    --jp-widgets-color: white;\n",
              "                    --jp-widgets-label-color: white;\n",
              "                    --jp-ui-font-color1: white;\n",
              "                    --jp-layout-color2: #454545;\n",
              "                    background-color: #383838;\n",
              "                }\n",
              "\n",
              "                .geemap-dark .jupyter-button {\n",
              "                    --jp-layout-color3: #383838;\n",
              "                }\n",
              "\n",
              "                .geemap-colab {\n",
              "                    background-color: var(--colab-primary-surface-color, white);\n",
              "                }\n",
              "\n",
              "                .geemap-colab .jupyter-button {\n",
              "                    --jp-layout-color3: var(--colab-primary-surface-color, white);\n",
              "                }\n",
              "            </style>\n",
              "            "
            ]
          },
          "metadata": {}
        }
      ],
      "source": [
        "# Select specific bands from the 'clippedmergedCollection'\n",
        "# and sample the values at the locations of the 'trainingData' points.\n",
        "# 'clippedmergedCollection' is the Earth Engine ImageCollection containing the satellite imagery,\n",
        "# and 'bands' is a list of specific bands to be selected.\n",
        "trainingData = clippedmergedCollection.select(bands).sampleRegions(**{\n",
        "    'collection': samplePoints,  # The 'trainingData' is the FeatureCollection containing training points.\n",
        "    'properties': ['agbd'],  # The property 'agbd' is used as the label for the training points.\n",
        "    'scale': 30  # The scale (resolution) at which the sampling is performed (in meters).\n",
        "})"
      ]
    },
    {
      "cell_type": "code",
      "source": [
        "# Split training data into training and testing sets\n",
        "# Add a random column (named random) and specify the seed value for repeatability\n",
        "split = 0.7\n",
        "trainingSet = trainingData.randomColumn('random', 27)\n",
        "training = trainingSet.filter(ee.Filter.lessThan('random', split))\n",
        "testing = trainingSet.filter(ee.Filter.greaterThanOrEquals('random', split))\n",
        "\n",
        "# Check training data set\n",
        "print(training.size().getInfo())\n",
        "print(training.first().getInfo())\n",
        "\n",
        "# Check the size of the testing data\n",
        "print(testing.size().getInfo())\n",
        "print(testing.first().getInfo())"
      ],
      "metadata": {
        "colab": {
          "base_uri": "https://localhost:8080/",
          "height": 106
        },
        "id": "enzTEXM0RRfL",
        "outputId": "613d608c-310f-44b3-e5dc-f978517306a7"
      },
      "execution_count": null,
      "outputs": [
        {
          "output_type": "display_data",
          "data": {
            "text/plain": [
              "<IPython.core.display.HTML object>"
            ],
            "text/html": [
              "\n",
              "            <style>\n",
              "                .geemap-dark {\n",
              "                    --jp-widgets-color: white;\n",
              "                    --jp-widgets-label-color: white;\n",
              "                    --jp-ui-font-color1: white;\n",
              "                    --jp-layout-color2: #454545;\n",
              "                    background-color: #383838;\n",
              "                }\n",
              "\n",
              "                .geemap-dark .jupyter-button {\n",
              "                    --jp-layout-color3: #383838;\n",
              "                }\n",
              "\n",
              "                .geemap-colab {\n",
              "                    background-color: var(--colab-primary-surface-color, white);\n",
              "                }\n",
              "\n",
              "                .geemap-colab .jupyter-button {\n",
              "                    --jp-layout-color3: var(--colab-primary-surface-color, white);\n",
              "                }\n",
              "            </style>\n",
              "            "
            ]
          },
          "metadata": {}
        },
        {
          "output_type": "stream",
          "name": "stdout",
          "text": [
            "3249\n",
            "{'type': 'Feature', 'geometry': None, 'id': '0_0', 'properties': {'B11': 0.18964999914169312, 'B12': 0.10495000332593918, 'B2': 0.03480000048875809, 'B3': 0.04975000023841858, 'B4': 0.042750000953674316, 'B5': 0.07800000160932541, 'B6': 0.18774999678134918, 'B7': 0.23360000550746918, 'B8': 0.2389499992132187, 'NDVI': 0.6964856386184692, 'RESI': 0.6875938773155212, 'SAVI': 0.3764871399852673, 'agbd': 52.135502, 'elevation': 1271, 'random': 0.06396174019846912, 'slope': 0.9274099469184875}}\n",
            "1383\n",
            "{'type': 'Feature', 'geometry': None, 'id': '1_0', 'properties': {'B11': 0.1826000064611435, 'B12': 0.09925000369548798, 'B2': 0.03265000134706497, 'B3': 0.04780000075697899, 'B4': 0.040150001645088196, 'B5': 0.07429999858140945, 'B6': 0.18330000340938568, 'B7': 0.21439999341964722, 'B8': 0.22214999794960022, 'NDVI': 0.6938619613647461, 'RESI': 0.685169517993927, 'SAVI': 0.35812671468178003, 'agbd': 44.87574005126953, 'elevation': 1275, 'random': 0.7744303018387043, 'slope': 1.347741723060608}}\n"
          ]
        }
      ]
    },
    {
      "cell_type": "markdown",
      "metadata": {
        "id": "DKLMJ0Fe5Coc"
      },
      "source": [
        "## Run the random forest model\n"
      ]
    },
    {
      "cell_type": "code",
      "execution_count": null,
      "metadata": {
        "id": "xvJpfEwOEHI1",
        "colab": {
          "base_uri": "https://localhost:8080/",
          "height": 17
        },
        "outputId": "216ba747-0b9a-48c9-9559-f0a7f40e02ce"
      },
      "outputs": [
        {
          "output_type": "display_data",
          "data": {
            "text/plain": [
              "<IPython.core.display.HTML object>"
            ],
            "text/html": [
              "\n",
              "            <style>\n",
              "                .geemap-dark {\n",
              "                    --jp-widgets-color: white;\n",
              "                    --jp-widgets-label-color: white;\n",
              "                    --jp-ui-font-color1: white;\n",
              "                    --jp-layout-color2: #454545;\n",
              "                    background-color: #383838;\n",
              "                }\n",
              "\n",
              "                .geemap-dark .jupyter-button {\n",
              "                    --jp-layout-color3: #383838;\n",
              "                }\n",
              "\n",
              "                .geemap-colab {\n",
              "                    background-color: var(--colab-primary-surface-color, white);\n",
              "                }\n",
              "\n",
              "                .geemap-colab .jupyter-button {\n",
              "                    --jp-layout-color3: var(--colab-primary-surface-color, white);\n",
              "                }\n",
              "            </style>\n",
              "            "
            ]
          },
          "metadata": {}
        }
      ],
      "source": [
        "# Set the initial RF model parameters\n",
        "init_params = {\"numberOfTrees\":500, # the number of individual decision tree models\n",
        "              \"variablesPerSplit\":None,  # the number of features to use per split\n",
        "              \"minLeafPopulation\":1, # smallest sample size possible per leaf\n",
        "              \"bagFraction\":0.5, # fraction of data to include for each individual tree model\n",
        "              \"maxNodes\":None, # max number of leafs/nodes per tree\n",
        "               \"seed\":27}  # random seed for \"random\" choices like sampling. Setting this allows others to reproduce your exact results even with stocastic parameters\n",
        "\n",
        "# Perfom the random forest reression\n",
        "rf_regressor = ee.Classifier.smileRandomForest(**init_params) \\\n",
        "    .setOutputMode('REGRESSION') \\\n",
        "    .train(**{\n",
        "        'features': training,\n",
        "        'classProperty': 'agbd',\n",
        "        'inputProperties': bands\n",
        "    })"
      ]
    },
    {
      "cell_type": "markdown",
      "source": [
        "Create a feature importance graph."
      ],
      "metadata": {
        "id": "Z9pKZRBcCRQR"
      }
    },
    {
      "cell_type": "code",
      "execution_count": null,
      "metadata": {
        "colab": {
          "base_uri": "https://localhost:8080/",
          "height": 607
        },
        "id": "yVgYmOdULeKX",
        "outputId": "539f9c78-a6b1-4af4-ac90-1c59d9359d55"
      },
      "outputs": [
        {
          "output_type": "display_data",
          "data": {
            "text/plain": [
              "<IPython.core.display.HTML object>"
            ],
            "text/html": [
              "\n",
              "            <style>\n",
              "                .geemap-dark {\n",
              "                    --jp-widgets-color: white;\n",
              "                    --jp-widgets-label-color: white;\n",
              "                    --jp-ui-font-color1: white;\n",
              "                    --jp-layout-color2: #454545;\n",
              "                    background-color: #383838;\n",
              "                }\n",
              "\n",
              "                .geemap-dark .jupyter-button {\n",
              "                    --jp-layout-color3: #383838;\n",
              "                }\n",
              "\n",
              "                .geemap-colab {\n",
              "                    background-color: var(--colab-primary-surface-color, white);\n",
              "                }\n",
              "\n",
              "                .geemap-colab .jupyter-button {\n",
              "                    --jp-layout-color3: var(--colab-primary-surface-color, white);\n",
              "                }\n",
              "            </style>\n",
              "            "
            ]
          },
          "metadata": {}
        },
        {
          "output_type": "display_data",
          "data": {
            "text/plain": [
              "<Figure size 1000x600 with 1 Axes>"
            ],
            "image/png": "[encoded data removed]"
          },
          "metadata": {}
        }
      ],
      "source": [
        "# Get details of classifier\n",
        "regressor_details = rf_regressor.explain()\n",
        "\n",
        "# Explain the classifier with importance values\n",
        "variable_importance = ee.Dictionary(regressor_details).get('importance')\n",
        "\n",
        "# Convert the variable importance dictionary to a list of tuples\n",
        "variable_importance_list = variable_importance.getInfo().items()\n",
        "\n",
        "# Sort the list by importance values\n",
        "sorted_variable_importance = sorted(variable_importance_list, key=lambda x: x[1], reverse=True)\n",
        "\n",
        "# Extract labels and values for the chart\n",
        "labels = [item[0] for item in sorted_variable_importance]\n",
        "values = [item[1] for item in sorted_variable_importance]\n",
        "\n",
        "# Create a bar chart using matplotlib\n",
        "plt.figure(figsize=(10, 6))\n",
        "plt.bar(labels, values)\n",
        "plt.xlabel('Variable')\n",
        "plt.ylabel('Importance Value')\n",
        "plt.title('Variable Importance Chart')\n",
        "plt.xticks(rotation=45, ha='right')\n",
        "\n",
        "# Display the chart\n",
        "plt.tight_layout()\n",
        "plt.show()"
      ]
    },
    {
      "cell_type": "markdown",
      "metadata": {
        "id": "dRU0wiLMmwnU"
      },
      "source": [
        "# Check Model Performance\n",
        "## Check the RF model performance using the training set.\n"
      ]
    },
    {
      "cell_type": "code",
      "source": [
        "# Calculate RMSE\n",
        "def calculate_rmse(input_fc):\n",
        "    observed = ee.Array(input_fc.aggregate_array('agbd'))\n",
        "    predicted = ee.Array(input_fc.aggregate_array('predicted'))\n",
        "    rmse = observed.subtract(predicted).pow(2).reduce('mean', [0]).sqrt().get([0])\n",
        "    return rmse\n",
        "\n",
        "predicted_training = training.classify(rf_regressor, 'predicted')\n",
        "rmse = calculate_rmse(predicted_training).getInfo()\n",
        "print('RMSE:', rmse)\n",
        "\n",
        "# Calculate R²\n",
        "observed_values = np.array(predicted_training.aggregate_array('agbd').getInfo())\n",
        "predicted_values = np.array(predicted_training.aggregate_array('predicted').getInfo())\n",
        "r2 = np.corrcoef(observed_values, predicted_values)[0, 1] ** 2\n",
        "print('R²:', r2)\n",
        "\n",
        "# Create a plot of observed vs. predicted values\n",
        "plt.figure(figsize=(10, 6))\n",
        "plt.scatter(observed_values, predicted_values, c='#525252', s=20, label='Data points')\n",
        "plt.plot([observed_values.min(), observed_values.max()], [observed_values.min(), observed_values.max()], 'k--', lw=2, label='1:1 Line')\n",
        "\n",
        "# Linear fit\n",
        "slope, intercept = np.polyfit(observed_values, predicted_values, 1)\n",
        "plt.plot(observed_values, slope * observed_values + intercept, 'r', label=f'Linear Fit (R² = {r2:.2f})')\n",
        "\n",
        "plt.xlabel('Observed AGBD (Mg/Ha)')\n",
        "plt.ylabel('Predicted AGBD (Mg/Ha)')\n",
        "plt.title('Aboveground Biomass Density (Mg/Ha)')\n",
        "plt.legend()\n",
        "plt.show()"
      ],
      "metadata": {
        "colab": {
          "base_uri": "https://localhost:8080/",
          "height": 599
        },
        "id": "KFFeOuhYCKWt",
        "outputId": "771d3ec2-38e9-43e8-9c05-95bf176bf2b5"
      },
      "execution_count": null,
      "outputs": [
        {
          "output_type": "display_data",
          "data": {
            "text/plain": [
              "<IPython.core.display.HTML object>"
            ],
            "text/html": [
              "\n",
              "            <style>\n",
              "                .geemap-dark {\n",
              "                    --jp-widgets-color: white;\n",
              "                    --jp-widgets-label-color: white;\n",
              "                    --jp-ui-font-color1: white;\n",
              "                    --jp-layout-color2: #454545;\n",
              "                    background-color: #383838;\n",
              "                }\n",
              "\n",
              "                .geemap-dark .jupyter-button {\n",
              "                    --jp-layout-color3: #383838;\n",
              "                }\n",
              "\n",
              "                .geemap-colab {\n",
              "                    background-color: var(--colab-primary-surface-color, white);\n",
              "                }\n",
              "\n",
              "                .geemap-colab .jupyter-button {\n",
              "                    --jp-layout-color3: var(--colab-primary-surface-color, white);\n",
              "                }\n",
              "            </style>\n",
              "            "
            ]
          },
          "metadata": {}
        },
        {
          "output_type": "stream",
          "name": "stdout",
          "text": [
            "RMSE: 12.921911684380177\n",
            "R²: 0.8369565973702741\n"
          ]
        },
        {
          "output_type": "display_data",
          "data": {
            "text/plain": [
              "<Figure size 1000x600 with 1 Axes>"
            ],
            "image/png": "[encoded data removed]"
          },
          "metadata": {}
        }
      ]
    },
    {
      "cell_type": "markdown",
      "metadata": {
        "id": "Mol6KlqJnuPo"
      },
      "source": [
        "## Check the RF model performance using the test (validation) set.\n"
      ]
    },
    {
      "cell_type": "code",
      "source": [
        "# Predict AGBD for the test data\n",
        "predicted_testing = testing.classify(rf_regressor, 'predicted')\n",
        "observed_testing_values = np.array(predicted_testing.aggregate_array('agbd').getInfo())\n",
        "predicted_testing_values = np.array(predicted_testing.aggregate_array('predicted').getInfo())\n",
        "\n",
        "# Calculate RMSE and R² for the validation data\n",
        "rmse_testing = np.sqrt(mean_squared_error(observed_testing_values, predicted_testing_values))\n",
        "r2_testing = r2_score(observed_testing_values, predicted_testing_values)\n",
        "print('Test RMSE:', rmse_testing)\n",
        "print('Test R²:', r2_testing)\n",
        "\n",
        "# Create a plot of observed vs. predicted values for the test data\n",
        "plt.figure(figsize=(10, 6))\n",
        "plt.scatter(observed_testing_values, predicted_testing_values, c='#525252', s=20, label='Data points')\n",
        "plt.plot([observed_testing_values.min(), observed_testing_values.max()], [observed_testing_values.min(), observed_testing_values.max()], 'k--', lw=2, label='1:1 Line')\n",
        "slope, intercept = np.polyfit(observed_testing_values, predicted_testing_values, 1)\n",
        "plt.plot(observed_testing_values, slope * observed_testing_values + intercept, 'r', label=f'Linear Fit (R² = {r2_testing:.2f})')\n",
        "plt.xlabel('Observed AGBD (Mg/Ha)')\n",
        "plt.ylabel('Predicted AGBD (Mg/Ha)')\n",
        "plt.title('Aboveground Biomass Density (Mg/Ha) - Test Data')\n",
        "plt.legend()\n",
        "plt.show()"
      ],
      "metadata": {
        "colab": {
          "base_uri": "https://localhost:8080/",
          "height": 599
        },
        "id": "OSW3HJQzVeI9",
        "outputId": "6e638d53-f75a-4921-e33d-6c2952c42e0e"
      },
      "execution_count": null,
      "outputs": [
        {
          "output_type": "display_data",
          "data": {
            "text/plain": [
              "<IPython.core.display.HTML object>"
            ],
            "text/html": [
              "\n",
              "            <style>\n",
              "                .geemap-dark {\n",
              "                    --jp-widgets-color: white;\n",
              "                    --jp-widgets-label-color: white;\n",
              "                    --jp-ui-font-color1: white;\n",
              "                    --jp-layout-color2: #454545;\n",
              "                    background-color: #383838;\n",
              "                }\n",
              "\n",
              "                .geemap-dark .jupyter-button {\n",
              "                    --jp-layout-color3: #383838;\n",
              "                }\n",
              "\n",
              "                .geemap-colab {\n",
              "                    background-color: var(--colab-primary-surface-color, white);\n",
              "                }\n",
              "\n",
              "                .geemap-colab .jupyter-button {\n",
              "                    --jp-layout-color3: var(--colab-primary-surface-color, white);\n",
              "                }\n",
              "            </style>\n",
              "            "
            ]
          },
          "metadata": {}
        },
        {
          "output_type": "stream",
          "name": "stdout",
          "text": [
            "Test RMSE: 21.20824956301881\n",
            "Test R²: 0.47970655830125475\n"
          ]
        },
        {
          "output_type": "display_data",
          "data": {
            "text/plain": [
              "<Figure size 1000x600 with 1 Axes>"
            ],
            "image/png": "[encoded data removed]"
          },
          "metadata": {}
        }
      ]
    },
    {
      "cell_type": "markdown",
      "source": [
        "## Predict and Visualize AGBD"
      ],
      "metadata": {
        "id": "lp_kNdDEz00N"
      }
    },
    {
      "cell_type": "code",
      "execution_count": null,
      "metadata": {
        "colab": {
          "base_uri": "https://localhost:8080/",
          "height": 621,
          "referenced_widgets": [
            "b32b7e00ed1448978bf83988e59763a8",
            "62bd9c1428f04954a2c110506a3557fc",
            "2476ff28168c4b3aa280f4b77f9379f7",
            "faa4b423f51f40a5856a2933f1369b01",
            "57a69cfe057843078a5ec5c11134384a",
            "72623e97a6954dcda23f6aef9580155d",
            "c28550bbc8bb495ba9516f59e7a8f863",
            "c05663ab91b14601b69562899e54233b",
            "2514ba3b4e134b988f005c83c87718ed",
            "503de1efd4f44ae8b6155f2663d773fc",
            "ae4e5927032849f4b5902be3a2c0f836",
            "af92700c7495460abd7d1f1e78ac3a83",
            "d1671d3754d149bfbc09bac0cbf377fa",
            "735ebe772e1a40b2a442f4d149119c76",
            "0cae2a711bbc48d3b2eb241fc6de45b7",
            "8808a2d7379b49a39c338b648e29be2e",
            "63dcaeec54834342ba510557d2ca0f1a",
            "95526f2eaeaf4e0ba7577c57e0bba023",
            "b99ea47e4f4141ab87868c5a39b5162d",
            "6dd89dd3160b4c96b54105635f8450d3",
            "553512dc06814e48a0a366383f0a6c16",
            "230c49e4a1dc45988dda0718dc75415c",
            "e247035e334b4d77ae8ad602fbf91e4a",
            "1335c8e2a675468d8458bff8c32bae4d",
            "62cbf6bf1edd4bad917653b6d90a7e72",
            "a146e659a7e74171ba13d1a04eaee6ac",
            "81173c81ceb04e3291fe35b0baa90ef9",
            "3c2f239aa30541669fc90b17548872ea"
          ]
        },
        "id": "x_zKQ5sw4uk3",
        "outputId": "9e5813dd-4c00-4dd9-acf9-21ff6f662ea8"
      },
      "outputs": [
        {
          "output_type": "display_data",
          "data": {
            "text/plain": [
              "<IPython.core.display.HTML object>"
            ],
            "text/html": [
              "\n",
              "            <style>\n",
              "                .geemap-dark {\n",
              "                    --jp-widgets-color: white;\n",
              "                    --jp-widgets-label-color: white;\n",
              "                    --jp-ui-font-color1: white;\n",
              "                    --jp-layout-color2: #454545;\n",
              "                    background-color: #383838;\n",
              "                }\n",
              "\n",
              "                .geemap-dark .jupyter-button {\n",
              "                    --jp-layout-color3: #383838;\n",
              "                }\n",
              "\n",
              "                .geemap-colab {\n",
              "                    background-color: var(--colab-primary-surface-color, white);\n",
              "                }\n",
              "\n",
              "                .geemap-colab .jupyter-button {\n",
              "                    --jp-layout-color3: var(--colab-primary-surface-color, white);\n",
              "                }\n",
              "            </style>\n",
              "            "
            ]
          },
          "metadata": {}
        },
        {
          "output_type": "display_data",
          "data": {
            "text/plain": [
              "Map(center=[-18.43596873133084, 28.869046137098042], controls=(WidgetControl(options=['position', 'transparent…"
            ],
            "application/vnd.jupyter.widget-view+json": {
              "version_major": 2,
              "version_minor": 0,
              "model_id": "b32b7e00ed1448978bf83988e59763a8"
            }
          },
          "metadata": {
            "application/vnd.jupyter.widget-view+json": {
              "colab": {
                "custom_widget_manager": {
                  "url": "https://ssl.gstatic.com/colaboratory-static/widgets/colab-cdn-widget-manager/2b70e893a8ba7c0f/manager.min.js"
                }
              }
            }
          }
        }
      ],
      "source": [
        "# Predict AGBD\n",
        "regression = clippedmergedCollection.select(bands).classify(rf_regressor, 'predicted').clip(boundary)\n",
        "\n",
        "# Define a custom palette to display the AGBD map\n",
        "palette = ['#FFFF00', '#ADFF2F', '#32CD32', '#2E8B57', '#006400']\n",
        "\n",
        "# Prepare visualization parameters to display the AGBD regression on the map\n",
        "viz = {\n",
        "  'min': 0,\n",
        "  'max': 120,\n",
        "  'palette': palette}\n",
        "\n",
        "# Initialize the map\n",
        "map6 = geemap.Map()\n",
        "map6.centerObject(boundary, 12)\n",
        "\n",
        "# Add visualization parameters\n",
        "map6.addLayer(regression, viz, 'AGBD map')\n",
        "map6.add_colorbar(viz, label=\"AGBD (Mg/ ha)\", layer_name=\"AGBD map\")\n",
        "\n",
        "# Display the AGBD map\n",
        "map6"
      ]
    },
    {
      "cell_type": "markdown",
      "metadata": {
        "id": "GV8QVZuno_M_"
      },
      "source": [
        "# Export AGBD\n",
        "## Export AGBD Map\n",
        "Export the AGBD map to Google Drive."
      ]
    },
    {
      "cell_type": "code",
      "execution_count": null,
      "metadata": {
        "id": "wOQsCv0CXbbn",
        "colab": {
          "base_uri": "https://localhost:8080/",
          "height": 17
        },
        "outputId": "f0ad691b-046a-4e39-b121-0fb088577635"
      },
      "outputs": [
        {
          "output_type": "display_data",
          "data": {
            "text/plain": [
              "<IPython.core.display.HTML object>"
            ],
            "text/html": [
              "\n",
              "            <style>\n",
              "                .geemap-dark {\n",
              "                    --jp-widgets-color: white;\n",
              "                    --jp-widgets-label-color: white;\n",
              "                    --jp-ui-font-color1: white;\n",
              "                    --jp-layout-color2: #454545;\n",
              "                    background-color: #383838;\n",
              "                }\n",
              "\n",
              "                .geemap-dark .jupyter-button {\n",
              "                    --jp-layout-color3: #383838;\n",
              "                }\n",
              "\n",
              "                .geemap-colab {\n",
              "                    background-color: var(--colab-primary-surface-color, white);\n",
              "                }\n",
              "\n",
              "                .geemap-colab .jupyter-button {\n",
              "                    --jp-layout-color3: var(--colab-primary-surface-color, white);\n",
              "                }\n",
              "            </style>\n",
              "            "
            ]
          },
          "metadata": {}
        }
      ],
      "source": [
        "# Export the image, specifying scale and region.\n",
        "task = ee.batch.Export.image.toDrive(**{\n",
        "    'image': regression,\n",
        "    'description': 'Mafungautsi_AGBD_S2_2023',\n",
        "    'folder':'export',\n",
        "    'scale': 10,\n",
        "    'region': boundary.geometry().getInfo()['coordinates'],\n",
        "    'maxPixels': 1e10\n",
        "})\n",
        "\n",
        "task.start()"
      ]
    }
  ],
  "metadata": {
    "colab": {
      "provenance": [],
      "authorship_tag": "ABX9TyOHbyd4wMT5HkJgQRxWXcbl",
      "include_colab_link": true
    },
    "kernelspec": {
      "display_name": "Python 3",
      "name": "python3"
    },
    "language_info": {
      "name": "python"
    },
    "widgets": {
      "application/vnd.jupyter.widget-state+json": {
        "1f968c38b70b4c20a70d66c91a13c388": {
          "model_module": "jupyter-leaflet",
          "model_name": "LeafletMapModel",
          "model_module_version": "^0.18",
          "state": {
            "_dom_classes": [],
            "_model_module": "jupyter-leaflet",
            "_model_module_version": "^0.18",
            "_model_name": "LeafletMapModel",
            "_view_count": null,
            "_view_module": "jupyter-leaflet",
            "_view_module_version": "^0.18",
            "_view_name": "LeafletMapView",
            "bottom": 579238,
            "bounce_at_zoom_limits": true,
            "box_zoom": true,
            "center": [
              -18.435970448824882,
              28.869152069091797
            ],
            "close_popup_on_click": true,
            "controls": [
              "IPY_MODEL_2aec0ce1e35745f79d6afea39e20d43b",
              "IPY_MODEL_cf47c74d12c9445cacadf37a01adbed0",
              "IPY_MODEL_f8866c3921f94550837c3681be053c09",
              "IPY_MODEL_d0b0ae6a74734d3189e7d4ac7f341532",
              "IPY_MODEL_b19360c5dd2a42289e0bc21b7c219f8f",
              "IPY_MODEL_3c3282cefdc4446fb01d9e0cc3b7a705",
              "IPY_MODEL_5c454c80d26d4654bdad87fac60dff79",
              "IPY_MODEL_660782035af842deab732daba772e4c3",
              "IPY_MODEL_b570dfd805b9428fa4f671212b0490ca"
            ],
            "crs": {
              "name": "EPSG3857",
              "custom": false
            },
            "default_style": "IPY_MODEL_90184eda6cc24dc8bfff91e98d448501",
            "double_click_zoom": true,
            "dragging": true,
            "dragging_style": "IPY_MODEL_37d77276e6c64e56899e010aaf650ae7",
            "east": 29.16732788085938,
            "fullscreen": false,
            "inertia": true,
            "inertia_deceleration": 3000,
            "inertia_max_speed": 1500,
            "interpolation": "bilinear",
            "keyboard": true,
            "keyboard_pan_offset": 80,
            "keyboard_zoom_offset": 1,
            "layers": [
              "IPY_MODEL_054ff1b56f6f49fd9ebdf4f4f1207e5a",
              "IPY_MODEL_7c524eeee879494ab87f386cb9d0ee05"
            ],
            "layout": "IPY_MODEL_1be8ec0335ac4ee686d821b1cca64d15",
            "left": 607507,
            "max_zoom": 24,
            "min_zoom": null,
            "modisdate": "2024-06-26",
            "north": -18.338231929080106,
            "options": [
              "bounce_at_zoom_limits",
              "box_zoom",
              "center",
              "close_popup_on_click",
              "double_click_zoom",
              "dragging",
              "fullscreen",
              "inertia",
              "inertia_deceleration",
              "inertia_max_speed",
              "interpolation",
              "keyboard",
              "keyboard_pan_offset",
              "keyboard_zoom_offset",
              "max_zoom",
              "min_zoom",
              "prefer_canvas",
              "scroll_wheel_zoom",
              "tap",
              "tap_tolerance",
              "touch_zoom",
              "world_copy_jump",
              "zoom",
              "zoom_animation_threshold",
              "zoom_delta",
              "zoom_snap"
            ],
            "panes": {},
            "prefer_canvas": false,
            "right": 609244,
            "scroll_wheel_zoom": true,
            "south": -18.533653420823576,
            "style": "IPY_MODEL_90184eda6cc24dc8bfff91e98d448501",
            "tap": true,
            "tap_tolerance": 15,
            "top": 578638,
            "touch_zoom": true,
            "west": 28.570976257324222,
            "window_url": "https://it1qnzzu0yh-496ff2e9c6d22116-0-colab.googleusercontent.com/outputframe.html?vrz=colab_20240625-060120_RC01_646520897",
            "world_copy_jump": false,
            "zoom": 12,
            "zoom_animation_threshold": 4,
            "zoom_delta": 1,
            "zoom_snap": 1
          }
        },
        "2aec0ce1e35745f79d6afea39e20d43b": {
          "model_module": "jupyter-leaflet",
          "model_name": "LeafletWidgetControlModel",
          "model_module_version": "^0.18",
          "state": {
            "_model_module": "jupyter-leaflet",
            "_model_module_version": "^0.18",
            "_model_name": "LeafletWidgetControlModel",
            "_view_count": null,
            "_view_module": "jupyter-leaflet",
            "_view_module_version": "^0.18",
            "_view_name": "LeafletWidgetControlView",
            "max_height": null,
            "max_width": null,
            "min_height": null,
            "min_width": null,
            "options": [
              "position",
              "transparent_bg"
            ],
            "position": "topleft",
            "transparent_bg": false,
            "widget": "IPY_MODEL_a32d4798b2d7466b9e7b00eeaef89980"
          }
        },
        "cf47c74d12c9445cacadf37a01adbed0": {
          "model_module": "jupyter-leaflet",
          "model_name": "LeafletZoomControlModel",
          "model_module_version": "^0.18",
          "state": {
            "_model_module": "jupyter-leaflet",
            "_model_module_version": "^0.18",
            "_model_name": "LeafletZoomControlModel",
            "_view_count": null,
            "_view_module": "jupyter-leaflet",
            "_view_module_version": "^0.18",
            "_view_name": "LeafletZoomControlView",
            "options": [
              "position",
              "zoom_in_text",
              "zoom_in_title",
              "zoom_out_text",
              "zoom_out_title"
            ],
            "position": "topleft",
            "zoom_in_text": "+",
            "zoom_in_title": "Zoom in",
            "zoom_out_text": "-",
            "zoom_out_title": "Zoom out"
          }
        },
        "f8866c3921f94550837c3681be053c09": {
          "model_module": "jupyter-leaflet",
          "model_name": "LeafletFullScreenControlModel",
          "model_module_version": "^0.18",
          "state": {
            "_model_module": "jupyter-leaflet",
            "_model_module_version": "^0.18",
            "_model_name": "LeafletFullScreenControlModel",
            "_view_count": null,
            "_view_module": "jupyter-leaflet",
            "_view_module_version": "^0.18",
            "_view_name": "LeafletFullScreenControlView",
            "options": [
              "position"
            ],
            "position": "topleft"
          }
        },
        "d0b0ae6a74734d3189e7d4ac7f341532": {
          "model_module": "jupyter-leaflet",
          "model_name": "LeafletDrawControlModel",
          "model_module_version": "^0.18",
          "state": {
            "_model_module": "jupyter-leaflet",
            "_model_module_version": "^0.18",
            "_model_name": "LeafletDrawControlModel",
            "_view_count": null,
            "_view_module": "jupyter-leaflet",
            "_view_module_version": "^0.18",
            "_view_name": "LeafletDrawControlView",
            "circle": {},
            "circlemarker": {},
            "data": [],
            "edit": true,
            "marker": {
              "shapeOptions": {
                "color": "#3388ff"
              }
            },
            "options": [
              "position"
            ],
            "polygon": {
              "shapeOptions": {}
            },
            "polyline": {
              "shapeOptions": {}
            },
            "position": "topleft",
            "rectangle": {
              "shapeOptions": {
                "color": "#3388ff"
              }
            },
            "remove": true
          }
        },
        "b19360c5dd2a42289e0bc21b7c219f8f": {
          "model_module": "jupyter-leaflet",
          "model_name": "LeafletScaleControlModel",
          "model_module_version": "^0.18",
          "state": {
            "_model_module": "jupyter-leaflet",
            "_model_module_version": "^0.18",
            "_model_name": "LeafletScaleControlModel",
            "_view_count": null,
            "_view_module": "jupyter-leaflet",
            "_view_module_version": "^0.18",
            "_view_name": "LeafletScaleControlView",
            "imperial": true,
            "max_width": 100,
            "metric": true,
            "options": [
              "imperial",
              "max_width",
              "metric",
              "position",
              "update_when_idle"
            ],
            "position": "bottomleft",
            "update_when_idle": false
          }
        },
        "3c3282cefdc4446fb01d9e0cc3b7a705": {
          "model_module": "jupyter-leaflet",
          "model_name": "LeafletMeasureControlModel",
          "model_module_version": "^0.18",
          "state": {
            "_custom_units": {},
            "_model_module": "jupyter-leaflet",
            "_model_module_version": "^0.18",
            "_model_name": "LeafletMeasureControlModel",
            "_view_count": null,
            "_view_module": "jupyter-leaflet",
            "_view_module_version": "^0.18",
            "_view_name": "LeafletMeasureControlView",
            "active_color": "orange",
            "capture_z_index": 10000,
            "completed_color": "#C8F2BE",
            "options": [
              "active_color",
              "capture_z_index",
              "completed_color",
              "popup_options",
              "position",
              "primary_area_unit",
              "primary_length_unit",
              "secondary_area_unit",
              "secondary_length_unit"
            ],
            "popup_options": {
              "className": "leaflet-measure-resultpopup",
              "autoPanPadding": [
                10,
                10
              ]
            },
            "position": "bottomleft",
            "primary_area_unit": "acres",
            "primary_length_unit": "kilometers",
            "secondary_area_unit": null,
            "secondary_length_unit": null
          }
        },
        "5c454c80d26d4654bdad87fac60dff79": {
          "model_module": "jupyter-leaflet",
          "model_name": "LeafletWidgetControlModel",
          "model_module_version": "^0.18",
          "state": {
            "_model_module": "jupyter-leaflet",
            "_model_module_version": "^0.18",
            "_model_name": "LeafletWidgetControlModel",
            "_view_count": null,
            "_view_module": "jupyter-leaflet",
            "_view_module_version": "^0.18",
            "_view_name": "LeafletWidgetControlView",
            "max_height": null,
            "max_width": null,
            "min_height": null,
            "min_width": null,
            "options": [
              "position",
              "transparent_bg"
            ],
            "position": "topright",
            "transparent_bg": false,
            "widget": "IPY_MODEL_ad49951cc2464664b1b957087769c831"
          }
        },
        "660782035af842deab732daba772e4c3": {
          "model_module": "jupyter-leaflet",
          "model_name": "LeafletAttributionControlModel",
          "model_module_version": "^0.18",
          "state": {
            "_model_module": "jupyter-leaflet",
            "_model_module_version": "^0.18",
            "_model_name": "LeafletAttributionControlModel",
            "_view_count": null,
            "_view_module": "jupyter-leaflet",
            "_view_module_version": "^0.18",
            "_view_name": "LeafletAttributionControlView",
            "options": [
              "position",
              "prefix"
            ],
            "position": "bottomright",
            "prefix": "ipyleaflet"
          }
        },
        "b570dfd805b9428fa4f671212b0490ca": {
          "model_module": "jupyter-leaflet",
          "model_name": "LeafletLayersControlModel",
          "model_module_version": "^0.18",
          "state": {
            "_model_module": "jupyter-leaflet",
            "_model_module_version": "^0.18",
            "_model_name": "LeafletLayersControlModel",
            "_view_count": null,
            "_view_module": "jupyter-leaflet",
            "_view_module_version": "^0.18",
            "_view_name": "LeafletLayersControlView",
            "collapsed": true,
            "options": [
              "collapsed",
              "position"
            ],
            "position": "topright"
          }
        },
        "90184eda6cc24dc8bfff91e98d448501": {
          "model_module": "jupyter-leaflet",
          "model_name": "LeafletMapStyleModel",
          "model_module_version": "^0.18",
          "state": {
            "_model_module": "jupyter-leaflet",
            "_model_module_version": "^0.18",
            "_model_name": "LeafletMapStyleModel",
            "_view_count": null,
            "_view_module": "@jupyter-widgets/base",
            "_view_module_version": "1.2.0",
            "_view_name": "StyleView",
            "cursor": "grab"
          }
        },
        "37d77276e6c64e56899e010aaf650ae7": {
          "model_module": "jupyter-leaflet",
          "model_name": "LeafletMapStyleModel",
          "model_module_version": "^0.18",
          "state": {
            "_model_module": "jupyter-leaflet",
            "_model_module_version": "^0.18",
            "_model_name": "LeafletMapStyleModel",
            "_view_count": null,
            "_view_module": "@jupyter-widgets/base",
            "_view_module_version": "1.2.0",
            "_view_name": "StyleView",
            "cursor": "move"
          }
        },
        "054ff1b56f6f49fd9ebdf4f4f1207e5a": {
          "model_module": "jupyter-leaflet",
          "model_name": "LeafletTileLayerModel",
          "model_module_version": "^0.18",
          "state": {
            "_model_module": "jupyter-leaflet",
            "_model_module_version": "^0.18",
            "_model_name": "LeafletTileLayerModel",
            "_view_count": null,
            "_view_module": "jupyter-leaflet",
            "_view_module_version": "^0.18",
            "_view_name": "LeafletTileLayerView",
            "attribution": "&copy; <a href=\"https://www.openstreetmap.org/copyright\">OpenStreetMap</a> contributors",
            "base": true,
            "bottom": true,
            "bounds": null,
            "detect_retina": false,
            "loading": false,
            "max_native_zoom": null,
            "max_zoom": 19,
            "min_native_zoom": null,
            "min_zoom": 1,
            "name": "OpenStreetMap.Mapnik",
            "no_wrap": false,
            "opacity": 1,
            "options": [
              "attribution",
              "bounds",
              "detect_retina",
              "max_native_zoom",
              "max_zoom",
              "min_native_zoom",
              "min_zoom",
              "no_wrap",
              "tile_size",
              "tms",
              "zoom_offset"
            ],
            "pane": "",
            "popup": null,
            "popup_max_height": null,
            "popup_max_width": 300,
            "popup_min_width": 50,
            "show_loading": false,
            "subitems": [],
            "tile_size": 256,
            "tms": false,
            "url": "https://tile.openstreetmap.org/{z}/{x}/{y}.png",
            "visible": true,
            "zoom_offset": 0
          }
        },
        "7c524eeee879494ab87f386cb9d0ee05": {
          "model_module": "jupyter-leaflet",
          "model_name": "LeafletTileLayerModel",
          "model_module_version": "^0.18",
          "state": {
            "_model_module": "jupyter-leaflet",
            "_model_module_version": "^0.18",
            "_model_name": "LeafletTileLayerModel",
            "_view_count": null,
            "_view_module": "jupyter-leaflet",
            "_view_module_version": "^0.18",
            "_view_name": "LeafletTileLayerView",
            "attribution": "Google Earth Engine",
            "base": false,
            "bottom": true,
            "bounds": null,
            "detect_retina": false,
            "loading": false,
            "max_native_zoom": null,
            "max_zoom": 24,
            "min_native_zoom": null,
            "min_zoom": 0,
            "name": "Sentinel-2 Composite",
            "no_wrap": false,
            "opacity": 1,
            "options": [
              "attribution",
              "bounds",
              "detect_retina",
              "max_native_zoom",
              "max_zoom",
              "min_native_zoom",
              "min_zoom",
              "no_wrap",
              "tile_size",
              "tms",
              "zoom_offset"
            ],
            "pane": "",
            "popup": null,
            "popup_max_height": null,
            "popup_max_width": 300,
            "popup_min_width": 50,
            "show_loading": false,
            "subitems": [],
            "tile_size": 256,
            "tms": false,
            "url": "https://earthengine.googleapis.com/v1/projects/ee-kamusoko-test/maps/982796bea4b5fbbdae4597c670f5bfb1-fdd0159419c2819593da7b3d45f7075a/tiles/{z}/{x}/{y}",
            "visible": true,
            "zoom_offset": 0
          }
        },
        "1be8ec0335ac4ee686d821b1cca64d15": {
          "model_module": "@jupyter-widgets/base",
          "model_name": "LayoutModel",
          "model_module_version": "1.2.0",
          "state": {
            "_model_module": "@jupyter-widgets/base",
            "_model_module_version": "1.2.0",
            "_model_name": "LayoutModel",
            "_view_count": null,
            "_view_module": "@jupyter-widgets/base",
            "_view_module_version": "1.2.0",
            "_view_name": "LayoutView",
            "align_content": null,
            "align_items": null,
            "align_self": null,
            "border": null,
            "bottom": null,
            "display": null,
            "flex": null,
            "flex_flow": null,
            "grid_area": null,
            "grid_auto_columns": null,
            "grid_auto_flow": null,
            "grid_auto_rows": null,
            "grid_column": null,
            "grid_gap": null,
            "grid_row": null,
            "grid_template_areas": null,
            "grid_template_columns": null,
            "grid_template_rows": null,
            "height": "600px",
            "justify_content": null,
            "justify_items": null,
            "left": null,
            "margin": null,
            "max_height": null,
            "max_width": null,
            "min_height": null,
            "min_width": null,
            "object_fit": null,
            "object_position": null,
            "order": null,
            "overflow": null,
            "overflow_x": null,
            "overflow_y": null,
            "padding": null,
            "right": null,
            "top": null,
            "visibility": null,
            "width": null
          }
        },
        "602fd45b52de4b779a6f9d4bb298e4fd": {
          "model_module": "jupyter-leaflet",
          "model_name": "LeafletMapStyleModel",
          "model_module_version": "^0.18",
          "state": {
            "_model_module": "jupyter-leaflet",
            "_model_module_version": "^0.18",
            "_model_name": "LeafletMapStyleModel",
            "_view_count": null,
            "_view_module": "@jupyter-widgets/base",
            "_view_module_version": "1.2.0",
            "_view_name": "StyleView",
            "cursor": "grab"
          }
        },
        "a32d4798b2d7466b9e7b00eeaef89980": {
          "model_module": "@jupyter-widgets/controls",
          "model_name": "HBoxModel",
          "model_module_version": "1.5.0",
          "state": {
            "_dom_classes": [
              "geemap-colab"
            ],
            "_model_module": "@jupyter-widgets/controls",
            "_model_module_version": "1.5.0",
            "_model_name": "HBoxModel",
            "_view_count": null,
            "_view_module": "@jupyter-widgets/controls",
            "_view_module_version": "1.5.0",
            "_view_name": "HBoxView",
            "box_style": "",
            "children": [
              "IPY_MODEL_2d74e143cc01478da6c26b3adddf4b9e"
            ],
            "layout": "IPY_MODEL_877850273a16474f927b96ed48fc5b1f"
          }
        },
        "ad49951cc2464664b1b957087769c831": {
          "model_module": "@jupyter-widgets/controls",
          "model_name": "VBoxModel",
          "model_module_version": "1.5.0",
          "state": {
            "_dom_classes": [
              "geemap-colab"
            ],
            "_model_module": "@jupyter-widgets/controls",
            "_model_module_version": "1.5.0",
            "_model_name": "VBoxModel",
            "_view_count": null,
            "_view_module": "@jupyter-widgets/controls",
            "_view_module_version": "1.5.0",
            "_view_name": "VBoxView",
            "box_style": "",
            "children": [
              "IPY_MODEL_5f0ed22d969c4855a8166259c40659f9"
            ],
            "layout": "IPY_MODEL_53dee5793b964e33b6f492285299b568"
          }
        },
        "2d74e143cc01478da6c26b3adddf4b9e": {
          "model_module": "@jupyter-widgets/controls",
          "model_name": "ToggleButtonModel",
          "model_module_version": "1.5.0",
          "state": {
            "_dom_classes": [],
            "_model_module": "@jupyter-widgets/controls",
            "_model_module_version": "1.5.0",
            "_model_name": "ToggleButtonModel",
            "_view_count": null,
            "_view_module": "@jupyter-widgets/controls",
            "_view_module_version": "1.5.0",
            "_view_name": "ToggleButtonView",
            "button_style": "",
            "description": "",
            "description_tooltip": null,
            "disabled": false,
            "icon": "globe",
            "layout": "IPY_MODEL_a2a7306e9a814dec8b0b22032c60dd10",
            "style": "IPY_MODEL_ac83f9b2c1ce493f89f07d58bb32a2cd",
            "tooltip": "Search location/data",
            "value": false
          }
        },
        "877850273a16474f927b96ed48fc5b1f": {
          "model_module": "@jupyter-widgets/base",
          "model_name": "LayoutModel",
          "model_module_version": "1.2.0",
          "state": {
            "_model_module": "@jupyter-widgets/base",
            "_model_module_version": "1.2.0",
            "_model_name": "LayoutModel",
            "_view_count": null,
            "_view_module": "@jupyter-widgets/base",
            "_view_module_version": "1.2.0",
            "_view_name": "LayoutView",
            "align_content": null,
            "align_items": null,
            "align_self": null,
            "border": null,
            "bottom": null,
            "display": null,
            "flex": null,
            "flex_flow": null,
            "grid_area": null,
            "grid_auto_columns": null,
            "grid_auto_flow": null,
            "grid_auto_rows": null,
            "grid_column": null,
            "grid_gap": null,
            "grid_row": null,
            "grid_template_areas": null,
            "grid_template_columns": null,
            "grid_template_rows": null,
            "height": null,
            "justify_content": null,
            "justify_items": null,
            "left": null,
            "margin": null,
            "max_height": null,
            "max_width": null,
            "min_height": null,
            "min_width": null,
            "object_fit": null,
            "object_position": null,
            "order": null,
            "overflow": null,
            "overflow_x": null,
            "overflow_y": null,
            "padding": null,
            "right": null,
            "top": null,
            "visibility": null,
            "width": null
          }
        },
        "5f0ed22d969c4855a8166259c40659f9": {
          "model_module": "@jupyter-widgets/controls",
          "model_name": "ToggleButtonModel",
          "model_module_version": "1.5.0",
          "state": {
            "_dom_classes": [],
            "_model_module": "@jupyter-widgets/controls",
            "_model_module_version": "1.5.0",
            "_model_name": "ToggleButtonModel",
            "_view_count": null,
            "_view_module": "@jupyter-widgets/controls",
            "_view_module_version": "1.5.0",
            "_view_name": "ToggleButtonView",
            "button_style": "",
            "description": "",
            "description_tooltip": null,
            "disabled": false,
            "icon": "wrench",
            "layout": "IPY_MODEL_e416486cbe714b5d91698a21d417bbfc",
            "style": "IPY_MODEL_cafdf511ef7647cc885bc8f6fca350ef",
            "tooltip": "Toolbar",
            "value": false
          }
        },
        "53dee5793b964e33b6f492285299b568": {
          "model_module": "@jupyter-widgets/base",
          "model_name": "LayoutModel",
          "model_module_version": "1.2.0",
          "state": {
            "_model_module": "@jupyter-widgets/base",
            "_model_module_version": "1.2.0",
            "_model_name": "LayoutModel",
            "_view_count": null,
            "_view_module": "@jupyter-widgets/base",
            "_view_module_version": "1.2.0",
            "_view_name": "LayoutView",
            "align_content": null,
            "align_items": null,
            "align_self": null,
            "border": null,
            "bottom": null,
            "display": null,
            "flex": null,
            "flex_flow": null,
            "grid_area": null,
            "grid_auto_columns": null,
            "grid_auto_flow": null,
            "grid_auto_rows": null,
            "grid_column": null,
            "grid_gap": null,
            "grid_row": null,
            "grid_template_areas": null,
            "grid_template_columns": null,
            "grid_template_rows": null,
            "height": null,
            "justify_content": null,
            "justify_items": null,
            "left": null,
            "margin": null,
            "max_height": null,
            "max_width": null,
            "min_height": null,
            "min_width": null,
            "object_fit": null,
            "object_position": null,
            "order": null,
            "overflow": null,
            "overflow_x": null,
            "overflow_y": null,
            "padding": null,
            "right": null,
            "top": null,
            "visibility": null,
            "width": null
          }
        },
        "a2a7306e9a814dec8b0b22032c60dd10": {
          "model_module": "@jupyter-widgets/base",
          "model_name": "LayoutModel",
          "model_module_version": "1.2.0",
          "state": {
            "_model_module": "@jupyter-widgets/base",
            "_model_module_version": "1.2.0",
            "_model_name": "LayoutModel",
            "_view_count": null,
            "_view_module": "@jupyter-widgets/base",
            "_view_module_version": "1.2.0",
            "_view_name": "LayoutView",
            "align_content": null,
            "align_items": null,
            "align_self": null,
            "border": null,
            "bottom": null,
            "display": null,
            "flex": null,
            "flex_flow": null,
            "grid_area": null,
            "grid_auto_columns": null,
            "grid_auto_flow": null,
            "grid_auto_rows": null,
            "grid_column": null,
            "grid_gap": null,
            "grid_row": null,
            "grid_template_areas": null,
            "grid_template_columns": null,
            "grid_template_rows": null,
            "height": "28px",
            "justify_content": null,
            "justify_items": null,
            "left": null,
            "margin": null,
            "max_height": null,
            "max_width": null,
            "min_height": null,
            "min_width": null,
            "object_fit": null,
            "object_position": null,
            "order": null,
            "overflow": null,
            "overflow_x": null,
            "overflow_y": null,
            "padding": "0px 0px 0px 4px",
            "right": null,
            "top": null,
            "visibility": null,
            "width": "28px"
          }
        },
        "ac83f9b2c1ce493f89f07d58bb32a2cd": {
          "model_module": "@jupyter-widgets/controls",
          "model_name": "DescriptionStyleModel",
          "model_module_version": "1.5.0",
          "state": {
            "_model_module": "@jupyter-widgets/controls",
            "_model_module_version": "1.5.0",
            "_model_name": "DescriptionStyleModel",
            "_view_count": null,
            "_view_module": "@jupyter-widgets/base",
            "_view_module_version": "1.2.0",
            "_view_name": "StyleView",
            "description_width": ""
          }
        },
        "e416486cbe714b5d91698a21d417bbfc": {
          "model_module": "@jupyter-widgets/base",
          "model_name": "LayoutModel",
          "model_module_version": "1.2.0",
          "state": {
            "_model_module": "@jupyter-widgets/base",
            "_model_module_version": "1.2.0",
            "_model_name": "LayoutModel",
            "_view_count": null,
            "_view_module": "@jupyter-widgets/base",
            "_view_module_version": "1.2.0",
            "_view_name": "LayoutView",
            "align_content": null,
            "align_items": null,
            "align_self": null,
            "border": null,
            "bottom": null,
            "display": null,
            "flex": null,
            "flex_flow": null,
            "grid_area": null,
            "grid_auto_columns": null,
            "grid_auto_flow": null,
            "grid_auto_rows": null,
            "grid_column": null,
            "grid_gap": null,
            "grid_row": null,
            "grid_template_areas": null,
            "grid_template_columns": null,
            "grid_template_rows": null,
            "height": "28px",
            "justify_content": null,
            "justify_items": null,
            "left": null,
            "margin": null,
            "max_height": null,
            "max_width": null,
            "min_height": null,
            "min_width": null,
            "object_fit": null,
            "object_position": null,
            "order": null,
            "overflow": null,
            "overflow_x": null,
            "overflow_y": null,
            "padding": "0px 0px 0px 4px",
            "right": null,
            "top": null,
            "visibility": null,
            "width": "28px"
          }
        },
        "cafdf511ef7647cc885bc8f6fca350ef": {
          "model_module": "@jupyter-widgets/controls",
          "model_name": "DescriptionStyleModel",
          "model_module_version": "1.5.0",
          "state": {
            "_model_module": "@jupyter-widgets/controls",
            "_model_module_version": "1.5.0",
            "_model_name": "DescriptionStyleModel",
            "_view_count": null,
            "_view_module": "@jupyter-widgets/base",
            "_view_module_version": "1.2.0",
            "_view_name": "StyleView",
            "description_width": ""
          }
        },
        "1386974b9adf47babd839393c69f00a8": {
          "model_module": "jupyter-leaflet",
          "model_name": "LeafletMapModel",
          "model_module_version": "^0.18",
          "state": {
            "_dom_classes": [],
            "_model_module": "jupyter-leaflet",
            "_model_module_version": "^0.18",
            "_model_name": "LeafletMapModel",
            "_view_count": null,
            "_view_module": "jupyter-leaflet",
            "_view_module_version": "^0.18",
            "_view_name": "LeafletMapView",
            "bottom": 579238,
            "bounce_at_zoom_limits": true,
            "box_zoom": true,
            "center": [
              -18.435970448824882,
              28.869152069091797
            ],
            "close_popup_on_click": true,
            "controls": [
              "IPY_MODEL_1c0d49022c694d70af4d64535ff26645",
              "IPY_MODEL_2a754bad3bac4a2a9d84d894b5a54142",
              "IPY_MODEL_9121defe2d344235b2ad0ef03d47bc80",
              "IPY_MODEL_ba398ff0c4b64f89b4a3217e7cfe636b",
              "IPY_MODEL_451e29e5835d4dd2ba8ab7c9d64d9b30",
              "IPY_MODEL_aca00ca75df143d7ac576a0fe078e2ba",
              "IPY_MODEL_7fed373be54d485c8f01a5165bf1cd99",
              "IPY_MODEL_d8e2926153164a13bd14490b4b5e9c2d",
              "IPY_MODEL_b4cb096a63c04160a665d976a3eb1930"
            ],
            "crs": {
              "name": "EPSG3857",
              "custom": false
            },
            "default_style": "IPY_MODEL_301a321acb67421087f1f0d134d32045",
            "double_click_zoom": true,
            "dragging": true,
            "dragging_style": "IPY_MODEL_0726a1e063204c0db13ac8aa3bba0bce",
            "east": 29.16732788085938,
            "fullscreen": false,
            "inertia": true,
            "inertia_deceleration": 3000,
            "inertia_max_speed": 1500,
            "interpolation": "bilinear",
            "keyboard": true,
            "keyboard_pan_offset": 80,
            "keyboard_zoom_offset": 1,
            "layers": [
              "IPY_MODEL_4f2f7ecfa94e491bae602bf7edb4019d",
              "IPY_MODEL_857c7a1397ad4d23ab4688d919445da8",
              "IPY_MODEL_a766ee22d9b941499e2c125c2559f677",
              "IPY_MODEL_8a328b9d830c4fd5ab5047470e6b39a2"
            ],
            "layout": "IPY_MODEL_7ad0b93041174dd18bfbf52590803a87",
            "left": 607507,
            "max_zoom": 24,
            "min_zoom": null,
            "modisdate": "2024-06-26",
            "north": -18.338231929080106,
            "options": [
              "bounce_at_zoom_limits",
              "box_zoom",
              "center",
              "close_popup_on_click",
              "double_click_zoom",
              "dragging",
              "fullscreen",
              "inertia",
              "inertia_deceleration",
              "inertia_max_speed",
              "interpolation",
              "keyboard",
              "keyboard_pan_offset",
              "keyboard_zoom_offset",
              "max_zoom",
              "min_zoom",
              "prefer_canvas",
              "scroll_wheel_zoom",
              "tap",
              "tap_tolerance",
              "touch_zoom",
              "world_copy_jump",
              "zoom",
              "zoom_animation_threshold",
              "zoom_delta",
              "zoom_snap"
            ],
            "panes": {},
            "prefer_canvas": false,
            "right": 609244,
            "scroll_wheel_zoom": true,
            "south": -18.533653420823576,
            "style": "IPY_MODEL_301a321acb67421087f1f0d134d32045",
            "tap": true,
            "tap_tolerance": 15,
            "top": 578638,
            "touch_zoom": true,
            "west": 28.570976257324222,
            "window_url": "https://it1qnzzu0yh-496ff2e9c6d22116-0-colab.googleusercontent.com/outputframe.html?vrz=colab_20240625-060120_RC01_646520897",
            "world_copy_jump": false,
            "zoom": 12,
            "zoom_animation_threshold": 4,
            "zoom_delta": 1,
            "zoom_snap": 1
          }
        },
        "1c0d49022c694d70af4d64535ff26645": {
          "model_module": "jupyter-leaflet",
          "model_name": "LeafletWidgetControlModel",
          "model_module_version": "^0.18",
          "state": {
            "_model_module": "jupyter-leaflet",
            "_model_module_version": "^0.18",
            "_model_name": "LeafletWidgetControlModel",
            "_view_count": null,
            "_view_module": "jupyter-leaflet",
            "_view_module_version": "^0.18",
            "_view_name": "LeafletWidgetControlView",
            "max_height": null,
            "max_width": null,
            "min_height": null,
            "min_width": null,
            "options": [
              "position",
              "transparent_bg"
            ],
            "position": "topleft",
            "transparent_bg": false,
            "widget": "IPY_MODEL_56650a7866d9441d9e3803dde7fef758"
          }
        },
        "2a754bad3bac4a2a9d84d894b5a54142": {
          "model_module": "jupyter-leaflet",
          "model_name": "LeafletZoomControlModel",
          "model_module_version": "^0.18",
          "state": {
            "_model_module": "jupyter-leaflet",
            "_model_module_version": "^0.18",
            "_model_name": "LeafletZoomControlModel",
            "_view_count": null,
            "_view_module": "jupyter-leaflet",
            "_view_module_version": "^0.18",
            "_view_name": "LeafletZoomControlView",
            "options": [
              "position",
              "zoom_in_text",
              "zoom_in_title",
              "zoom_out_text",
              "zoom_out_title"
            ],
            "position": "topleft",
            "zoom_in_text": "+",
            "zoom_in_title": "Zoom in",
            "zoom_out_text": "-",
            "zoom_out_title": "Zoom out"
          }
        },
        "9121defe2d344235b2ad0ef03d47bc80": {
          "model_module": "jupyter-leaflet",
          "model_name": "LeafletFullScreenControlModel",
          "model_module_version": "^0.18",
          "state": {
            "_model_module": "jupyter-leaflet",
            "_model_module_version": "^0.18",
            "_model_name": "LeafletFullScreenControlModel",
            "_view_count": null,
            "_view_module": "jupyter-leaflet",
            "_view_module_version": "^0.18",
            "_view_name": "LeafletFullScreenControlView",
            "options": [
              "position"
            ],
            "position": "topleft"
          }
        },
        "ba398ff0c4b64f89b4a3217e7cfe636b": {
          "model_module": "jupyter-leaflet",
          "model_name": "LeafletDrawControlModel",
          "model_module_version": "^0.18",
          "state": {
            "_model_module": "jupyter-leaflet",
            "_model_module_version": "^0.18",
            "_model_name": "LeafletDrawControlModel",
            "_view_count": null,
            "_view_module": "jupyter-leaflet",
            "_view_module_version": "^0.18",
            "_view_name": "LeafletDrawControlView",
            "circle": {},
            "circlemarker": {},
            "data": [],
            "edit": true,
            "marker": {
              "shapeOptions": {
                "color": "#3388ff"
              }
            },
            "options": [
              "position"
            ],
            "polygon": {
              "shapeOptions": {}
            },
            "polyline": {
              "shapeOptions": {}
            },
            "position": "topleft",
            "rectangle": {
              "shapeOptions": {
                "color": "#3388ff"
              }
            },
            "remove": true
          }
        },
        "451e29e5835d4dd2ba8ab7c9d64d9b30": {
          "model_module": "jupyter-leaflet",
          "model_name": "LeafletScaleControlModel",
          "model_module_version": "^0.18",
          "state": {
            "_model_module": "jupyter-leaflet",
            "_model_module_version": "^0.18",
            "_model_name": "LeafletScaleControlModel",
            "_view_count": null,
            "_view_module": "jupyter-leaflet",
            "_view_module_version": "^0.18",
            "_view_name": "LeafletScaleControlView",
            "imperial": true,
            "max_width": 100,
            "metric": true,
            "options": [
              "imperial",
              "max_width",
              "metric",
              "position",
              "update_when_idle"
            ],
            "position": "bottomleft",
            "update_when_idle": false
          }
        },
        "aca00ca75df143d7ac576a0fe078e2ba": {
          "model_module": "jupyter-leaflet",
          "model_name": "LeafletMeasureControlModel",
          "model_module_version": "^0.18",
          "state": {
            "_custom_units": {},
            "_model_module": "jupyter-leaflet",
            "_model_module_version": "^0.18",
            "_model_name": "LeafletMeasureControlModel",
            "_view_count": null,
            "_view_module": "jupyter-leaflet",
            "_view_module_version": "^0.18",
            "_view_name": "LeafletMeasureControlView",
            "active_color": "orange",
            "capture_z_index": 10000,
            "completed_color": "#C8F2BE",
            "options": [
              "active_color",
              "capture_z_index",
              "completed_color",
              "popup_options",
              "position",
              "primary_area_unit",
              "primary_length_unit",
              "secondary_area_unit",
              "secondary_length_unit"
            ],
            "popup_options": {
              "className": "leaflet-measure-resultpopup",
              "autoPanPadding": [
                10,
                10
              ]
            },
            "position": "bottomleft",
            "primary_area_unit": "acres",
            "primary_length_unit": "kilometers",
            "secondary_area_unit": null,
            "secondary_length_unit": null
          }
        },
        "7fed373be54d485c8f01a5165bf1cd99": {
          "model_module": "jupyter-leaflet",
          "model_name": "LeafletWidgetControlModel",
          "model_module_version": "^0.18",
          "state": {
            "_model_module": "jupyter-leaflet",
            "_model_module_version": "^0.18",
            "_model_name": "LeafletWidgetControlModel",
            "_view_count": null,
            "_view_module": "jupyter-leaflet",
            "_view_module_version": "^0.18",
            "_view_name": "LeafletWidgetControlView",
            "max_height": null,
            "max_width": null,
            "min_height": null,
            "min_width": null,
            "options": [
              "position",
              "transparent_bg"
            ],
            "position": "topright",
            "transparent_bg": false,
            "widget": "IPY_MODEL_2cd10f3e1ff94b6d986369b073acf33c"
          }
        },
        "d8e2926153164a13bd14490b4b5e9c2d": {
          "model_module": "jupyter-leaflet",
          "model_name": "LeafletAttributionControlModel",
          "model_module_version": "^0.18",
          "state": {
            "_model_module": "jupyter-leaflet",
            "_model_module_version": "^0.18",
            "_model_name": "LeafletAttributionControlModel",
            "_view_count": null,
            "_view_module": "jupyter-leaflet",
            "_view_module_version": "^0.18",
            "_view_name": "LeafletAttributionControlView",
            "options": [
              "position",
              "prefix"
            ],
            "position": "bottomright",
            "prefix": "ipyleaflet"
          }
        },
        "b4cb096a63c04160a665d976a3eb1930": {
          "model_module": "jupyter-leaflet",
          "model_name": "LeafletLayersControlModel",
          "model_module_version": "^0.18",
          "state": {
            "_model_module": "jupyter-leaflet",
            "_model_module_version": "^0.18",
            "_model_name": "LeafletLayersControlModel",
            "_view_count": null,
            "_view_module": "jupyter-leaflet",
            "_view_module_version": "^0.18",
            "_view_name": "LeafletLayersControlView",
            "collapsed": true,
            "options": [
              "collapsed",
              "position"
            ],
            "position": "topright"
          }
        },
        "301a321acb67421087f1f0d134d32045": {
          "model_module": "jupyter-leaflet",
          "model_name": "LeafletMapStyleModel",
          "model_module_version": "^0.18",
          "state": {
            "_model_module": "jupyter-leaflet",
            "_model_module_version": "^0.18",
            "_model_name": "LeafletMapStyleModel",
            "_view_count": null,
            "_view_module": "@jupyter-widgets/base",
            "_view_module_version": "1.2.0",
            "_view_name": "StyleView",
            "cursor": "grab"
          }
        },
        "0726a1e063204c0db13ac8aa3bba0bce": {
          "model_module": "jupyter-leaflet",
          "model_name": "LeafletMapStyleModel",
          "model_module_version": "^0.18",
          "state": {
            "_model_module": "jupyter-leaflet",
            "_model_module_version": "^0.18",
            "_model_name": "LeafletMapStyleModel",
            "_view_count": null,
            "_view_module": "@jupyter-widgets/base",
            "_view_module_version": "1.2.0",
            "_view_name": "StyleView",
            "cursor": "move"
          }
        },
        "4f2f7ecfa94e491bae602bf7edb4019d": {
          "model_module": "jupyter-leaflet",
          "model_name": "LeafletTileLayerModel",
          "model_module_version": "^0.18",
          "state": {
            "_model_module": "jupyter-leaflet",
            "_model_module_version": "^0.18",
            "_model_name": "LeafletTileLayerModel",
            "_view_count": null,
            "_view_module": "jupyter-leaflet",
            "_view_module_version": "^0.18",
            "_view_name": "LeafletTileLayerView",
            "attribution": "&copy; <a href=\"https://www.openstreetmap.org/copyright\">OpenStreetMap</a> contributors",
            "base": true,
            "bottom": true,
            "bounds": null,
            "detect_retina": false,
            "loading": false,
            "max_native_zoom": null,
            "max_zoom": 19,
            "min_native_zoom": null,
            "min_zoom": 1,
            "name": "OpenStreetMap.Mapnik",
            "no_wrap": false,
            "opacity": 1,
            "options": [
              "attribution",
              "bounds",
              "detect_retina",
              "max_native_zoom",
              "max_zoom",
              "min_native_zoom",
              "min_zoom",
              "no_wrap",
              "tile_size",
              "tms",
              "zoom_offset"
            ],
            "pane": "",
            "popup": null,
            "popup_max_height": null,
            "popup_max_width": 300,
            "popup_min_width": 50,
            "show_loading": false,
            "subitems": [],
            "tile_size": 256,
            "tms": false,
            "url": "https://tile.openstreetmap.org/{z}/{x}/{y}.png",
            "visible": true,
            "zoom_offset": 0
          }
        },
        "857c7a1397ad4d23ab4688d919445da8": {
          "model_module": "jupyter-leaflet",
          "model_name": "LeafletTileLayerModel",
          "model_module_version": "^0.18",
          "state": {
            "_model_module": "jupyter-leaflet",
            "_model_module_version": "^0.18",
            "_model_name": "LeafletTileLayerModel",
            "_view_count": null,
            "_view_module": "jupyter-leaflet",
            "_view_module_version": "^0.18",
            "_view_name": "LeafletTileLayerView",
            "attribution": "Google Earth Engine",
            "base": false,
            "bottom": true,
            "bounds": null,
            "detect_retina": false,
            "loading": false,
            "max_native_zoom": null,
            "max_zoom": 24,
            "min_native_zoom": null,
            "min_zoom": 0,
            "name": "NDVI",
            "no_wrap": false,
            "opacity": 1,
            "options": [
              "attribution",
              "bounds",
              "detect_retina",
              "max_native_zoom",
              "max_zoom",
              "min_native_zoom",
              "min_zoom",
              "no_wrap",
              "tile_size",
              "tms",
              "zoom_offset"
            ],
            "pane": "",
            "popup": null,
            "popup_max_height": null,
            "popup_max_width": 300,
            "popup_min_width": 50,
            "show_loading": false,
            "subitems": [],
            "tile_size": 256,
            "tms": false,
            "url": "https://earthengine.googleapis.com/v1/projects/ee-kamusoko-test/maps/2fead42e3b099f7e6a36ccb2825c3b57-b55811b43e8986b392f86e0ad6475dc0/tiles/{z}/{x}/{y}",
            "visible": true,
            "zoom_offset": 0
          }
        },
        "a766ee22d9b941499e2c125c2559f677": {
          "model_module": "jupyter-leaflet",
          "model_name": "LeafletTileLayerModel",
          "model_module_version": "^0.18",
          "state": {
            "_model_module": "jupyter-leaflet",
            "_model_module_version": "^0.18",
            "_model_name": "LeafletTileLayerModel",
            "_view_count": null,
            "_view_module": "jupyter-leaflet",
            "_view_module_version": "^0.18",
            "_view_name": "LeafletTileLayerView",
            "attribution": "Google Earth Engine",
            "base": false,
            "bottom": true,
            "bounds": null,
            "detect_retina": false,
            "loading": false,
            "max_native_zoom": null,
            "max_zoom": 24,
            "min_native_zoom": null,
            "min_zoom": 0,
            "name": "SAVI",
            "no_wrap": false,
            "opacity": 1,
            "options": [
              "attribution",
              "bounds",
              "detect_retina",
              "max_native_zoom",
              "max_zoom",
              "min_native_zoom",
              "min_zoom",
              "no_wrap",
              "tile_size",
              "tms",
              "zoom_offset"
            ],
            "pane": "",
            "popup": null,
            "popup_max_height": null,
            "popup_max_width": 300,
            "popup_min_width": 50,
            "show_loading": false,
            "subitems": [],
            "tile_size": 256,
            "tms": false,
            "url": "https://earthengine.googleapis.com/v1/projects/ee-kamusoko-test/maps/1dd4e2600ca571e06cfeb2549e79c26b-74d99f24143ea58cc9e6892c4ae1c94f/tiles/{z}/{x}/{y}",
            "visible": true,
            "zoom_offset": 0
          }
        },
        "8a328b9d830c4fd5ab5047470e6b39a2": {
          "model_module": "jupyter-leaflet",
          "model_name": "LeafletTileLayerModel",
          "model_module_version": "^0.18",
          "state": {
            "_model_module": "jupyter-leaflet",
            "_model_module_version": "^0.18",
            "_model_name": "LeafletTileLayerModel",
            "_view_count": null,
            "_view_module": "jupyter-leaflet",
            "_view_module_version": "^0.18",
            "_view_name": "LeafletTileLayerView",
            "attribution": "Google Earth Engine",
            "base": false,
            "bottom": true,
            "bounds": null,
            "detect_retina": false,
            "loading": false,
            "max_native_zoom": null,
            "max_zoom": 24,
            "min_native_zoom": null,
            "min_zoom": 0,
            "name": "RESI",
            "no_wrap": false,
            "opacity": 1,
            "options": [
              "attribution",
              "bounds",
              "detect_retina",
              "max_native_zoom",
              "max_zoom",
              "min_native_zoom",
              "min_zoom",
              "no_wrap",
              "tile_size",
              "tms",
              "zoom_offset"
            ],
            "pane": "",
            "popup": null,
            "popup_max_height": null,
            "popup_max_width": 300,
            "popup_min_width": 50,
            "show_loading": false,
            "subitems": [],
            "tile_size": 256,
            "tms": false,
            "url": "https://earthengine.googleapis.com/v1/projects/ee-kamusoko-test/maps/b4f5e16293cc56373c10cfbe92504111-a0bbf0be48aada4aa2d5f4b737460b3e/tiles/{z}/{x}/{y}",
            "visible": true,
            "zoom_offset": 0
          }
        },
        "7ad0b93041174dd18bfbf52590803a87": {
          "model_module": "@jupyter-widgets/base",
          "model_name": "LayoutModel",
          "model_module_version": "1.2.0",
          "state": {
            "_model_module": "@jupyter-widgets/base",
            "_model_module_version": "1.2.0",
            "_model_name": "LayoutModel",
            "_view_count": null,
            "_view_module": "@jupyter-widgets/base",
            "_view_module_version": "1.2.0",
            "_view_name": "LayoutView",
            "align_content": null,
            "align_items": null,
            "align_self": null,
            "border": null,
            "bottom": null,
            "display": null,
            "flex": null,
            "flex_flow": null,
            "grid_area": null,
            "grid_auto_columns": null,
            "grid_auto_flow": null,
            "grid_auto_rows": null,
            "grid_column": null,
            "grid_gap": null,
            "grid_row": null,
            "grid_template_areas": null,
            "grid_template_columns": null,
            "grid_template_rows": null,
            "height": "600px",
            "justify_content": null,
            "justify_items": null,
            "left": null,
            "margin": null,
            "max_height": null,
            "max_width": null,
            "min_height": null,
            "min_width": null,
            "object_fit": null,
            "object_position": null,
            "order": null,
            "overflow": null,
            "overflow_x": null,
            "overflow_y": null,
            "padding": null,
            "right": null,
            "top": null,
            "visibility": null,
            "width": null
          }
        },
        "90852d0be14c4b458aee623e7cc50a93": {
          "model_module": "jupyter-leaflet",
          "model_name": "LeafletMapStyleModel",
          "model_module_version": "^0.18",
          "state": {
            "_model_module": "jupyter-leaflet",
            "_model_module_version": "^0.18",
            "_model_name": "LeafletMapStyleModel",
            "_view_count": null,
            "_view_module": "@jupyter-widgets/base",
            "_view_module_version": "1.2.0",
            "_view_name": "StyleView",
            "cursor": "grab"
          }
        },
        "56650a7866d9441d9e3803dde7fef758": {
          "model_module": "@jupyter-widgets/controls",
          "model_name": "HBoxModel",
          "model_module_version": "1.5.0",
          "state": {
            "_dom_classes": [
              "geemap-colab"
            ],
            "_model_module": "@jupyter-widgets/controls",
            "_model_module_version": "1.5.0",
            "_model_name": "HBoxModel",
            "_view_count": null,
            "_view_module": "@jupyter-widgets/controls",
            "_view_module_version": "1.5.0",
            "_view_name": "HBoxView",
            "box_style": "",
            "children": [
              "IPY_MODEL_8e9a7816c0cf4053a70eafab465fb482"
            ],
            "layout": "IPY_MODEL_e645fcbbc106416582c20020d90792cb"
          }
        },
        "2cd10f3e1ff94b6d986369b073acf33c": {
          "model_module": "@jupyter-widgets/controls",
          "model_name": "VBoxModel",
          "model_module_version": "1.5.0",
          "state": {
            "_dom_classes": [
              "geemap-colab"
            ],
            "_model_module": "@jupyter-widgets/controls",
            "_model_module_version": "1.5.0",
            "_model_name": "VBoxModel",
            "_view_count": null,
            "_view_module": "@jupyter-widgets/controls",
            "_view_module_version": "1.5.0",
            "_view_name": "VBoxView",
            "box_style": "",
            "children": [
              "IPY_MODEL_fa5c620c10b345e1a158f29d07f836c4"
            ],
            "layout": "IPY_MODEL_627b3ffd2a5f4f2292786ed7e585fa68"
          }
        },
        "8e9a7816c0cf4053a70eafab465fb482": {
          "model_module": "@jupyter-widgets/controls",
          "model_name": "ToggleButtonModel",
          "model_module_version": "1.5.0",
          "state": {
            "_dom_classes": [],
            "_model_module": "@jupyter-widgets/controls",
            "_model_module_version": "1.5.0",
            "_model_name": "ToggleButtonModel",
            "_view_count": null,
            "_view_module": "@jupyter-widgets/controls",
            "_view_module_version": "1.5.0",
            "_view_name": "ToggleButtonView",
            "button_style": "",
            "description": "",
            "description_tooltip": null,
            "disabled": false,
            "icon": "globe",
            "layout": "IPY_MODEL_e3299ba47b7d49189f0d7856f062a7dc",
            "style": "IPY_MODEL_22e4e4691eea4efebd79c931a427f84a",
            "tooltip": "Search location/data",
            "value": false
          }
        },
        "e645fcbbc106416582c20020d90792cb": {
          "model_module": "@jupyter-widgets/base",
          "model_name": "LayoutModel",
          "model_module_version": "1.2.0",
          "state": {
            "_model_module": "@jupyter-widgets/base",
            "_model_module_version": "1.2.0",
            "_model_name": "LayoutModel",
            "_view_count": null,
            "_view_module": "@jupyter-widgets/base",
            "_view_module_version": "1.2.0",
            "_view_name": "LayoutView",
            "align_content": null,
            "align_items": null,
            "align_self": null,
            "border": null,
            "bottom": null,
            "display": null,
            "flex": null,
            "flex_flow": null,
            "grid_area": null,
            "grid_auto_columns": null,
            "grid_auto_flow": null,
            "grid_auto_rows": null,
            "grid_column": null,
            "grid_gap": null,
            "grid_row": null,
            "grid_template_areas": null,
            "grid_template_columns": null,
            "grid_template_rows": null,
            "height": null,
            "justify_content": null,
            "justify_items": null,
            "left": null,
            "margin": null,
            "max_height": null,
            "max_width": null,
            "min_height": null,
            "min_width": null,
            "object_fit": null,
            "object_position": null,
            "order": null,
            "overflow": null,
            "overflow_x": null,
            "overflow_y": null,
            "padding": null,
            "right": null,
            "top": null,
            "visibility": null,
            "width": null
          }
        },
        "fa5c620c10b345e1a158f29d07f836c4": {
          "model_module": "@jupyter-widgets/controls",
          "model_name": "ToggleButtonModel",
          "model_module_version": "1.5.0",
          "state": {
            "_dom_classes": [],
            "_model_module": "@jupyter-widgets/controls",
            "_model_module_version": "1.5.0",
            "_model_name": "ToggleButtonModel",
            "_view_count": null,
            "_view_module": "@jupyter-widgets/controls",
            "_view_module_version": "1.5.0",
            "_view_name": "ToggleButtonView",
            "button_style": "",
            "description": "",
            "description_tooltip": null,
            "disabled": false,
            "icon": "wrench",
            "layout": "IPY_MODEL_4b2fd60719544b328cacb5528afaa90a",
            "style": "IPY_MODEL_b333e6cdb5264532a7ea65ff0c17294f",
            "tooltip": "Toolbar",
            "value": false
          }
        },
        "627b3ffd2a5f4f2292786ed7e585fa68": {
          "model_module": "@jupyter-widgets/base",
          "model_name": "LayoutModel",
          "model_module_version": "1.2.0",
          "state": {
            "_model_module": "@jupyter-widgets/base",
            "_model_module_version": "1.2.0",
            "_model_name": "LayoutModel",
            "_view_count": null,
            "_view_module": "@jupyter-widgets/base",
            "_view_module_version": "1.2.0",
            "_view_name": "LayoutView",
            "align_content": null,
            "align_items": null,
            "align_self": null,
            "border": null,
            "bottom": null,
            "display": null,
            "flex": null,
            "flex_flow": null,
            "grid_area": null,
            "grid_auto_columns": null,
            "grid_auto_flow": null,
            "grid_auto_rows": null,
            "grid_column": null,
            "grid_gap": null,
            "grid_row": null,
            "grid_template_areas": null,
            "grid_template_columns": null,
            "grid_template_rows": null,
            "height": null,
            "justify_content": null,
            "justify_items": null,
            "left": null,
            "margin": null,
            "max_height": null,
            "max_width": null,
            "min_height": null,
            "min_width": null,
            "object_fit": null,
            "object_position": null,
            "order": null,
            "overflow": null,
            "overflow_x": null,
            "overflow_y": null,
            "padding": null,
            "right": null,
            "top": null,
            "visibility": null,
            "width": null
          }
        },
        "e3299ba47b7d49189f0d7856f062a7dc": {
          "model_module": "@jupyter-widgets/base",
          "model_name": "LayoutModel",
          "model_module_version": "1.2.0",
          "state": {
            "_model_module": "@jupyter-widgets/base",
            "_model_module_version": "1.2.0",
            "_model_name": "LayoutModel",
            "_view_count": null,
            "_view_module": "@jupyter-widgets/base",
            "_view_module_version": "1.2.0",
            "_view_name": "LayoutView",
            "align_content": null,
            "align_items": null,
            "align_self": null,
            "border": null,
            "bottom": null,
            "display": null,
            "flex": null,
            "flex_flow": null,
            "grid_area": null,
            "grid_auto_columns": null,
            "grid_auto_flow": null,
            "grid_auto_rows": null,
            "grid_column": null,
            "grid_gap": null,
            "grid_row": null,
            "grid_template_areas": null,
            "grid_template_columns": null,
            "grid_template_rows": null,
            "height": "28px",
            "justify_content": null,
            "justify_items": null,
            "left": null,
            "margin": null,
            "max_height": null,
            "max_width": null,
            "min_height": null,
            "min_width": null,
            "object_fit": null,
            "object_position": null,
            "order": null,
            "overflow": null,
            "overflow_x": null,
            "overflow_y": null,
            "padding": "0px 0px 0px 4px",
            "right": null,
            "top": null,
            "visibility": null,
            "width": "28px"
          }
        },
        "22e4e4691eea4efebd79c931a427f84a": {
          "model_module": "@jupyter-widgets/controls",
          "model_name": "DescriptionStyleModel",
          "model_module_version": "1.5.0",
          "state": {
            "_model_module": "@jupyter-widgets/controls",
            "_model_module_version": "1.5.0",
            "_model_name": "DescriptionStyleModel",
            "_view_count": null,
            "_view_module": "@jupyter-widgets/base",
            "_view_module_version": "1.2.0",
            "_view_name": "StyleView",
            "description_width": ""
          }
        },
        "4b2fd60719544b328cacb5528afaa90a": {
          "model_module": "@jupyter-widgets/base",
          "model_name": "LayoutModel",
          "model_module_version": "1.2.0",
          "state": {
            "_model_module": "@jupyter-widgets/base",
            "_model_module_version": "1.2.0",
            "_model_name": "LayoutModel",
            "_view_count": null,
            "_view_module": "@jupyter-widgets/base",
            "_view_module_version": "1.2.0",
            "_view_name": "LayoutView",
            "align_content": null,
            "align_items": null,
            "align_self": null,
            "border": null,
            "bottom": null,
            "display": null,
            "flex": null,
            "flex_flow": null,
            "grid_area": null,
            "grid_auto_columns": null,
            "grid_auto_flow": null,
            "grid_auto_rows": null,
            "grid_column": null,
            "grid_gap": null,
            "grid_row": null,
            "grid_template_areas": null,
            "grid_template_columns": null,
            "grid_template_rows": null,
            "height": "28px",
            "justify_content": null,
            "justify_items": null,
            "left": null,
            "margin": null,
            "max_height": null,
            "max_width": null,
            "min_height": null,
            "min_width": null,
            "object_fit": null,
            "object_position": null,
            "order": null,
            "overflow": null,
            "overflow_x": null,
            "overflow_y": null,
            "padding": "0px 0px 0px 4px",
            "right": null,
            "top": null,
            "visibility": null,
            "width": "28px"
          }
        },
        "b333e6cdb5264532a7ea65ff0c17294f": {
          "model_module": "@jupyter-widgets/controls",
          "model_name": "DescriptionStyleModel",
          "model_module_version": "1.5.0",
          "state": {
            "_model_module": "@jupyter-widgets/controls",
            "_model_module_version": "1.5.0",
            "_model_name": "DescriptionStyleModel",
            "_view_count": null,
            "_view_module": "@jupyter-widgets/base",
            "_view_module_version": "1.2.0",
            "_view_name": "StyleView",
            "description_width": ""
          }
        },
        "e352da2b50394383a9ebb4d3cf46d7bb": {
          "model_module": "jupyter-leaflet",
          "model_name": "LeafletMapModel",
          "model_module_version": "^0.18",
          "state": {
            "_dom_classes": [],
            "_model_module": "jupyter-leaflet",
            "_model_module_version": "^0.18",
            "_model_name": "LeafletMapModel",
            "_view_count": null,
            "_view_module": "jupyter-leaflet",
            "_view_module_version": "^0.18",
            "_view_name": "LeafletMapView",
            "bottom": 579238,
            "bounce_at_zoom_limits": true,
            "box_zoom": true,
            "center": [
              -18.435970448824882,
              28.869152069091797
            ],
            "close_popup_on_click": true,
            "controls": [
              "IPY_MODEL_01adc297dfca4378bff578bb1bbfacdc",
              "IPY_MODEL_b39b7efb88354187b312dddcdfbdea5c",
              "IPY_MODEL_374ee3065a7c4f7ab04d18fe4cf0b09c",
              "IPY_MODEL_a15805198bef453289420b356bfd6e7e",
              "IPY_MODEL_7fb3d13912654b06ba15bcca1fdb653f",
              "IPY_MODEL_de676cdff26344e4982a4fbff8aef499",
              "IPY_MODEL_d082d2be6b6f4a3bbe5765b6c8d00a67",
              "IPY_MODEL_e57047e3656d481e901e77d07bee4520",
              "IPY_MODEL_22a11648c7964636a118a660e26128ee"
            ],
            "crs": {
              "name": "EPSG3857",
              "custom": false
            },
            "default_style": "IPY_MODEL_846b61eae31f425da83723a668b4e4a5",
            "double_click_zoom": true,
            "dragging": true,
            "dragging_style": "IPY_MODEL_fa04b5fa369d46c6a035d131ebdd188d",
            "east": 29.16732788085938,
            "fullscreen": false,
            "inertia": true,
            "inertia_deceleration": 3000,
            "inertia_max_speed": 1500,
            "interpolation": "bilinear",
            "keyboard": true,
            "keyboard_pan_offset": 80,
            "keyboard_zoom_offset": 1,
            "layers": [
              "IPY_MODEL_19ebbaba884a4198917df58260ab16a1",
              "IPY_MODEL_2216e1e9c0504030904a7792dc57fb61",
              "IPY_MODEL_a327f38d8ed04f9594cbdb38ae8daa1a"
            ],
            "layout": "IPY_MODEL_6d5c7ebb7ace47aeb8caf0fd154f9d1f",
            "left": 607507,
            "max_zoom": 24,
            "min_zoom": null,
            "modisdate": "2024-06-26",
            "north": -18.338231929080106,
            "options": [
              "bounce_at_zoom_limits",
              "box_zoom",
              "center",
              "close_popup_on_click",
              "double_click_zoom",
              "dragging",
              "fullscreen",
              "inertia",
              "inertia_deceleration",
              "inertia_max_speed",
              "interpolation",
              "keyboard",
              "keyboard_pan_offset",
              "keyboard_zoom_offset",
              "max_zoom",
              "min_zoom",
              "prefer_canvas",
              "scroll_wheel_zoom",
              "tap",
              "tap_tolerance",
              "touch_zoom",
              "world_copy_jump",
              "zoom",
              "zoom_animation_threshold",
              "zoom_delta",
              "zoom_snap"
            ],
            "panes": {},
            "prefer_canvas": false,
            "right": 609244,
            "scroll_wheel_zoom": true,
            "south": -18.533653420823576,
            "style": "IPY_MODEL_846b61eae31f425da83723a668b4e4a5",
            "tap": true,
            "tap_tolerance": 15,
            "top": 578638,
            "touch_zoom": true,
            "west": 28.570976257324222,
            "window_url": "https://it1qnzzu0yh-496ff2e9c6d22116-0-colab.googleusercontent.com/outputframe.html?vrz=colab_20240625-060120_RC01_646520897",
            "world_copy_jump": false,
            "zoom": 12,
            "zoom_animation_threshold": 4,
            "zoom_delta": 1,
            "zoom_snap": 1
          }
        },
        "01adc297dfca4378bff578bb1bbfacdc": {
          "model_module": "jupyter-leaflet",
          "model_name": "LeafletWidgetControlModel",
          "model_module_version": "^0.18",
          "state": {
            "_model_module": "jupyter-leaflet",
            "_model_module_version": "^0.18",
            "_model_name": "LeafletWidgetControlModel",
            "_view_count": null,
            "_view_module": "jupyter-leaflet",
            "_view_module_version": "^0.18",
            "_view_name": "LeafletWidgetControlView",
            "max_height": null,
            "max_width": null,
            "min_height": null,
            "min_width": null,
            "options": [
              "position",
              "transparent_bg"
            ],
            "position": "topleft",
            "transparent_bg": false,
            "widget": "IPY_MODEL_6748e214670a47e2846f65bd25658ae5"
          }
        },
        "b39b7efb88354187b312dddcdfbdea5c": {
          "model_module": "jupyter-leaflet",
          "model_name": "LeafletZoomControlModel",
          "model_module_version": "^0.18",
          "state": {
            "_model_module": "jupyter-leaflet",
            "_model_module_version": "^0.18",
            "_model_name": "LeafletZoomControlModel",
            "_view_count": null,
            "_view_module": "jupyter-leaflet",
            "_view_module_version": "^0.18",
            "_view_name": "LeafletZoomControlView",
            "options": [
              "position",
              "zoom_in_text",
              "zoom_in_title",
              "zoom_out_text",
              "zoom_out_title"
            ],
            "position": "topleft",
            "zoom_in_text": "+",
            "zoom_in_title": "Zoom in",
            "zoom_out_text": "-",
            "zoom_out_title": "Zoom out"
          }
        },
        "374ee3065a7c4f7ab04d18fe4cf0b09c": {
          "model_module": "jupyter-leaflet",
          "model_name": "LeafletFullScreenControlModel",
          "model_module_version": "^0.18",
          "state": {
            "_model_module": "jupyter-leaflet",
            "_model_module_version": "^0.18",
            "_model_name": "LeafletFullScreenControlModel",
            "_view_count": null,
            "_view_module": "jupyter-leaflet",
            "_view_module_version": "^0.18",
            "_view_name": "LeafletFullScreenControlView",
            "options": [
              "position"
            ],
            "position": "topleft"
          }
        },
        "a15805198bef453289420b356bfd6e7e": {
          "model_module": "jupyter-leaflet",
          "model_name": "LeafletDrawControlModel",
          "model_module_version": "^0.18",
          "state": {
            "_model_module": "jupyter-leaflet",
            "_model_module_version": "^0.18",
            "_model_name": "LeafletDrawControlModel",
            "_view_count": null,
            "_view_module": "jupyter-leaflet",
            "_view_module_version": "^0.18",
            "_view_name": "LeafletDrawControlView",
            "circle": {},
            "circlemarker": {},
            "data": [],
            "edit": true,
            "marker": {
              "shapeOptions": {
                "color": "#3388ff"
              }
            },
            "options": [
              "position"
            ],
            "polygon": {
              "shapeOptions": {}
            },
            "polyline": {
              "shapeOptions": {}
            },
            "position": "topleft",
            "rectangle": {
              "shapeOptions": {
                "color": "#3388ff"
              }
            },
            "remove": true
          }
        },
        "7fb3d13912654b06ba15bcca1fdb653f": {
          "model_module": "jupyter-leaflet",
          "model_name": "LeafletScaleControlModel",
          "model_module_version": "^0.18",
          "state": {
            "_model_module": "jupyter-leaflet",
            "_model_module_version": "^0.18",
            "_model_name": "LeafletScaleControlModel",
            "_view_count": null,
            "_view_module": "jupyter-leaflet",
            "_view_module_version": "^0.18",
            "_view_name": "LeafletScaleControlView",
            "imperial": true,
            "max_width": 100,
            "metric": true,
            "options": [
              "imperial",
              "max_width",
              "metric",
              "position",
              "update_when_idle"
            ],
            "position": "bottomleft",
            "update_when_idle": false
          }
        },
        "de676cdff26344e4982a4fbff8aef499": {
          "model_module": "jupyter-leaflet",
          "model_name": "LeafletMeasureControlModel",
          "model_module_version": "^0.18",
          "state": {
            "_custom_units": {},
            "_model_module": "jupyter-leaflet",
            "_model_module_version": "^0.18",
            "_model_name": "LeafletMeasureControlModel",
            "_view_count": null,
            "_view_module": "jupyter-leaflet",
            "_view_module_version": "^0.18",
            "_view_name": "LeafletMeasureControlView",
            "active_color": "orange",
            "capture_z_index": 10000,
            "completed_color": "#C8F2BE",
            "options": [
              "active_color",
              "capture_z_index",
              "completed_color",
              "popup_options",
              "position",
              "primary_area_unit",
              "primary_length_unit",
              "secondary_area_unit",
              "secondary_length_unit"
            ],
            "popup_options": {
              "className": "leaflet-measure-resultpopup",
              "autoPanPadding": [
                10,
                10
              ]
            },
            "position": "bottomleft",
            "primary_area_unit": "acres",
            "primary_length_unit": "kilometers",
            "secondary_area_unit": null,
            "secondary_length_unit": null
          }
        },
        "d082d2be6b6f4a3bbe5765b6c8d00a67": {
          "model_module": "jupyter-leaflet",
          "model_name": "LeafletWidgetControlModel",
          "model_module_version": "^0.18",
          "state": {
            "_model_module": "jupyter-leaflet",
            "_model_module_version": "^0.18",
            "_model_name": "LeafletWidgetControlModel",
            "_view_count": null,
            "_view_module": "jupyter-leaflet",
            "_view_module_version": "^0.18",
            "_view_name": "LeafletWidgetControlView",
            "max_height": null,
            "max_width": null,
            "min_height": null,
            "min_width": null,
            "options": [
              "position",
              "transparent_bg"
            ],
            "position": "topright",
            "transparent_bg": false,
            "widget": "IPY_MODEL_300af53740ed4f6b9283c37b31082c13"
          }
        },
        "e57047e3656d481e901e77d07bee4520": {
          "model_module": "jupyter-leaflet",
          "model_name": "LeafletAttributionControlModel",
          "model_module_version": "^0.18",
          "state": {
            "_model_module": "jupyter-leaflet",
            "_model_module_version": "^0.18",
            "_model_name": "LeafletAttributionControlModel",
            "_view_count": null,
            "_view_module": "jupyter-leaflet",
            "_view_module_version": "^0.18",
            "_view_name": "LeafletAttributionControlView",
            "options": [
              "position",
              "prefix"
            ],
            "position": "bottomright",
            "prefix": "ipyleaflet"
          }
        },
        "22a11648c7964636a118a660e26128ee": {
          "model_module": "jupyter-leaflet",
          "model_name": "LeafletLayersControlModel",
          "model_module_version": "^0.18",
          "state": {
            "_model_module": "jupyter-leaflet",
            "_model_module_version": "^0.18",
            "_model_name": "LeafletLayersControlModel",
            "_view_count": null,
            "_view_module": "jupyter-leaflet",
            "_view_module_version": "^0.18",
            "_view_name": "LeafletLayersControlView",
            "collapsed": true,
            "options": [
              "collapsed",
              "position"
            ],
            "position": "topright"
          }
        },
        "846b61eae31f425da83723a668b4e4a5": {
          "model_module": "jupyter-leaflet",
          "model_name": "LeafletMapStyleModel",
          "model_module_version": "^0.18",
          "state": {
            "_model_module": "jupyter-leaflet",
            "_model_module_version": "^0.18",
            "_model_name": "LeafletMapStyleModel",
            "_view_count": null,
            "_view_module": "@jupyter-widgets/base",
            "_view_module_version": "1.2.0",
            "_view_name": "StyleView",
            "cursor": "grab"
          }
        },
        "fa04b5fa369d46c6a035d131ebdd188d": {
          "model_module": "jupyter-leaflet",
          "model_name": "LeafletMapStyleModel",
          "model_module_version": "^0.18",
          "state": {
            "_model_module": "jupyter-leaflet",
            "_model_module_version": "^0.18",
            "_model_name": "LeafletMapStyleModel",
            "_view_count": null,
            "_view_module": "@jupyter-widgets/base",
            "_view_module_version": "1.2.0",
            "_view_name": "StyleView",
            "cursor": "move"
          }
        },
        "19ebbaba884a4198917df58260ab16a1": {
          "model_module": "jupyter-leaflet",
          "model_name": "LeafletTileLayerModel",
          "model_module_version": "^0.18",
          "state": {
            "_model_module": "jupyter-leaflet",
            "_model_module_version": "^0.18",
            "_model_name": "LeafletTileLayerModel",
            "_view_count": null,
            "_view_module": "jupyter-leaflet",
            "_view_module_version": "^0.18",
            "_view_name": "LeafletTileLayerView",
            "attribution": "&copy; <a href=\"https://www.openstreetmap.org/copyright\">OpenStreetMap</a> contributors",
            "base": true,
            "bottom": true,
            "bounds": null,
            "detect_retina": false,
            "loading": false,
            "max_native_zoom": null,
            "max_zoom": 19,
            "min_native_zoom": null,
            "min_zoom": 1,
            "name": "OpenStreetMap.Mapnik",
            "no_wrap": false,
            "opacity": 1,
            "options": [
              "attribution",
              "bounds",
              "detect_retina",
              "max_native_zoom",
              "max_zoom",
              "min_native_zoom",
              "min_zoom",
              "no_wrap",
              "tile_size",
              "tms",
              "zoom_offset"
            ],
            "pane": "",
            "popup": null,
            "popup_max_height": null,
            "popup_max_width": 300,
            "popup_min_width": 50,
            "show_loading": false,
            "subitems": [],
            "tile_size": 256,
            "tms": false,
            "url": "https://tile.openstreetmap.org/{z}/{x}/{y}.png",
            "visible": true,
            "zoom_offset": 0
          }
        },
        "2216e1e9c0504030904a7792dc57fb61": {
          "model_module": "jupyter-leaflet",
          "model_name": "LeafletTileLayerModel",
          "model_module_version": "^0.18",
          "state": {
            "_model_module": "jupyter-leaflet",
            "_model_module_version": "^0.18",
            "_model_name": "LeafletTileLayerModel",
            "_view_count": null,
            "_view_module": "jupyter-leaflet",
            "_view_module_version": "^0.18",
            "_view_name": "LeafletTileLayerView",
            "attribution": "Google Earth Engine",
            "base": false,
            "bottom": true,
            "bounds": null,
            "detect_retina": false,
            "loading": false,
            "max_native_zoom": null,
            "max_zoom": 24,
            "min_native_zoom": null,
            "min_zoom": 0,
            "name": "Elevation",
            "no_wrap": false,
            "opacity": 1,
            "options": [
              "attribution",
              "bounds",
              "detect_retina",
              "max_native_zoom",
              "max_zoom",
              "min_native_zoom",
              "min_zoom",
              "no_wrap",
              "tile_size",
              "tms",
              "zoom_offset"
            ],
            "pane": "",
            "popup": null,
            "popup_max_height": null,
            "popup_max_width": 300,
            "popup_min_width": 50,
            "show_loading": false,
            "subitems": [],
            "tile_size": 256,
            "tms": false,
            "url": "https://earthengine.googleapis.com/v1/projects/ee-kamusoko-test/maps/e7bd4aff8308c875efd54de18b082f42-8664732e89271d78023f42563c00bad8/tiles/{z}/{x}/{y}",
            "visible": true,
            "zoom_offset": 0
          }
        },
        "a327f38d8ed04f9594cbdb38ae8daa1a": {
          "model_module": "jupyter-leaflet",
          "model_name": "LeafletTileLayerModel",
          "model_module_version": "^0.18",
          "state": {
            "_model_module": "jupyter-leaflet",
            "_model_module_version": "^0.18",
            "_model_name": "LeafletTileLayerModel",
            "_view_count": null,
            "_view_module": "jupyter-leaflet",
            "_view_module_version": "^0.18",
            "_view_name": "LeafletTileLayerView",
            "attribution": "Google Earth Engine",
            "base": false,
            "bottom": true,
            "bounds": null,
            "detect_retina": false,
            "loading": false,
            "max_native_zoom": null,
            "max_zoom": 24,
            "min_native_zoom": null,
            "min_zoom": 0,
            "name": "Slope",
            "no_wrap": false,
            "opacity": 1,
            "options": [
              "attribution",
              "bounds",
              "detect_retina",
              "max_native_zoom",
              "max_zoom",
              "min_native_zoom",
              "min_zoom",
              "no_wrap",
              "tile_size",
              "tms",
              "zoom_offset"
            ],
            "pane": "",
            "popup": null,
            "popup_max_height": null,
            "popup_max_width": 300,
            "popup_min_width": 50,
            "show_loading": false,
            "subitems": [],
            "tile_size": 256,
            "tms": false,
            "url": "https://earthengine.googleapis.com/v1/projects/ee-kamusoko-test/maps/c11e4b137de2e2fc6ecbdd4c3c1ecff0-f8573c265bd4acdf021e065b95db7f70/tiles/{z}/{x}/{y}",
            "visible": true,
            "zoom_offset": 0
          }
        },
        "6d5c7ebb7ace47aeb8caf0fd154f9d1f": {
          "model_module": "@jupyter-widgets/base",
          "model_name": "LayoutModel",
          "model_module_version": "1.2.0",
          "state": {
            "_model_module": "@jupyter-widgets/base",
            "_model_module_version": "1.2.0",
            "_model_name": "LayoutModel",
            "_view_count": null,
            "_view_module": "@jupyter-widgets/base",
            "_view_module_version": "1.2.0",
            "_view_name": "LayoutView",
            "align_content": null,
            "align_items": null,
            "align_self": null,
            "border": null,
            "bottom": null,
            "display": null,
            "flex": null,
            "flex_flow": null,
            "grid_area": null,
            "grid_auto_columns": null,
            "grid_auto_flow": null,
            "grid_auto_rows": null,
            "grid_column": null,
            "grid_gap": null,
            "grid_row": null,
            "grid_template_areas": null,
            "grid_template_columns": null,
            "grid_template_rows": null,
            "height": "600px",
            "justify_content": null,
            "justify_items": null,
            "left": null,
            "margin": null,
            "max_height": null,
            "max_width": null,
            "min_height": null,
            "min_width": null,
            "object_fit": null,
            "object_position": null,
            "order": null,
            "overflow": null,
            "overflow_x": null,
            "overflow_y": null,
            "padding": null,
            "right": null,
            "top": null,
            "visibility": null,
            "width": null
          }
        },
        "f63494728e7c49b7a7196a57772896db": {
          "model_module": "jupyter-leaflet",
          "model_name": "LeafletMapStyleModel",
          "model_module_version": "^0.18",
          "state": {
            "_model_module": "jupyter-leaflet",
            "_model_module_version": "^0.18",
            "_model_name": "LeafletMapStyleModel",
            "_view_count": null,
            "_view_module": "@jupyter-widgets/base",
            "_view_module_version": "1.2.0",
            "_view_name": "StyleView",
            "cursor": "grab"
          }
        },
        "6748e214670a47e2846f65bd25658ae5": {
          "model_module": "@jupyter-widgets/controls",
          "model_name": "HBoxModel",
          "model_module_version": "1.5.0",
          "state": {
            "_dom_classes": [
              "geemap-colab"
            ],
            "_model_module": "@jupyter-widgets/controls",
            "_model_module_version": "1.5.0",
            "_model_name": "HBoxModel",
            "_view_count": null,
            "_view_module": "@jupyter-widgets/controls",
            "_view_module_version": "1.5.0",
            "_view_name": "HBoxView",
            "box_style": "",
            "children": [
              "IPY_MODEL_6acd81fa7d834b4c80afb51db594dcfb"
            ],
            "layout": "IPY_MODEL_3121e7e94d804365bb3d4838e4edc872"
          }
        },
        "300af53740ed4f6b9283c37b31082c13": {
          "model_module": "@jupyter-widgets/controls",
          "model_name": "VBoxModel",
          "model_module_version": "1.5.0",
          "state": {
            "_dom_classes": [
              "geemap-colab"
            ],
            "_model_module": "@jupyter-widgets/controls",
            "_model_module_version": "1.5.0",
            "_model_name": "VBoxModel",
            "_view_count": null,
            "_view_module": "@jupyter-widgets/controls",
            "_view_module_version": "1.5.0",
            "_view_name": "VBoxView",
            "box_style": "",
            "children": [
              "IPY_MODEL_0a837e5e1ae142d29f75bfb822ccf5c4"
            ],
            "layout": "IPY_MODEL_9cb557909b1f456ab3a07e1cfddc23fa"
          }
        },
        "6acd81fa7d834b4c80afb51db594dcfb": {
          "model_module": "@jupyter-widgets/controls",
          "model_name": "ToggleButtonModel",
          "model_module_version": "1.5.0",
          "state": {
            "_dom_classes": [],
            "_model_module": "@jupyter-widgets/controls",
            "_model_module_version": "1.5.0",
            "_model_name": "ToggleButtonModel",
            "_view_count": null,
            "_view_module": "@jupyter-widgets/controls",
            "_view_module_version": "1.5.0",
            "_view_name": "ToggleButtonView",
            "button_style": "",
            "description": "",
            "description_tooltip": null,
            "disabled": false,
            "icon": "globe",
            "layout": "IPY_MODEL_36b3f630a054463eac5a8337cb8481b0",
            "style": "IPY_MODEL_e5208095ded94f26b685c5ad76f15973",
            "tooltip": "Search location/data",
            "value": false
          }
        },
        "3121e7e94d804365bb3d4838e4edc872": {
          "model_module": "@jupyter-widgets/base",
          "model_name": "LayoutModel",
          "model_module_version": "1.2.0",
          "state": {
            "_model_module": "@jupyter-widgets/base",
            "_model_module_version": "1.2.0",
            "_model_name": "LayoutModel",
            "_view_count": null,
            "_view_module": "@jupyter-widgets/base",
            "_view_module_version": "1.2.0",
            "_view_name": "LayoutView",
            "align_content": null,
            "align_items": null,
            "align_self": null,
            "border": null,
            "bottom": null,
            "display": null,
            "flex": null,
            "flex_flow": null,
            "grid_area": null,
            "grid_auto_columns": null,
            "grid_auto_flow": null,
            "grid_auto_rows": null,
            "grid_column": null,
            "grid_gap": null,
            "grid_row": null,
            "grid_template_areas": null,
            "grid_template_columns": null,
            "grid_template_rows": null,
            "height": null,
            "justify_content": null,
            "justify_items": null,
            "left": null,
            "margin": null,
            "max_height": null,
            "max_width": null,
            "min_height": null,
            "min_width": null,
            "object_fit": null,
            "object_position": null,
            "order": null,
            "overflow": null,
            "overflow_x": null,
            "overflow_y": null,
            "padding": null,
            "right": null,
            "top": null,
            "visibility": null,
            "width": null
          }
        },
        "0a837e5e1ae142d29f75bfb822ccf5c4": {
          "model_module": "@jupyter-widgets/controls",
          "model_name": "ToggleButtonModel",
          "model_module_version": "1.5.0",
          "state": {
            "_dom_classes": [],
            "_model_module": "@jupyter-widgets/controls",
            "_model_module_version": "1.5.0",
            "_model_name": "ToggleButtonModel",
            "_view_count": null,
            "_view_module": "@jupyter-widgets/controls",
            "_view_module_version": "1.5.0",
            "_view_name": "ToggleButtonView",
            "button_style": "",
            "description": "",
            "description_tooltip": null,
            "disabled": false,
            "icon": "wrench",
            "layout": "IPY_MODEL_7b6a705053b346a390d6153f0cc68238",
            "style": "IPY_MODEL_68d6ee5a728940bc8689d02fe6fcd9ff",
            "tooltip": "Toolbar",
            "value": false
          }
        },
        "9cb557909b1f456ab3a07e1cfddc23fa": {
          "model_module": "@jupyter-widgets/base",
          "model_name": "LayoutModel",
          "model_module_version": "1.2.0",
          "state": {
            "_model_module": "@jupyter-widgets/base",
            "_model_module_version": "1.2.0",
            "_model_name": "LayoutModel",
            "_view_count": null,
            "_view_module": "@jupyter-widgets/base",
            "_view_module_version": "1.2.0",
            "_view_name": "LayoutView",
            "align_content": null,
            "align_items": null,
            "align_self": null,
            "border": null,
            "bottom": null,
            "display": null,
            "flex": null,
            "flex_flow": null,
            "grid_area": null,
            "grid_auto_columns": null,
            "grid_auto_flow": null,
            "grid_auto_rows": null,
            "grid_column": null,
            "grid_gap": null,
            "grid_row": null,
            "grid_template_areas": null,
            "grid_template_columns": null,
            "grid_template_rows": null,
            "height": null,
            "justify_content": null,
            "justify_items": null,
            "left": null,
            "margin": null,
            "max_height": null,
            "max_width": null,
            "min_height": null,
            "min_width": null,
            "object_fit": null,
            "object_position": null,
            "order": null,
            "overflow": null,
            "overflow_x": null,
            "overflow_y": null,
            "padding": null,
            "right": null,
            "top": null,
            "visibility": null,
            "width": null
          }
        },
        "36b3f630a054463eac5a8337cb8481b0": {
          "model_module": "@jupyter-widgets/base",
          "model_name": "LayoutModel",
          "model_module_version": "1.2.0",
          "state": {
            "_model_module": "@jupyter-widgets/base",
            "_model_module_version": "1.2.0",
            "_model_name": "LayoutModel",
            "_view_count": null,
            "_view_module": "@jupyter-widgets/base",
            "_view_module_version": "1.2.0",
            "_view_name": "LayoutView",
            "align_content": null,
            "align_items": null,
            "align_self": null,
            "border": null,
            "bottom": null,
            "display": null,
            "flex": null,
            "flex_flow": null,
            "grid_area": null,
            "grid_auto_columns": null,
            "grid_auto_flow": null,
            "grid_auto_rows": null,
            "grid_column": null,
            "grid_gap": null,
            "grid_row": null,
            "grid_template_areas": null,
            "grid_template_columns": null,
            "grid_template_rows": null,
            "height": "28px",
            "justify_content": null,
            "justify_items": null,
            "left": null,
            "margin": null,
            "max_height": null,
            "max_width": null,
            "min_height": null,
            "min_width": null,
            "object_fit": null,
            "object_position": null,
            "order": null,
            "overflow": null,
            "overflow_x": null,
            "overflow_y": null,
            "padding": "0px 0px 0px 4px",
            "right": null,
            "top": null,
            "visibility": null,
            "width": "28px"
          }
        },
        "e5208095ded94f26b685c5ad76f15973": {
          "model_module": "@jupyter-widgets/controls",
          "model_name": "DescriptionStyleModel",
          "model_module_version": "1.5.0",
          "state": {
            "_model_module": "@jupyter-widgets/controls",
            "_model_module_version": "1.5.0",
            "_model_name": "DescriptionStyleModel",
            "_view_count": null,
            "_view_module": "@jupyter-widgets/base",
            "_view_module_version": "1.2.0",
            "_view_name": "StyleView",
            "description_width": ""
          }
        },
        "7b6a705053b346a390d6153f0cc68238": {
          "model_module": "@jupyter-widgets/base",
          "model_name": "LayoutModel",
          "model_module_version": "1.2.0",
          "state": {
            "_model_module": "@jupyter-widgets/base",
            "_model_module_version": "1.2.0",
            "_model_name": "LayoutModel",
            "_view_count": null,
            "_view_module": "@jupyter-widgets/base",
            "_view_module_version": "1.2.0",
            "_view_name": "LayoutView",
            "align_content": null,
            "align_items": null,
            "align_self": null,
            "border": null,
            "bottom": null,
            "display": null,
            "flex": null,
            "flex_flow": null,
            "grid_area": null,
            "grid_auto_columns": null,
            "grid_auto_flow": null,
            "grid_auto_rows": null,
            "grid_column": null,
            "grid_gap": null,
            "grid_row": null,
            "grid_template_areas": null,
            "grid_template_columns": null,
            "grid_template_rows": null,
            "height": "28px",
            "justify_content": null,
            "justify_items": null,
            "left": null,
            "margin": null,
            "max_height": null,
            "max_width": null,
            "min_height": null,
            "min_width": null,
            "object_fit": null,
            "object_position": null,
            "order": null,
            "overflow": null,
            "overflow_x": null,
            "overflow_y": null,
            "padding": "0px 0px 0px 4px",
            "right": null,
            "top": null,
            "visibility": null,
            "width": "28px"
          }
        },
        "68d6ee5a728940bc8689d02fe6fcd9ff": {
          "model_module": "@jupyter-widgets/controls",
          "model_name": "DescriptionStyleModel",
          "model_module_version": "1.5.0",
          "state": {
            "_model_module": "@jupyter-widgets/controls",
            "_model_module_version": "1.5.0",
            "_model_name": "DescriptionStyleModel",
            "_view_count": null,
            "_view_module": "@jupyter-widgets/base",
            "_view_module_version": "1.2.0",
            "_view_name": "StyleView",
            "description_width": ""
          }
        },
        "1778a9e69af04b60a4341881fc17eb7e": {
          "model_module": "jupyter-leaflet",
          "model_name": "LeafletMapModel",
          "model_module_version": "^0.18",
          "state": {
            "_dom_classes": [],
            "_model_module": "jupyter-leaflet",
            "_model_module_version": "^0.18",
            "_model_name": "LeafletMapModel",
            "_view_count": null,
            "_view_module": "jupyter-leaflet",
            "_view_module_version": "^0.18",
            "_view_name": "LeafletMapView",
            "bottom": 579238,
            "bounce_at_zoom_limits": true,
            "box_zoom": true,
            "center": [
              -18.435970448824882,
              28.869152069091797
            ],
            "close_popup_on_click": true,
            "controls": [
              "IPY_MODEL_1acb172746a0491aa4de2e8c6147ca04",
              "IPY_MODEL_8eaae701e16c4ab1aff67e434ec007d7",
              "IPY_MODEL_6a65ca0264db475ebf5773ceb9799423",
              "IPY_MODEL_cd871597c1be4af2b46e9da23a2386d5",
              "IPY_MODEL_ade6c19168bc483384e61527dd17fdcc",
              "IPY_MODEL_2a13e4a45b764395a95a7925cadb2a27",
              "IPY_MODEL_796e867c966c4953a70c80eeec23cf05",
              "IPY_MODEL_f38d39d3f0144e289481972d5f5ae6ce"
            ],
            "crs": {
              "name": "EPSG3857",
              "custom": false
            },
            "default_style": "IPY_MODEL_c99bee80dd0b46568e7f2093f3d8b088",
            "double_click_zoom": true,
            "dragging": true,
            "dragging_style": "IPY_MODEL_198723bf3f574a31aa8b8f48413a288c",
            "east": 29.16732788085938,
            "fullscreen": false,
            "inertia": true,
            "inertia_deceleration": 3000,
            "inertia_max_speed": 1500,
            "interpolation": "bilinear",
            "keyboard": true,
            "keyboard_pan_offset": 80,
            "keyboard_zoom_offset": 1,
            "layers": [
              "IPY_MODEL_cad3f139dcca4996b1279005a3a3b1fe",
              "IPY_MODEL_231829838d4f44fe9bcb43956fec320c",
              "IPY_MODEL_4a496dc9abaa4d49bd01b1fc0ab63841"
            ],
            "layout": "IPY_MODEL_34c1759d69544ee6a272a03e74334e4c",
            "left": 607507,
            "max_zoom": 24,
            "min_zoom": null,
            "modisdate": "2024-06-26",
            "north": -18.338231929080106,
            "options": [
              "bounce_at_zoom_limits",
              "box_zoom",
              "center",
              "close_popup_on_click",
              "double_click_zoom",
              "dragging",
              "fullscreen",
              "inertia",
              "inertia_deceleration",
              "inertia_max_speed",
              "interpolation",
              "keyboard",
              "keyboard_pan_offset",
              "keyboard_zoom_offset",
              "max_zoom",
              "min_zoom",
              "prefer_canvas",
              "scroll_wheel_zoom",
              "tap",
              "tap_tolerance",
              "touch_zoom",
              "world_copy_jump",
              "zoom",
              "zoom_animation_threshold",
              "zoom_delta",
              "zoom_snap"
            ],
            "panes": {},
            "prefer_canvas": false,
            "right": 609244,
            "scroll_wheel_zoom": true,
            "south": -18.533653420823576,
            "style": "IPY_MODEL_c99bee80dd0b46568e7f2093f3d8b088",
            "tap": true,
            "tap_tolerance": 15,
            "top": 578638,
            "touch_zoom": true,
            "west": 28.570976257324222,
            "window_url": "https://it1qnzzu0yh-496ff2e9c6d22116-0-colab.googleusercontent.com/outputframe.html?vrz=colab_20240625-060120_RC01_646520897",
            "world_copy_jump": false,
            "zoom": 12,
            "zoom_animation_threshold": 4,
            "zoom_delta": 1,
            "zoom_snap": 1
          }
        },
        "1acb172746a0491aa4de2e8c6147ca04": {
          "model_module": "jupyter-leaflet",
          "model_name": "LeafletWidgetControlModel",
          "model_module_version": "^0.18",
          "state": {
            "_model_module": "jupyter-leaflet",
            "_model_module_version": "^0.18",
            "_model_name": "LeafletWidgetControlModel",
            "_view_count": null,
            "_view_module": "jupyter-leaflet",
            "_view_module_version": "^0.18",
            "_view_name": "LeafletWidgetControlView",
            "max_height": null,
            "max_width": null,
            "min_height": null,
            "min_width": null,
            "options": [
              "position",
              "transparent_bg"
            ],
            "position": "topleft",
            "transparent_bg": false,
            "widget": "IPY_MODEL_6033fcfdfc704ea4a1a318245ade2a9f"
          }
        },
        "8eaae701e16c4ab1aff67e434ec007d7": {
          "model_module": "jupyter-leaflet",
          "model_name": "LeafletZoomControlModel",
          "model_module_version": "^0.18",
          "state": {
            "_model_module": "jupyter-leaflet",
            "_model_module_version": "^0.18",
            "_model_name": "LeafletZoomControlModel",
            "_view_count": null,
            "_view_module": "jupyter-leaflet",
            "_view_module_version": "^0.18",
            "_view_name": "LeafletZoomControlView",
            "options": [
              "position",
              "zoom_in_text",
              "zoom_in_title",
              "zoom_out_text",
              "zoom_out_title"
            ],
            "position": "topleft",
            "zoom_in_text": "+",
            "zoom_in_title": "Zoom in",
            "zoom_out_text": "-",
            "zoom_out_title": "Zoom out"
          }
        },
        "6a65ca0264db475ebf5773ceb9799423": {
          "model_module": "jupyter-leaflet",
          "model_name": "LeafletFullScreenControlModel",
          "model_module_version": "^0.18",
          "state": {
            "_model_module": "jupyter-leaflet",
            "_model_module_version": "^0.18",
            "_model_name": "LeafletFullScreenControlModel",
            "_view_count": null,
            "_view_module": "jupyter-leaflet",
            "_view_module_version": "^0.18",
            "_view_name": "LeafletFullScreenControlView",
            "options": [
              "position"
            ],
            "position": "topleft"
          }
        },
        "cd871597c1be4af2b46e9da23a2386d5": {
          "model_module": "jupyter-leaflet",
          "model_name": "LeafletDrawControlModel",
          "model_module_version": "^0.18",
          "state": {
            "_model_module": "jupyter-leaflet",
            "_model_module_version": "^0.18",
            "_model_name": "LeafletDrawControlModel",
            "_view_count": null,
            "_view_module": "jupyter-leaflet",
            "_view_module_version": "^0.18",
            "_view_name": "LeafletDrawControlView",
            "circle": {},
            "circlemarker": {},
            "data": [],
            "edit": true,
            "marker": {
              "shapeOptions": {
                "color": "#3388ff"
              }
            },
            "options": [
              "position"
            ],
            "polygon": {
              "shapeOptions": {}
            },
            "polyline": {
              "shapeOptions": {}
            },
            "position": "topleft",
            "rectangle": {
              "shapeOptions": {
                "color": "#3388ff"
              }
            },
            "remove": true
          }
        },
        "ade6c19168bc483384e61527dd17fdcc": {
          "model_module": "jupyter-leaflet",
          "model_name": "LeafletScaleControlModel",
          "model_module_version": "^0.18",
          "state": {
            "_model_module": "jupyter-leaflet",
            "_model_module_version": "^0.18",
            "_model_name": "LeafletScaleControlModel",
            "_view_count": null,
            "_view_module": "jupyter-leaflet",
            "_view_module_version": "^0.18",
            "_view_name": "LeafletScaleControlView",
            "imperial": true,
            "max_width": 100,
            "metric": true,
            "options": [
              "imperial",
              "max_width",
              "metric",
              "position",
              "update_when_idle"
            ],
            "position": "bottomleft",
            "update_when_idle": false
          }
        },
        "2a13e4a45b764395a95a7925cadb2a27": {
          "model_module": "jupyter-leaflet",
          "model_name": "LeafletMeasureControlModel",
          "model_module_version": "^0.18",
          "state": {
            "_custom_units": {},
            "_model_module": "jupyter-leaflet",
            "_model_module_version": "^0.18",
            "_model_name": "LeafletMeasureControlModel",
            "_view_count": null,
            "_view_module": "jupyter-leaflet",
            "_view_module_version": "^0.18",
            "_view_name": "LeafletMeasureControlView",
            "active_color": "orange",
            "capture_z_index": 10000,
            "completed_color": "#C8F2BE",
            "options": [
              "active_color",
              "capture_z_index",
              "completed_color",
              "popup_options",
              "position",
              "primary_area_unit",
              "primary_length_unit",
              "secondary_area_unit",
              "secondary_length_unit"
            ],
            "popup_options": {
              "className": "leaflet-measure-resultpopup",
              "autoPanPadding": [
                10,
                10
              ]
            },
            "position": "bottomleft",
            "primary_area_unit": "acres",
            "primary_length_unit": "kilometers",
            "secondary_area_unit": null,
            "secondary_length_unit": null
          }
        },
        "796e867c966c4953a70c80eeec23cf05": {
          "model_module": "jupyter-leaflet",
          "model_name": "LeafletWidgetControlModel",
          "model_module_version": "^0.18",
          "state": {
            "_model_module": "jupyter-leaflet",
            "_model_module_version": "^0.18",
            "_model_name": "LeafletWidgetControlModel",
            "_view_count": null,
            "_view_module": "jupyter-leaflet",
            "_view_module_version": "^0.18",
            "_view_name": "LeafletWidgetControlView",
            "max_height": null,
            "max_width": null,
            "min_height": null,
            "min_width": null,
            "options": [
              "position",
              "transparent_bg"
            ],
            "position": "topright",
            "transparent_bg": false,
            "widget": "IPY_MODEL_b63a2776979644e59c807b2962c78344"
          }
        },
        "f38d39d3f0144e289481972d5f5ae6ce": {
          "model_module": "jupyter-leaflet",
          "model_name": "LeafletAttributionControlModel",
          "model_module_version": "^0.18",
          "state": {
            "_model_module": "jupyter-leaflet",
            "_model_module_version": "^0.18",
            "_model_name": "LeafletAttributionControlModel",
            "_view_count": null,
            "_view_module": "jupyter-leaflet",
            "_view_module_version": "^0.18",
            "_view_name": "LeafletAttributionControlView",
            "options": [
              "position",
              "prefix"
            ],
            "position": "bottomright",
            "prefix": "ipyleaflet"
          }
        },
        "c99bee80dd0b46568e7f2093f3d8b088": {
          "model_module": "jupyter-leaflet",
          "model_name": "LeafletMapStyleModel",
          "model_module_version": "^0.18",
          "state": {
            "_model_module": "jupyter-leaflet",
            "_model_module_version": "^0.18",
            "_model_name": "LeafletMapStyleModel",
            "_view_count": null,
            "_view_module": "@jupyter-widgets/base",
            "_view_module_version": "1.2.0",
            "_view_name": "StyleView",
            "cursor": "grab"
          }
        },
        "198723bf3f574a31aa8b8f48413a288c": {
          "model_module": "jupyter-leaflet",
          "model_name": "LeafletMapStyleModel",
          "model_module_version": "^0.18",
          "state": {
            "_model_module": "jupyter-leaflet",
            "_model_module_version": "^0.18",
            "_model_name": "LeafletMapStyleModel",
            "_view_count": null,
            "_view_module": "@jupyter-widgets/base",
            "_view_module_version": "1.2.0",
            "_view_name": "StyleView",
            "cursor": "move"
          }
        },
        "cad3f139dcca4996b1279005a3a3b1fe": {
          "model_module": "jupyter-leaflet",
          "model_name": "LeafletTileLayerModel",
          "model_module_version": "^0.18",
          "state": {
            "_model_module": "jupyter-leaflet",
            "_model_module_version": "^0.18",
            "_model_name": "LeafletTileLayerModel",
            "_view_count": null,
            "_view_module": "jupyter-leaflet",
            "_view_module_version": "^0.18",
            "_view_name": "LeafletTileLayerView",
            "attribution": "&copy; <a href=\"https://www.openstreetmap.org/copyright\">OpenStreetMap</a> contributors",
            "base": true,
            "bottom": true,
            "bounds": null,
            "detect_retina": false,
            "loading": false,
            "max_native_zoom": null,
            "max_zoom": 19,
            "min_native_zoom": null,
            "min_zoom": 1,
            "name": "OpenStreetMap.Mapnik",
            "no_wrap": false,
            "opacity": 1,
            "options": [
              "attribution",
              "bounds",
              "detect_retina",
              "max_native_zoom",
              "max_zoom",
              "min_native_zoom",
              "min_zoom",
              "no_wrap",
              "tile_size",
              "tms",
              "zoom_offset"
            ],
            "pane": "",
            "popup": null,
            "popup_max_height": null,
            "popup_max_width": 300,
            "popup_min_width": 50,
            "show_loading": false,
            "subitems": [],
            "tile_size": 256,
            "tms": false,
            "url": "https://tile.openstreetmap.org/{z}/{x}/{y}.png",
            "visible": true,
            "zoom_offset": 0
          }
        },
        "231829838d4f44fe9bcb43956fec320c": {
          "model_module": "jupyter-leaflet",
          "model_name": "LeafletTileLayerModel",
          "model_module_version": "^0.18",
          "state": {
            "_model_module": "jupyter-leaflet",
            "_model_module_version": "^0.18",
            "_model_name": "LeafletTileLayerModel",
            "_view_count": null,
            "_view_module": "jupyter-leaflet",
            "_view_module_version": "^0.18",
            "_view_name": "LeafletTileLayerView",
            "attribution": "Google Earth Engine",
            "base": false,
            "bottom": true,
            "bounds": null,
            "detect_retina": false,
            "loading": false,
            "max_native_zoom": null,
            "max_zoom": 24,
            "min_native_zoom": null,
            "min_zoom": 0,
            "name": "GEDI L4A Mean AGBD points",
            "no_wrap": false,
            "opacity": 1,
            "options": [
              "attribution",
              "bounds",
              "detect_retina",
              "max_native_zoom",
              "max_zoom",
              "min_native_zoom",
              "min_zoom",
              "no_wrap",
              "tile_size",
              "tms",
              "zoom_offset"
            ],
            "pane": "",
            "popup": null,
            "popup_max_height": null,
            "popup_max_width": 300,
            "popup_min_width": 50,
            "show_loading": false,
            "subitems": [],
            "tile_size": 256,
            "tms": false,
            "url": "https://earthengine.googleapis.com/v1/projects/ee-kamusoko-test/maps/68e40253cbbe67dc223c740c27a57cfa-3c343e8f12972e3723d2e9f9ed1760cc/tiles/{z}/{x}/{y}",
            "visible": true,
            "zoom_offset": 0
          }
        },
        "4a496dc9abaa4d49bd01b1fc0ab63841": {
          "model_module": "jupyter-leaflet",
          "model_name": "LeafletTileLayerModel",
          "model_module_version": "^0.18",
          "state": {
            "_model_module": "jupyter-leaflet",
            "_model_module_version": "^0.18",
            "_model_name": "LeafletTileLayerModel",
            "_view_count": null,
            "_view_module": "jupyter-leaflet",
            "_view_module_version": "^0.18",
            "_view_name": "LeafletTileLayerView",
            "attribution": "Google Earth Engine",
            "base": false,
            "bottom": true,
            "bounds": null,
            "detect_retina": false,
            "loading": false,
            "max_native_zoom": null,
            "max_zoom": 24,
            "min_native_zoom": null,
            "min_zoom": 0,
            "name": "Mean AGBD training points",
            "no_wrap": false,
            "opacity": 1,
            "options": [
              "attribution",
              "bounds",
              "detect_retina",
              "max_native_zoom",
              "max_zoom",
              "min_native_zoom",
              "min_zoom",
              "no_wrap",
              "tile_size",
              "tms",
              "zoom_offset"
            ],
            "pane": "",
            "popup": null,
            "popup_max_height": null,
            "popup_max_width": 300,
            "popup_min_width": 50,
            "show_loading": false,
            "subitems": [],
            "tile_size": 256,
            "tms": false,
            "url": "https://earthengine.googleapis.com/v1/projects/ee-kamusoko-test/maps/5192f43ef276b4c2ddc06c15554bfbef-1bd265c80629b1b4fdd51e88f1e40cd5/tiles/{z}/{x}/{y}",
            "visible": true,
            "zoom_offset": 0
          }
        },
        "34c1759d69544ee6a272a03e74334e4c": {
          "model_module": "@jupyter-widgets/base",
          "model_name": "LayoutModel",
          "model_module_version": "1.2.0",
          "state": {
            "_model_module": "@jupyter-widgets/base",
            "_model_module_version": "1.2.0",
            "_model_name": "LayoutModel",
            "_view_count": null,
            "_view_module": "@jupyter-widgets/base",
            "_view_module_version": "1.2.0",
            "_view_name": "LayoutView",
            "align_content": null,
            "align_items": null,
            "align_self": null,
            "border": null,
            "bottom": null,
            "display": null,
            "flex": null,
            "flex_flow": null,
            "grid_area": null,
            "grid_auto_columns": null,
            "grid_auto_flow": null,
            "grid_auto_rows": null,
            "grid_column": null,
            "grid_gap": null,
            "grid_row": null,
            "grid_template_areas": null,
            "grid_template_columns": null,
            "grid_template_rows": null,
            "height": "600px",
            "justify_content": null,
            "justify_items": null,
            "left": null,
            "margin": null,
            "max_height": null,
            "max_width": null,
            "min_height": null,
            "min_width": null,
            "object_fit": null,
            "object_position": null,
            "order": null,
            "overflow": null,
            "overflow_x": null,
            "overflow_y": null,
            "padding": null,
            "right": null,
            "top": null,
            "visibility": null,
            "width": null
          }
        },
        "4c5947e775014d9d8510af1c38b661da": {
          "model_module": "jupyter-leaflet",
          "model_name": "LeafletMapStyleModel",
          "model_module_version": "^0.18",
          "state": {
            "_model_module": "jupyter-leaflet",
            "_model_module_version": "^0.18",
            "_model_name": "LeafletMapStyleModel",
            "_view_count": null,
            "_view_module": "@jupyter-widgets/base",
            "_view_module_version": "1.2.0",
            "_view_name": "StyleView",
            "cursor": "grab"
          }
        },
        "6033fcfdfc704ea4a1a318245ade2a9f": {
          "model_module": "@jupyter-widgets/controls",
          "model_name": "HBoxModel",
          "model_module_version": "1.5.0",
          "state": {
            "_dom_classes": [
              "geemap-colab"
            ],
            "_model_module": "@jupyter-widgets/controls",
            "_model_module_version": "1.5.0",
            "_model_name": "HBoxModel",
            "_view_count": null,
            "_view_module": "@jupyter-widgets/controls",
            "_view_module_version": "1.5.0",
            "_view_name": "HBoxView",
            "box_style": "",
            "children": [
              "IPY_MODEL_7579c45e49ca49e8a8a3ea788d6edd15"
            ],
            "layout": "IPY_MODEL_213460dba0804a4490588fca5e6393b8"
          }
        },
        "b63a2776979644e59c807b2962c78344": {
          "model_module": "@jupyter-widgets/controls",
          "model_name": "VBoxModel",
          "model_module_version": "1.5.0",
          "state": {
            "_dom_classes": [
              "geemap-colab"
            ],
            "_model_module": "@jupyter-widgets/controls",
            "_model_module_version": "1.5.0",
            "_model_name": "VBoxModel",
            "_view_count": null,
            "_view_module": "@jupyter-widgets/controls",
            "_view_module_version": "1.5.0",
            "_view_name": "VBoxView",
            "box_style": "",
            "children": [
              "IPY_MODEL_29737030daf04acb88f58dc74e5bb0de"
            ],
            "layout": "IPY_MODEL_2056b59b42664fc9ae6156a9eac167be"
          }
        },
        "7579c45e49ca49e8a8a3ea788d6edd15": {
          "model_module": "@jupyter-widgets/controls",
          "model_name": "ToggleButtonModel",
          "model_module_version": "1.5.0",
          "state": {
            "_dom_classes": [],
            "_model_module": "@jupyter-widgets/controls",
            "_model_module_version": "1.5.0",
            "_model_name": "ToggleButtonModel",
            "_view_count": null,
            "_view_module": "@jupyter-widgets/controls",
            "_view_module_version": "1.5.0",
            "_view_name": "ToggleButtonView",
            "button_style": "",
            "description": "",
            "description_tooltip": null,
            "disabled": false,
            "icon": "globe",
            "layout": "IPY_MODEL_7bc95033c3d04b628119b09a9badb313",
            "style": "IPY_MODEL_7d8f5ff2d26f43a997b9cfc1202ee7a6",
            "tooltip": "Search location/data",
            "value": false
          }
        },
        "213460dba0804a4490588fca5e6393b8": {
          "model_module": "@jupyter-widgets/base",
          "model_name": "LayoutModel",
          "model_module_version": "1.2.0",
          "state": {
            "_model_module": "@jupyter-widgets/base",
            "_model_module_version": "1.2.0",
            "_model_name": "LayoutModel",
            "_view_count": null,
            "_view_module": "@jupyter-widgets/base",
            "_view_module_version": "1.2.0",
            "_view_name": "LayoutView",
            "align_content": null,
            "align_items": null,
            "align_self": null,
            "border": null,
            "bottom": null,
            "display": null,
            "flex": null,
            "flex_flow": null,
            "grid_area": null,
            "grid_auto_columns": null,
            "grid_auto_flow": null,
            "grid_auto_rows": null,
            "grid_column": null,
            "grid_gap": null,
            "grid_row": null,
            "grid_template_areas": null,
            "grid_template_columns": null,
            "grid_template_rows": null,
            "height": null,
            "justify_content": null,
            "justify_items": null,
            "left": null,
            "margin": null,
            "max_height": null,
            "max_width": null,
            "min_height": null,
            "min_width": null,
            "object_fit": null,
            "object_position": null,
            "order": null,
            "overflow": null,
            "overflow_x": null,
            "overflow_y": null,
            "padding": null,
            "right": null,
            "top": null,
            "visibility": null,
            "width": null
          }
        },
        "29737030daf04acb88f58dc74e5bb0de": {
          "model_module": "@jupyter-widgets/controls",
          "model_name": "ToggleButtonModel",
          "model_module_version": "1.5.0",
          "state": {
            "_dom_classes": [],
            "_model_module": "@jupyter-widgets/controls",
            "_model_module_version": "1.5.0",
            "_model_name": "ToggleButtonModel",
            "_view_count": null,
            "_view_module": "@jupyter-widgets/controls",
            "_view_module_version": "1.5.0",
            "_view_name": "ToggleButtonView",
            "button_style": "",
            "description": "",
            "description_tooltip": null,
            "disabled": false,
            "icon": "wrench",
            "layout": "IPY_MODEL_0338ae4bdc784a999930167e632745e4",
            "style": "IPY_MODEL_1977f438b2494558ac99b3dbe39292bc",
            "tooltip": "Toolbar",
            "value": false
          }
        },
        "2056b59b42664fc9ae6156a9eac167be": {
          "model_module": "@jupyter-widgets/base",
          "model_name": "LayoutModel",
          "model_module_version": "1.2.0",
          "state": {
            "_model_module": "@jupyter-widgets/base",
            "_model_module_version": "1.2.0",
            "_model_name": "LayoutModel",
            "_view_count": null,
            "_view_module": "@jupyter-widgets/base",
            "_view_module_version": "1.2.0",
            "_view_name": "LayoutView",
            "align_content": null,
            "align_items": null,
            "align_self": null,
            "border": null,
            "bottom": null,
            "display": null,
            "flex": null,
            "flex_flow": null,
            "grid_area": null,
            "grid_auto_columns": null,
            "grid_auto_flow": null,
            "grid_auto_rows": null,
            "grid_column": null,
            "grid_gap": null,
            "grid_row": null,
            "grid_template_areas": null,
            "grid_template_columns": null,
            "grid_template_rows": null,
            "height": null,
            "justify_content": null,
            "justify_items": null,
            "left": null,
            "margin": null,
            "max_height": null,
            "max_width": null,
            "min_height": null,
            "min_width": null,
            "object_fit": null,
            "object_position": null,
            "order": null,
            "overflow": null,
            "overflow_x": null,
            "overflow_y": null,
            "padding": null,
            "right": null,
            "top": null,
            "visibility": null,
            "width": null
          }
        },
        "7bc95033c3d04b628119b09a9badb313": {
          "model_module": "@jupyter-widgets/base",
          "model_name": "LayoutModel",
          "model_module_version": "1.2.0",
          "state": {
            "_model_module": "@jupyter-widgets/base",
            "_model_module_version": "1.2.0",
            "_model_name": "LayoutModel",
            "_view_count": null,
            "_view_module": "@jupyter-widgets/base",
            "_view_module_version": "1.2.0",
            "_view_name": "LayoutView",
            "align_content": null,
            "align_items": null,
            "align_self": null,
            "border": null,
            "bottom": null,
            "display": null,
            "flex": null,
            "flex_flow": null,
            "grid_area": null,
            "grid_auto_columns": null,
            "grid_auto_flow": null,
            "grid_auto_rows": null,
            "grid_column": null,
            "grid_gap": null,
            "grid_row": null,
            "grid_template_areas": null,
            "grid_template_columns": null,
            "grid_template_rows": null,
            "height": "28px",
            "justify_content": null,
            "justify_items": null,
            "left": null,
            "margin": null,
            "max_height": null,
            "max_width": null,
            "min_height": null,
            "min_width": null,
            "object_fit": null,
            "object_position": null,
            "order": null,
            "overflow": null,
            "overflow_x": null,
            "overflow_y": null,
            "padding": "0px 0px 0px 4px",
            "right": null,
            "top": null,
            "visibility": null,
            "width": "28px"
          }
        },
        "7d8f5ff2d26f43a997b9cfc1202ee7a6": {
          "model_module": "@jupyter-widgets/controls",
          "model_name": "DescriptionStyleModel",
          "model_module_version": "1.5.0",
          "state": {
            "_model_module": "@jupyter-widgets/controls",
            "_model_module_version": "1.5.0",
            "_model_name": "DescriptionStyleModel",
            "_view_count": null,
            "_view_module": "@jupyter-widgets/base",
            "_view_module_version": "1.2.0",
            "_view_name": "StyleView",
            "description_width": ""
          }
        },
        "0338ae4bdc784a999930167e632745e4": {
          "model_module": "@jupyter-widgets/base",
          "model_name": "LayoutModel",
          "model_module_version": "1.2.0",
          "state": {
            "_model_module": "@jupyter-widgets/base",
            "_model_module_version": "1.2.0",
            "_model_name": "LayoutModel",
            "_view_count": null,
            "_view_module": "@jupyter-widgets/base",
            "_view_module_version": "1.2.0",
            "_view_name": "LayoutView",
            "align_content": null,
            "align_items": null,
            "align_self": null,
            "border": null,
            "bottom": null,
            "display": null,
            "flex": null,
            "flex_flow": null,
            "grid_area": null,
            "grid_auto_columns": null,
            "grid_auto_flow": null,
            "grid_auto_rows": null,
            "grid_column": null,
            "grid_gap": null,
            "grid_row": null,
            "grid_template_areas": null,
            "grid_template_columns": null,
            "grid_template_rows": null,
            "height": "28px",
            "justify_content": null,
            "justify_items": null,
            "left": null,
            "margin": null,
            "max_height": null,
            "max_width": null,
            "min_height": null,
            "min_width": null,
            "object_fit": null,
            "object_position": null,
            "order": null,
            "overflow": null,
            "overflow_x": null,
            "overflow_y": null,
            "padding": "0px 0px 0px 4px",
            "right": null,
            "top": null,
            "visibility": null,
            "width": "28px"
          }
        },
        "1977f438b2494558ac99b3dbe39292bc": {
          "model_module": "@jupyter-widgets/controls",
          "model_name": "DescriptionStyleModel",
          "model_module_version": "1.5.0",
          "state": {
            "_model_module": "@jupyter-widgets/controls",
            "_model_module_version": "1.5.0",
            "_model_name": "DescriptionStyleModel",
            "_view_count": null,
            "_view_module": "@jupyter-widgets/base",
            "_view_module_version": "1.2.0",
            "_view_name": "StyleView",
            "description_width": ""
          }
        },
        "b32b7e00ed1448978bf83988e59763a8": {
          "model_module": "jupyter-leaflet",
          "model_name": "LeafletMapModel",
          "model_module_version": "^0.18",
          "state": {
            "_dom_classes": [],
            "_model_module": "jupyter-leaflet",
            "_model_module_version": "^0.18",
            "_model_name": "LeafletMapModel",
            "_view_count": null,
            "_view_module": "jupyter-leaflet",
            "_view_module_version": "^0.18",
            "_view_name": "LeafletMapView",
            "bottom": 579238,
            "bounce_at_zoom_limits": true,
            "box_zoom": true,
            "center": [
              -18.435970448824882,
              28.869152069091797
            ],
            "close_popup_on_click": true,
            "controls": [
              "IPY_MODEL_62bd9c1428f04954a2c110506a3557fc",
              "IPY_MODEL_2476ff28168c4b3aa280f4b77f9379f7",
              "IPY_MODEL_faa4b423f51f40a5856a2933f1369b01",
              "IPY_MODEL_57a69cfe057843078a5ec5c11134384a",
              "IPY_MODEL_72623e97a6954dcda23f6aef9580155d",
              "IPY_MODEL_c28550bbc8bb495ba9516f59e7a8f863",
              "IPY_MODEL_c05663ab91b14601b69562899e54233b",
              "IPY_MODEL_2514ba3b4e134b988f005c83c87718ed",
              "IPY_MODEL_503de1efd4f44ae8b6155f2663d773fc"
            ],
            "crs": {
              "name": "EPSG3857",
              "custom": false
            },
            "default_style": "IPY_MODEL_ae4e5927032849f4b5902be3a2c0f836",
            "double_click_zoom": true,
            "dragging": true,
            "dragging_style": "IPY_MODEL_af92700c7495460abd7d1f1e78ac3a83",
            "east": 29.16732788085938,
            "fullscreen": false,
            "inertia": true,
            "inertia_deceleration": 3000,
            "inertia_max_speed": 1500,
            "interpolation": "bilinear",
            "keyboard": true,
            "keyboard_pan_offset": 80,
            "keyboard_zoom_offset": 1,
            "layers": [
              "IPY_MODEL_d1671d3754d149bfbc09bac0cbf377fa",
              "IPY_MODEL_735ebe772e1a40b2a442f4d149119c76"
            ],
            "layout": "IPY_MODEL_0cae2a711bbc48d3b2eb241fc6de45b7",
            "left": 607507,
            "max_zoom": 24,
            "min_zoom": null,
            "modisdate": "2024-06-26",
            "north": -18.338231929080106,
            "options": [
              "bounce_at_zoom_limits",
              "box_zoom",
              "center",
              "close_popup_on_click",
              "double_click_zoom",
              "dragging",
              "fullscreen",
              "inertia",
              "inertia_deceleration",
              "inertia_max_speed",
              "interpolation",
              "keyboard",
              "keyboard_pan_offset",
              "keyboard_zoom_offset",
              "max_zoom",
              "min_zoom",
              "prefer_canvas",
              "scroll_wheel_zoom",
              "tap",
              "tap_tolerance",
              "touch_zoom",
              "world_copy_jump",
              "zoom",
              "zoom_animation_threshold",
              "zoom_delta",
              "zoom_snap"
            ],
            "panes": {},
            "prefer_canvas": false,
            "right": 609244,
            "scroll_wheel_zoom": true,
            "south": -18.533653420823576,
            "style": "IPY_MODEL_ae4e5927032849f4b5902be3a2c0f836",
            "tap": true,
            "tap_tolerance": 15,
            "top": 578638,
            "touch_zoom": true,
            "west": 28.570976257324222,
            "window_url": "https://it1qnzzu0yh-496ff2e9c6d22116-0-colab.googleusercontent.com/outputframe.html?vrz=colab_20240625-060120_RC01_646520897",
            "world_copy_jump": false,
            "zoom": 12,
            "zoom_animation_threshold": 4,
            "zoom_delta": 1,
            "zoom_snap": 1
          }
        },
        "62bd9c1428f04954a2c110506a3557fc": {
          "model_module": "jupyter-leaflet",
          "model_name": "LeafletWidgetControlModel",
          "model_module_version": "^0.18",
          "state": {
            "_model_module": "jupyter-leaflet",
            "_model_module_version": "^0.18",
            "_model_name": "LeafletWidgetControlModel",
            "_view_count": null,
            "_view_module": "jupyter-leaflet",
            "_view_module_version": "^0.18",
            "_view_name": "LeafletWidgetControlView",
            "max_height": null,
            "max_width": null,
            "min_height": null,
            "min_width": null,
            "options": [
              "position",
              "transparent_bg"
            ],
            "position": "topleft",
            "transparent_bg": false,
            "widget": "IPY_MODEL_63dcaeec54834342ba510557d2ca0f1a"
          }
        },
        "2476ff28168c4b3aa280f4b77f9379f7": {
          "model_module": "jupyter-leaflet",
          "model_name": "LeafletZoomControlModel",
          "model_module_version": "^0.18",
          "state": {
            "_model_module": "jupyter-leaflet",
            "_model_module_version": "^0.18",
            "_model_name": "LeafletZoomControlModel",
            "_view_count": null,
            "_view_module": "jupyter-leaflet",
            "_view_module_version": "^0.18",
            "_view_name": "LeafletZoomControlView",
            "options": [
              "position",
              "zoom_in_text",
              "zoom_in_title",
              "zoom_out_text",
              "zoom_out_title"
            ],
            "position": "topleft",
            "zoom_in_text": "+",
            "zoom_in_title": "Zoom in",
            "zoom_out_text": "-",
            "zoom_out_title": "Zoom out"
          }
        },
        "faa4b423f51f40a5856a2933f1369b01": {
          "model_module": "jupyter-leaflet",
          "model_name": "LeafletFullScreenControlModel",
          "model_module_version": "^0.18",
          "state": {
            "_model_module": "jupyter-leaflet",
            "_model_module_version": "^0.18",
            "_model_name": "LeafletFullScreenControlModel",
            "_view_count": null,
            "_view_module": "jupyter-leaflet",
            "_view_module_version": "^0.18",
            "_view_name": "LeafletFullScreenControlView",
            "options": [
              "position"
            ],
            "position": "topleft"
          }
        },
        "57a69cfe057843078a5ec5c11134384a": {
          "model_module": "jupyter-leaflet",
          "model_name": "LeafletDrawControlModel",
          "model_module_version": "^0.18",
          "state": {
            "_model_module": "jupyter-leaflet",
            "_model_module_version": "^0.18",
            "_model_name": "LeafletDrawControlModel",
            "_view_count": null,
            "_view_module": "jupyter-leaflet",
            "_view_module_version": "^0.18",
            "_view_name": "LeafletDrawControlView",
            "circle": {},
            "circlemarker": {},
            "data": [],
            "edit": true,
            "marker": {
              "shapeOptions": {
                "color": "#3388ff"
              }
            },
            "options": [
              "position"
            ],
            "polygon": {
              "shapeOptions": {}
            },
            "polyline": {
              "shapeOptions": {}
            },
            "position": "topleft",
            "rectangle": {
              "shapeOptions": {
                "color": "#3388ff"
              }
            },
            "remove": true
          }
        },
        "72623e97a6954dcda23f6aef9580155d": {
          "model_module": "jupyter-leaflet",
          "model_name": "LeafletScaleControlModel",
          "model_module_version": "^0.18",
          "state": {
            "_model_module": "jupyter-leaflet",
            "_model_module_version": "^0.18",
            "_model_name": "LeafletScaleControlModel",
            "_view_count": null,
            "_view_module": "jupyter-leaflet",
            "_view_module_version": "^0.18",
            "_view_name": "LeafletScaleControlView",
            "imperial": true,
            "max_width": 100,
            "metric": true,
            "options": [
              "imperial",
              "max_width",
              "metric",
              "position",
              "update_when_idle"
            ],
            "position": "bottomleft",
            "update_when_idle": false
          }
        },
        "c28550bbc8bb495ba9516f59e7a8f863": {
          "model_module": "jupyter-leaflet",
          "model_name": "LeafletMeasureControlModel",
          "model_module_version": "^0.18",
          "state": {
            "_custom_units": {},
            "_model_module": "jupyter-leaflet",
            "_model_module_version": "^0.18",
            "_model_name": "LeafletMeasureControlModel",
            "_view_count": null,
            "_view_module": "jupyter-leaflet",
            "_view_module_version": "^0.18",
            "_view_name": "LeafletMeasureControlView",
            "active_color": "orange",
            "capture_z_index": 10000,
            "completed_color": "#C8F2BE",
            "options": [
              "active_color",
              "capture_z_index",
              "completed_color",
              "popup_options",
              "position",
              "primary_area_unit",
              "primary_length_unit",
              "secondary_area_unit",
              "secondary_length_unit"
            ],
            "popup_options": {
              "className": "leaflet-measure-resultpopup",
              "autoPanPadding": [
                10,
                10
              ]
            },
            "position": "bottomleft",
            "primary_area_unit": "acres",
            "primary_length_unit": "kilometers",
            "secondary_area_unit": null,
            "secondary_length_unit": null
          }
        },
        "c05663ab91b14601b69562899e54233b": {
          "model_module": "jupyter-leaflet",
          "model_name": "LeafletWidgetControlModel",
          "model_module_version": "^0.18",
          "state": {
            "_model_module": "jupyter-leaflet",
            "_model_module_version": "^0.18",
            "_model_name": "LeafletWidgetControlModel",
            "_view_count": null,
            "_view_module": "jupyter-leaflet",
            "_view_module_version": "^0.18",
            "_view_name": "LeafletWidgetControlView",
            "max_height": null,
            "max_width": null,
            "min_height": null,
            "min_width": null,
            "options": [
              "position",
              "transparent_bg"
            ],
            "position": "topright",
            "transparent_bg": false,
            "widget": "IPY_MODEL_95526f2eaeaf4e0ba7577c57e0bba023"
          }
        },
        "2514ba3b4e134b988f005c83c87718ed": {
          "model_module": "jupyter-leaflet",
          "model_name": "LeafletAttributionControlModel",
          "model_module_version": "^0.18",
          "state": {
            "_model_module": "jupyter-leaflet",
            "_model_module_version": "^0.18",
            "_model_name": "LeafletAttributionControlModel",
            "_view_count": null,
            "_view_module": "jupyter-leaflet",
            "_view_module_version": "^0.18",
            "_view_name": "LeafletAttributionControlView",
            "options": [
              "position",
              "prefix"
            ],
            "position": "bottomright",
            "prefix": "ipyleaflet"
          }
        },
        "503de1efd4f44ae8b6155f2663d773fc": {
          "model_module": "jupyter-leaflet",
          "model_name": "LeafletWidgetControlModel",
          "model_module_version": "^0.18",
          "state": {
            "_model_module": "jupyter-leaflet",
            "_model_module_version": "^0.18",
            "_model_name": "LeafletWidgetControlModel",
            "_view_count": null,
            "_view_module": "jupyter-leaflet",
            "_view_module_version": "^0.18",
            "_view_name": "LeafletWidgetControlView",
            "max_height": null,
            "max_width": null,
            "min_height": null,
            "min_width": null,
            "options": [
              "position",
              "transparent_bg"
            ],
            "position": "bottomright",
            "transparent_bg": false,
            "widget": "IPY_MODEL_b99ea47e4f4141ab87868c5a39b5162d"
          }
        },
        "ae4e5927032849f4b5902be3a2c0f836": {
          "model_module": "jupyter-leaflet",
          "model_name": "LeafletMapStyleModel",
          "model_module_version": "^0.18",
          "state": {
            "_model_module": "jupyter-leaflet",
            "_model_module_version": "^0.18",
            "_model_name": "LeafletMapStyleModel",
            "_view_count": null,
            "_view_module": "@jupyter-widgets/base",
            "_view_module_version": "1.2.0",
            "_view_name": "StyleView",
            "cursor": "grab"
          }
        },
        "af92700c7495460abd7d1f1e78ac3a83": {
          "model_module": "jupyter-leaflet",
          "model_name": "LeafletMapStyleModel",
          "model_module_version": "^0.18",
          "state": {
            "_model_module": "jupyter-leaflet",
            "_model_module_version": "^0.18",
            "_model_name": "LeafletMapStyleModel",
            "_view_count": null,
            "_view_module": "@jupyter-widgets/base",
            "_view_module_version": "1.2.0",
            "_view_name": "StyleView",
            "cursor": "move"
          }
        },
        "d1671d3754d149bfbc09bac0cbf377fa": {
          "model_module": "jupyter-leaflet",
          "model_name": "LeafletTileLayerModel",
          "model_module_version": "^0.18",
          "state": {
            "_model_module": "jupyter-leaflet",
            "_model_module_version": "^0.18",
            "_model_name": "LeafletTileLayerModel",
            "_view_count": null,
            "_view_module": "jupyter-leaflet",
            "_view_module_version": "^0.18",
            "_view_name": "LeafletTileLayerView",
            "attribution": "&copy; <a href=\"https://www.openstreetmap.org/copyright\">OpenStreetMap</a> contributors",
            "base": true,
            "bottom": true,
            "bounds": null,
            "detect_retina": false,
            "loading": false,
            "max_native_zoom": null,
            "max_zoom": 19,
            "min_native_zoom": null,
            "min_zoom": 1,
            "name": "OpenStreetMap.Mapnik",
            "no_wrap": false,
            "opacity": 1,
            "options": [
              "attribution",
              "bounds",
              "detect_retina",
              "max_native_zoom",
              "max_zoom",
              "min_native_zoom",
              "min_zoom",
              "no_wrap",
              "tile_size",
              "tms",
              "zoom_offset"
            ],
            "pane": "",
            "popup": null,
            "popup_max_height": null,
            "popup_max_width": 300,
            "popup_min_width": 50,
            "show_loading": false,
            "subitems": [],
            "tile_size": 256,
            "tms": false,
            "url": "https://tile.openstreetmap.org/{z}/{x}/{y}.png",
            "visible": true,
            "zoom_offset": 0
          }
        },
        "735ebe772e1a40b2a442f4d149119c76": {
          "model_module": "jupyter-leaflet",
          "model_name": "LeafletTileLayerModel",
          "model_module_version": "^0.18",
          "state": {
            "_model_module": "jupyter-leaflet",
            "_model_module_version": "^0.18",
            "_model_name": "LeafletTileLayerModel",
            "_view_count": null,
            "_view_module": "jupyter-leaflet",
            "_view_module_version": "^0.18",
            "_view_name": "LeafletTileLayerView",
            "attribution": "Google Earth Engine",
            "base": false,
            "bottom": true,
            "bounds": null,
            "detect_retina": false,
            "loading": false,
            "max_native_zoom": null,
            "max_zoom": 24,
            "min_native_zoom": null,
            "min_zoom": 0,
            "name": "AGBD map",
            "no_wrap": false,
            "opacity": 1,
            "options": [
              "attribution",
              "bounds",
              "detect_retina",
              "max_native_zoom",
              "max_zoom",
              "min_native_zoom",
              "min_zoom",
              "no_wrap",
              "tile_size",
              "tms",
              "zoom_offset"
            ],
            "pane": "",
            "popup": null,
            "popup_max_height": null,
            "popup_max_width": 300,
            "popup_min_width": 50,
            "show_loading": false,
            "subitems": [],
            "tile_size": 256,
            "tms": false,
            "url": "https://earthengine.googleapis.com/v1/projects/ee-kamusoko-test/maps/770f97b95606a37c173353a3be38c782-8969ae44b31ebddaefa4c0b18868f626/tiles/{z}/{x}/{y}",
            "visible": true,
            "zoom_offset": 0
          }
        },
        "0cae2a711bbc48d3b2eb241fc6de45b7": {
          "model_module": "@jupyter-widgets/base",
          "model_name": "LayoutModel",
          "model_module_version": "1.2.0",
          "state": {
            "_model_module": "@jupyter-widgets/base",
            "_model_module_version": "1.2.0",
            "_model_name": "LayoutModel",
            "_view_count": null,
            "_view_module": "@jupyter-widgets/base",
            "_view_module_version": "1.2.0",
            "_view_name": "LayoutView",
            "align_content": null,
            "align_items": null,
            "align_self": null,
            "border": null,
            "bottom": null,
            "display": null,
            "flex": null,
            "flex_flow": null,
            "grid_area": null,
            "grid_auto_columns": null,
            "grid_auto_flow": null,
            "grid_auto_rows": null,
            "grid_column": null,
            "grid_gap": null,
            "grid_row": null,
            "grid_template_areas": null,
            "grid_template_columns": null,
            "grid_template_rows": null,
            "height": "600px",
            "justify_content": null,
            "justify_items": null,
            "left": null,
            "margin": null,
            "max_height": null,
            "max_width": null,
            "min_height": null,
            "min_width": null,
            "object_fit": null,
            "object_position": null,
            "order": null,
            "overflow": null,
            "overflow_x": null,
            "overflow_y": null,
            "padding": null,
            "right": null,
            "top": null,
            "visibility": null,
            "width": null
          }
        },
        "8808a2d7379b49a39c338b648e29be2e": {
          "model_module": "jupyter-leaflet",
          "model_name": "LeafletMapStyleModel",
          "model_module_version": "^0.18",
          "state": {
            "_model_module": "jupyter-leaflet",
            "_model_module_version": "^0.18",
            "_model_name": "LeafletMapStyleModel",
            "_view_count": null,
            "_view_module": "@jupyter-widgets/base",
            "_view_module_version": "1.2.0",
            "_view_name": "StyleView",
            "cursor": "grab"
          }
        },
        "63dcaeec54834342ba510557d2ca0f1a": {
          "model_module": "@jupyter-widgets/controls",
          "model_name": "HBoxModel",
          "model_module_version": "1.5.0",
          "state": {
            "_dom_classes": [
              "geemap-colab"
            ],
            "_model_module": "@jupyter-widgets/controls",
            "_model_module_version": "1.5.0",
            "_model_name": "HBoxModel",
            "_view_count": null,
            "_view_module": "@jupyter-widgets/controls",
            "_view_module_version": "1.5.0",
            "_view_name": "HBoxView",
            "box_style": "",
            "children": [
              "IPY_MODEL_6dd89dd3160b4c96b54105635f8450d3"
            ],
            "layout": "IPY_MODEL_553512dc06814e48a0a366383f0a6c16"
          }
        },
        "95526f2eaeaf4e0ba7577c57e0bba023": {
          "model_module": "@jupyter-widgets/controls",
          "model_name": "VBoxModel",
          "model_module_version": "1.5.0",
          "state": {
            "_dom_classes": [
              "geemap-colab"
            ],
            "_model_module": "@jupyter-widgets/controls",
            "_model_module_version": "1.5.0",
            "_model_name": "VBoxModel",
            "_view_count": null,
            "_view_module": "@jupyter-widgets/controls",
            "_view_module_version": "1.5.0",
            "_view_name": "VBoxView",
            "box_style": "",
            "children": [
              "IPY_MODEL_230c49e4a1dc45988dda0718dc75415c"
            ],
            "layout": "IPY_MODEL_e247035e334b4d77ae8ad602fbf91e4a"
          }
        },
        "b99ea47e4f4141ab87868c5a39b5162d": {
          "model_module": "@jupyter-widgets/output",
          "model_name": "OutputModel",
          "model_module_version": "1.0.0",
          "state": {
            "_dom_classes": [
              "geemap-colab"
            ],
            "_model_module": "@jupyter-widgets/output",
            "_model_module_version": "1.0.0",
            "_model_name": "OutputModel",
            "_view_count": null,
            "_view_module": "@jupyter-widgets/output",
            "_view_module_version": "1.0.0",
            "_view_name": "OutputView",
            "layout": "IPY_MODEL_1335c8e2a675468d8458bff8c32bae4d",
            "msg_id": "",
            "outputs": [
              {
                "output_type": "display_data",
                "data": {
                  "text/plain": "<Figure size 300x30 with 1 Axes>",
                  "image/png": "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\n"
                },
                "metadata": {}
              }
            ]
          }
        },
        "6dd89dd3160b4c96b54105635f8450d3": {
          "model_module": "@jupyter-widgets/controls",
          "model_name": "ToggleButtonModel",
          "model_module_version": "1.5.0",
          "state": {
            "_dom_classes": [],
            "_model_module": "@jupyter-widgets/controls",
            "_model_module_version": "1.5.0",
            "_model_name": "ToggleButtonModel",
            "_view_count": null,
            "_view_module": "@jupyter-widgets/controls",
            "_view_module_version": "1.5.0",
            "_view_name": "ToggleButtonView",
            "button_style": "",
            "description": "",
            "description_tooltip": null,
            "disabled": false,
            "icon": "globe",
            "layout": "IPY_MODEL_62cbf6bf1edd4bad917653b6d90a7e72",
            "style": "IPY_MODEL_a146e659a7e74171ba13d1a04eaee6ac",
            "tooltip": "Search location/data",
            "value": false
          }
        },
        "553512dc06814e48a0a366383f0a6c16": {
          "model_module": "@jupyter-widgets/base",
          "model_name": "LayoutModel",
          "model_module_version": "1.2.0",
          "state": {
            "_model_module": "@jupyter-widgets/base",
            "_model_module_version": "1.2.0",
            "_model_name": "LayoutModel",
            "_view_count": null,
            "_view_module": "@jupyter-widgets/base",
            "_view_module_version": "1.2.0",
            "_view_name": "LayoutView",
            "align_content": null,
            "align_items": null,
            "align_self": null,
            "border": null,
            "bottom": null,
            "display": null,
            "flex": null,
            "flex_flow": null,
            "grid_area": null,
            "grid_auto_columns": null,
            "grid_auto_flow": null,
            "grid_auto_rows": null,
            "grid_column": null,
            "grid_gap": null,
            "grid_row": null,
            "grid_template_areas": null,
            "grid_template_columns": null,
            "grid_template_rows": null,
            "height": null,
            "justify_content": null,
            "justify_items": null,
            "left": null,
            "margin": null,
            "max_height": null,
            "max_width": null,
            "min_height": null,
            "min_width": null,
            "object_fit": null,
            "object_position": null,
            "order": null,
            "overflow": null,
            "overflow_x": null,
            "overflow_y": null,
            "padding": null,
            "right": null,
            "top": null,
            "visibility": null,
            "width": null
          }
        },
        "230c49e4a1dc45988dda0718dc75415c": {
          "model_module": "@jupyter-widgets/controls",
          "model_name": "ToggleButtonModel",
          "model_module_version": "1.5.0",
          "state": {
            "_dom_classes": [],
            "_model_module": "@jupyter-widgets/controls",
            "_model_module_version": "1.5.0",
            "_model_name": "ToggleButtonModel",
            "_view_count": null,
            "_view_module": "@jupyter-widgets/controls",
            "_view_module_version": "1.5.0",
            "_view_name": "ToggleButtonView",
            "button_style": "",
            "description": "",
            "description_tooltip": null,
            "disabled": false,
            "icon": "wrench",
            "layout": "IPY_MODEL_81173c81ceb04e3291fe35b0baa90ef9",
            "style": "IPY_MODEL_3c2f239aa30541669fc90b17548872ea",
            "tooltip": "Toolbar",
            "value": false
          }
        },
        "e247035e334b4d77ae8ad602fbf91e4a": {
          "model_module": "@jupyter-widgets/base",
          "model_name": "LayoutModel",
          "model_module_version": "1.2.0",
          "state": {
            "_model_module": "@jupyter-widgets/base",
            "_model_module_version": "1.2.0",
            "_model_name": "LayoutModel",
            "_view_count": null,
            "_view_module": "@jupyter-widgets/base",
            "_view_module_version": "1.2.0",
            "_view_name": "LayoutView",
            "align_content": null,
            "align_items": null,
            "align_self": null,
            "border": null,
            "bottom": null,
            "display": null,
            "flex": null,
            "flex_flow": null,
            "grid_area": null,
            "grid_auto_columns": null,
            "grid_auto_flow": null,
            "grid_auto_rows": null,
            "grid_column": null,
            "grid_gap": null,
            "grid_row": null,
            "grid_template_areas": null,
            "grid_template_columns": null,
            "grid_template_rows": null,
            "height": null,
            "justify_content": null,
            "justify_items": null,
            "left": null,
            "margin": null,
            "max_height": null,
            "max_width": null,
            "min_height": null,
            "min_width": null,
            "object_fit": null,
            "object_position": null,
            "order": null,
            "overflow": null,
            "overflow_x": null,
            "overflow_y": null,
            "padding": null,
            "right": null,
            "top": null,
            "visibility": null,
            "width": null
          }
        },
        "1335c8e2a675468d8458bff8c32bae4d": {
          "model_module": "@jupyter-widgets/base",
          "model_name": "LayoutModel",
          "model_module_version": "1.2.0",
          "state": {
            "_model_module": "@jupyter-widgets/base",
            "_model_module_version": "1.2.0",
            "_model_name": "LayoutModel",
            "_view_count": null,
            "_view_module": "@jupyter-widgets/base",
            "_view_module_version": "1.2.0",
            "_view_name": "LayoutView",
            "align_content": null,
            "align_items": null,
            "align_self": null,
            "border": null,
            "bottom": null,
            "display": null,
            "flex": null,
            "flex_flow": null,
            "grid_area": null,
            "grid_auto_columns": null,
            "grid_auto_flow": null,
            "grid_auto_rows": null,
            "grid_column": null,
            "grid_gap": null,
            "grid_row": null,
            "grid_template_areas": null,
            "grid_template_columns": null,
            "grid_template_rows": null,
            "height": null,
            "justify_content": null,
            "justify_items": null,
            "left": null,
            "margin": null,
            "max_height": null,
            "max_width": null,
            "min_height": null,
            "min_width": null,
            "object_fit": null,
            "object_position": null,
            "order": null,
            "overflow": null,
            "overflow_x": null,
            "overflow_y": null,
            "padding": null,
            "right": null,
            "top": null,
            "visibility": null,
            "width": "270px"
          }
        },
        "62cbf6bf1edd4bad917653b6d90a7e72": {
          "model_module": "@jupyter-widgets/base",
          "model_name": "LayoutModel",
          "model_module_version": "1.2.0",
          "state": {
            "_model_module": "@jupyter-widgets/base",
            "_model_module_version": "1.2.0",
            "_model_name": "LayoutModel",
            "_view_count": null,
            "_view_module": "@jupyter-widgets/base",
            "_view_module_version": "1.2.0",
            "_view_name": "LayoutView",
            "align_content": null,
            "align_items": null,
            "align_self": null,
            "border": null,
            "bottom": null,
            "display": null,
            "flex": null,
            "flex_flow": null,
            "grid_area": null,
            "grid_auto_columns": null,
            "grid_auto_flow": null,
            "grid_auto_rows": null,
            "grid_column": null,
            "grid_gap": null,
            "grid_row": null,
            "grid_template_areas": null,
            "grid_template_columns": null,
            "grid_template_rows": null,
            "height": "28px",
            "justify_content": null,
            "justify_items": null,
            "left": null,
            "margin": null,
            "max_height": null,
            "max_width": null,
            "min_height": null,
            "min_width": null,
            "object_fit": null,
            "object_position": null,
            "order": null,
            "overflow": null,
            "overflow_x": null,
            "overflow_y": null,
            "padding": "0px 0px 0px 4px",
            "right": null,
            "top": null,
            "visibility": null,
            "width": "28px"
          }
        },
        "a146e659a7e74171ba13d1a04eaee6ac": {
          "model_module": "@jupyter-widgets/controls",
          "model_name": "DescriptionStyleModel",
          "model_module_version": "1.5.0",
          "state": {
            "_model_module": "@jupyter-widgets/controls",
            "_model_module_version": "1.5.0",
            "_model_name": "DescriptionStyleModel",
            "_view_count": null,
            "_view_module": "@jupyter-widgets/base",
            "_view_module_version": "1.2.0",
            "_view_name": "StyleView",
            "description_width": ""
          }
        },
        "81173c81ceb04e3291fe35b0baa90ef9": {
          "model_module": "@jupyter-widgets/base",
          "model_name": "LayoutModel",
          "model_module_version": "1.2.0",
          "state": {
            "_model_module": "@jupyter-widgets/base",
            "_model_module_version": "1.2.0",
            "_model_name": "LayoutModel",
            "_view_count": null,
            "_view_module": "@jupyter-widgets/base",
            "_view_module_version": "1.2.0",
            "_view_name": "LayoutView",
            "align_content": null,
            "align_items": null,
            "align_self": null,
            "border": null,
            "bottom": null,
            "display": null,
            "flex": null,
            "flex_flow": null,
            "grid_area": null,
            "grid_auto_columns": null,
            "grid_auto_flow": null,
            "grid_auto_rows": null,
            "grid_column": null,
            "grid_gap": null,
            "grid_row": null,
            "grid_template_areas": null,
            "grid_template_columns": null,
            "grid_template_rows": null,
            "height": "28px",
            "justify_content": null,
            "justify_items": null,
            "left": null,
            "margin": null,
            "max_height": null,
            "max_width": null,
            "min_height": null,
            "min_width": null,
            "object_fit": null,
            "object_position": null,
            "order": null,
            "overflow": null,
            "overflow_x": null,
            "overflow_y": null,
            "padding": "0px 0px 0px 4px",
            "right": null,
            "top": null,
            "visibility": null,
            "width": "28px"
          }
        },
        "3c2f239aa30541669fc90b17548872ea": {
          "model_module": "@jupyter-widgets/controls",
          "model_name": "DescriptionStyleModel",
          "model_module_version": "1.5.0",
          "state": {
            "_model_module": "@jupyter-widgets/controls",
            "_model_module_version": "1.5.0",
            "_model_name": "DescriptionStyleModel",
            "_view_count": null,
            "_view_module": "@jupyter-widgets/base",
            "_view_module_version": "1.2.0",
            "_view_name": "StyleView",
            "description_width": ""
          }
        }
      }
    }
  },
  "nbformat": 4,
  "nbformat_minor": 0
}